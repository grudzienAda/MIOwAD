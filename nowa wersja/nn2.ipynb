{
 "cells": [
  {
   "cell_type": "markdown",
   "metadata": {},
   "source": [
    "# NN2: Implementacja propagacji wstecznej błędu\n",
    "Adrianna Grudzień "
   ]
  },
  {
   "cell_type": "markdown",
   "metadata": {},
   "source": [
    "### Import"
   ]
  },
  {
   "cell_type": "code",
   "execution_count": 1,
   "metadata": {},
   "outputs": [],
   "source": [
    "import numpy as np\n",
    "import pandas as pd\n",
    "import matplotlib.pyplot as plt\n",
    "from sklearn import metrics"
   ]
  },
  {
   "cell_type": "markdown",
   "metadata": {},
   "source": [
    "### Wczytanie danych"
   ]
  },
  {
   "cell_type": "code",
   "execution_count": 188,
   "metadata": {},
   "outputs": [],
   "source": [
    "sq_train = pd.read_csv(\"../mio1/regression/square-simple-training.csv\", index_col=0)\n",
    "sq_test = pd.read_csv(\"../mio1/regression/square-simple-test.csv\", index_col=0)\n",
    "x = np.transpose(np.matrix(sq_train['x']))\n",
    "y_true = np.transpose(np.matrix(sq_test['y']))\n",
    "# x = x[:10]\n",
    "# y_true = y_true[:10]"
   ]
  },
  {
   "cell_type": "markdown",
   "metadata": {},
   "source": [
    "### Funkcja aktywacji"
   ]
  },
  {
   "cell_type": "code",
   "execution_count": 3,
   "metadata": {},
   "outputs": [],
   "source": [
    "def sigmoid(x):\n",
    "    return 1 / (1 + np.exp(-x))\n",
    "def sigmoid_derivative(x):\n",
    "    return np.exp(-x) / (1 + np.exp(-x))**2"
   ]
  },
  {
   "cell_type": "markdown",
   "metadata": {},
   "source": [
    "### Definicja sieci MLP"
   ]
  },
  {
   "cell_type": "markdown",
   "metadata": {},
   "source": [
    "-`np.multiply` mnoży wektory po każdym elemencie"
   ]
  },
  {
   "cell_type": "code",
   "execution_count": 203,
   "metadata": {},
   "outputs": [],
   "source": [
    "class MLP:\n",
    "    def __init__(self, input_layer_size=[100,1], layers_sizes=[100,3,1], activ_fun=sigmoid):\n",
    "        self.input_layer_size = input_layer_size\n",
    "        self.layers_sizes = layers_sizes # wszystkie warstwy poza pierwszą\n",
    "        self.activ_fun = activ_fun\n",
    "        self.number_of_layers = len(layers_sizes)+1 # liczba wszystkich warstw\n",
    "        self._initialize_weights_and_biases()\n",
    "        \n",
    "    def _initialize_weights_and_biases(self, min_val=-0.5, max_val=0.5):\n",
    "        self.weights = [np.random.uniform(min_val, max_val, \n",
    "                                          size=[self.input_layer_size[1], self.layers_sizes[0]])]\n",
    "        self.biases = []   \n",
    "        for i in range(len(self.layers_sizes)-1):\n",
    "            self.weights.append(np.random.uniform(min_val, max_val, \n",
    "                                                  size=[self.layers_sizes[i], self.layers_sizes[i+1]]))\n",
    "            self.biases.append(np.random.uniform(min_val, max_val, size=self.layers_sizes[i]))\n",
    "        self.biases.append(np.random.uniform(min_val, max_val, \n",
    "                                             size=self.layers_sizes[len(self.layers_sizes)-1]))\n",
    "        \n",
    "    @staticmethod # wywołuje się bezpośrednio na obiekcie\n",
    "    def mse(y_pred, y_true):\n",
    "        \"\"\"Funkcja kosztu C.\"\"\"\n",
    "        return np.mean(np.square(y_pred-y_true))\n",
    "    @staticmethod\n",
    "    def sigmoid_derivative(x):\n",
    "        return np.exp(-x) / np.square(1 + np.exp(-x))\n",
    "        \n",
    "    def forward(self, x):\n",
    "        self.active = [x] # wektor wartości aktywowanych - a^l\n",
    "        self.inactive = [x] # nieaktywowane - z^l\n",
    "        for i in range(len(self.weights)):\n",
    "            z = np.sum(self.active[i] @ self.weights[i]) + self.biases[i]\n",
    "            a = self.activ_fun(z)\n",
    "            self.inactive.append(z)\n",
    "            self.active.append(a)\n",
    "        return self.active[-1]\n",
    "    \n",
    "    def backpropagate(self, y_pred, y_true):\n",
    "        \"\"\"y_pred ~= aL\"\"\"\n",
    "        delta_biases = [np.zeros(b.shape) for b in self.biases]\n",
    "        delta_weigths = [np.zeros(w.shape) for w in self.weights]\n",
    "        \n",
    "        print(y_pred.shape, y_true.shape)\n",
    "        print((y_pred - y_true).shape, (MLP.sigmoid_derivative(self.inactive[-1])).shape)\n",
    "        delta = np.multiply(y_pred - y_true, MLP.sigmoid_derivative(self.inactive[-1])).transpose() # dla ostatniej warstwy - L\n",
    "        print(delta.shape)\n",
    "        delta_biases[-1] = delta\n",
    "        print(self.active[-2], delta.shape)\n",
    "        delta_weigths[-1] = self.active[-2] @ delta.transpose()\n",
    "        for l in range(self.number_of_layers-2, -1, -1): #dla warstw (L-1,...,0)\n",
    "            delta = np.multiply(self.weights[l] @ delta, MLP.sigmoid_derivative(self.inactive[l]).transpose())\n",
    "            delta_biases[l] = delta\n",
    "            delta_weigths[l] = self.active[l-1].transpose() @ delta.transpose()\n",
    "        \n",
    "            \n",
    "#         for i in delta_weigths:\n",
    "#             print(i.shape)\n",
    "#         print()\n",
    "#         for i in self.inactive:\n",
    "#             print(i.shape)\n",
    "#         return (delta_weigths, delta_biases)\n",
    "    \n",
    "    def fit(self, x, y_true):\n",
    "        y_pred = self.forward(x)\n",
    "        self.backpropagate(y_pred, y_true)\n",
    "        "
   ]
  },
  {
   "cell_type": "code",
   "execution_count": 204,
   "metadata": {},
   "outputs": [
    {
     "name": "stdout",
     "output_type": "stream",
     "text": [
      "(1,) (100, 1)\n",
      "(100, 1) (1,)\n",
      "(1, 100)\n",
      "[0.2268918  0.29008086] (1, 100)\n"
     ]
    },
    {
     "ename": "ValueError",
     "evalue": "matmul: Input operand 1 has a mismatch in its core dimension 0, with gufunc signature (n?,k),(k,m?)->(n?,m?) (size 100 is different from 2)",
     "output_type": "error",
     "traceback": [
      "\u001b[0;31m---------------------------------------------------------------------------\u001b[0m",
      "\u001b[0;31mValueError\u001b[0m                                Traceback (most recent call last)",
      "\u001b[0;32m<ipython-input-204-69fecbb97e6a>\u001b[0m in \u001b[0;36m<module>\u001b[0;34m\u001b[0m\n\u001b[1;32m      1\u001b[0m \u001b[0mmlp\u001b[0m \u001b[0;34m=\u001b[0m \u001b[0mMLP\u001b[0m\u001b[0;34m(\u001b[0m\u001b[0mlayers_sizes\u001b[0m\u001b[0;34m=\u001b[0m\u001b[0;34m[\u001b[0m\u001b[0;36m3\u001b[0m\u001b[0;34m,\u001b[0m\u001b[0;36m2\u001b[0m\u001b[0;34m,\u001b[0m\u001b[0;36m1\u001b[0m\u001b[0;34m]\u001b[0m\u001b[0;34m)\u001b[0m\u001b[0;34m\u001b[0m\u001b[0;34m\u001b[0m\u001b[0m\n\u001b[0;32m----> 2\u001b[0;31m \u001b[0mmlp\u001b[0m\u001b[0;34m.\u001b[0m\u001b[0mfit\u001b[0m\u001b[0;34m(\u001b[0m\u001b[0mx\u001b[0m\u001b[0;34m,\u001b[0m \u001b[0my_true\u001b[0m\u001b[0;34m)\u001b[0m\u001b[0;34m\u001b[0m\u001b[0;34m\u001b[0m\u001b[0m\n\u001b[0m",
      "\u001b[0;32m<ipython-input-203-4a2256e7ce9d>\u001b[0m in \u001b[0;36mfit\u001b[0;34m(self, x, y_true)\u001b[0m\n\u001b[1;32m     63\u001b[0m     \u001b[0;32mdef\u001b[0m \u001b[0mfit\u001b[0m\u001b[0;34m(\u001b[0m\u001b[0mself\u001b[0m\u001b[0;34m,\u001b[0m \u001b[0mx\u001b[0m\u001b[0;34m,\u001b[0m \u001b[0my_true\u001b[0m\u001b[0;34m)\u001b[0m\u001b[0;34m:\u001b[0m\u001b[0;34m\u001b[0m\u001b[0;34m\u001b[0m\u001b[0m\n\u001b[1;32m     64\u001b[0m         \u001b[0my_pred\u001b[0m \u001b[0;34m=\u001b[0m \u001b[0mself\u001b[0m\u001b[0;34m.\u001b[0m\u001b[0mforward\u001b[0m\u001b[0;34m(\u001b[0m\u001b[0mx\u001b[0m\u001b[0;34m)\u001b[0m\u001b[0;34m\u001b[0m\u001b[0;34m\u001b[0m\u001b[0m\n\u001b[0;32m---> 65\u001b[0;31m         \u001b[0mself\u001b[0m\u001b[0;34m.\u001b[0m\u001b[0mbackpropagate\u001b[0m\u001b[0;34m(\u001b[0m\u001b[0my_pred\u001b[0m\u001b[0;34m,\u001b[0m \u001b[0my_true\u001b[0m\u001b[0;34m)\u001b[0m\u001b[0;34m\u001b[0m\u001b[0;34m\u001b[0m\u001b[0m\n\u001b[0m\u001b[1;32m     66\u001b[0m \u001b[0;34m\u001b[0m\u001b[0m\n",
      "\u001b[0;32m<ipython-input-203-4a2256e7ce9d>\u001b[0m in \u001b[0;36mbackpropagate\u001b[0;34m(self, y_pred, y_true)\u001b[0m\n\u001b[1;32m     47\u001b[0m         \u001b[0mdelta_biases\u001b[0m\u001b[0;34m[\u001b[0m\u001b[0;34m-\u001b[0m\u001b[0;36m1\u001b[0m\u001b[0;34m]\u001b[0m \u001b[0;34m=\u001b[0m \u001b[0mdelta\u001b[0m\u001b[0;34m\u001b[0m\u001b[0;34m\u001b[0m\u001b[0m\n\u001b[1;32m     48\u001b[0m         \u001b[0mprint\u001b[0m\u001b[0;34m(\u001b[0m\u001b[0mself\u001b[0m\u001b[0;34m.\u001b[0m\u001b[0mactive\u001b[0m\u001b[0;34m[\u001b[0m\u001b[0;34m-\u001b[0m\u001b[0;36m2\u001b[0m\u001b[0;34m]\u001b[0m\u001b[0;34m,\u001b[0m \u001b[0mdelta\u001b[0m\u001b[0;34m.\u001b[0m\u001b[0mshape\u001b[0m\u001b[0;34m)\u001b[0m\u001b[0;34m\u001b[0m\u001b[0;34m\u001b[0m\u001b[0m\n\u001b[0;32m---> 49\u001b[0;31m         \u001b[0mdelta_weigths\u001b[0m\u001b[0;34m[\u001b[0m\u001b[0;34m-\u001b[0m\u001b[0;36m1\u001b[0m\u001b[0;34m]\u001b[0m \u001b[0;34m=\u001b[0m \u001b[0mself\u001b[0m\u001b[0;34m.\u001b[0m\u001b[0mactive\u001b[0m\u001b[0;34m[\u001b[0m\u001b[0;34m-\u001b[0m\u001b[0;36m2\u001b[0m\u001b[0;34m]\u001b[0m \u001b[0;34m@\u001b[0m \u001b[0mdelta\u001b[0m\u001b[0;34m.\u001b[0m\u001b[0mtranspose\u001b[0m\u001b[0;34m(\u001b[0m\u001b[0;34m)\u001b[0m\u001b[0;34m\u001b[0m\u001b[0;34m\u001b[0m\u001b[0m\n\u001b[0m\u001b[1;32m     50\u001b[0m         \u001b[0;32mfor\u001b[0m \u001b[0ml\u001b[0m \u001b[0;32min\u001b[0m \u001b[0mrange\u001b[0m\u001b[0;34m(\u001b[0m\u001b[0mself\u001b[0m\u001b[0;34m.\u001b[0m\u001b[0mnumber_of_layers\u001b[0m\u001b[0;34m-\u001b[0m\u001b[0;36m2\u001b[0m\u001b[0;34m,\u001b[0m \u001b[0;34m-\u001b[0m\u001b[0;36m1\u001b[0m\u001b[0;34m,\u001b[0m \u001b[0;34m-\u001b[0m\u001b[0;36m1\u001b[0m\u001b[0;34m)\u001b[0m\u001b[0;34m:\u001b[0m \u001b[0;31m#dla warstw (L-1,...,0)\u001b[0m\u001b[0;34m\u001b[0m\u001b[0;34m\u001b[0m\u001b[0m\n\u001b[1;32m     51\u001b[0m             \u001b[0mdelta\u001b[0m \u001b[0;34m=\u001b[0m \u001b[0mnp\u001b[0m\u001b[0;34m.\u001b[0m\u001b[0mmultiply\u001b[0m\u001b[0;34m(\u001b[0m\u001b[0mself\u001b[0m\u001b[0;34m.\u001b[0m\u001b[0mweights\u001b[0m\u001b[0;34m[\u001b[0m\u001b[0ml\u001b[0m\u001b[0;34m]\u001b[0m \u001b[0;34m@\u001b[0m \u001b[0mdelta\u001b[0m\u001b[0;34m,\u001b[0m \u001b[0mMLP\u001b[0m\u001b[0;34m.\u001b[0m\u001b[0msigmoid_derivative\u001b[0m\u001b[0;34m(\u001b[0m\u001b[0mself\u001b[0m\u001b[0;34m.\u001b[0m\u001b[0minactive\u001b[0m\u001b[0;34m[\u001b[0m\u001b[0ml\u001b[0m\u001b[0;34m]\u001b[0m\u001b[0;34m)\u001b[0m\u001b[0;34m.\u001b[0m\u001b[0mtranspose\u001b[0m\u001b[0;34m(\u001b[0m\u001b[0;34m)\u001b[0m\u001b[0;34m)\u001b[0m\u001b[0;34m\u001b[0m\u001b[0;34m\u001b[0m\u001b[0m\n",
      "\u001b[0;31mValueError\u001b[0m: matmul: Input operand 1 has a mismatch in its core dimension 0, with gufunc signature (n?,k),(k,m?)->(n?,m?) (size 100 is different from 2)"
     ]
    }
   ],
   "source": [
    "mlp = MLP(layers_sizes=[3,2,1])\n",
    "mlp.fit(x, y_true)"
   ]
  }
 ],
 "metadata": {
  "kernelspec": {
   "display_name": "Python 3",
   "language": "python",
   "name": "python3"
  },
  "language_info": {
   "codemirror_mode": {
    "name": "ipython",
    "version": 3
   },
   "file_extension": ".py",
   "mimetype": "text/x-python",
   "name": "python",
   "nbconvert_exporter": "python",
   "pygments_lexer": "ipython3",
   "version": "3.8.8"
  }
 },
 "nbformat": 4,
 "nbformat_minor": 4
}
