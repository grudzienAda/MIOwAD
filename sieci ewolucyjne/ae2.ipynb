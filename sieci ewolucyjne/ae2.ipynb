{
 "cells": [
  {
   "cell_type": "markdown",
   "id": "b18d444d-06bd-431b-940f-197281da0e35",
   "metadata": {},
   "source": [
    "# AE2: Wypełnianie koła prostokątami\n",
    "Adrianna Grudzień"
   ]
  }
 ],
 "metadata": {
  "kernelspec": {
   "display_name": "koh_venv",
   "language": "python",
   "name": "koh_venv"
  },
  "language_info": {
   "codemirror_mode": {
    "name": "ipython",
    "version": 3
   },
   "file_extension": ".py",
   "mimetype": "text/x-python",
   "name": "python",
   "nbconvert_exporter": "python",
   "pygments_lexer": "ipython3",
   "version": "3.8.10"
  }
 },
 "nbformat": 4,
 "nbformat_minor": 5
}
