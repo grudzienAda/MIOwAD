{
 "cells": [
  {
   "cell_type": "markdown",
   "id": "b18d444d-06bd-431b-940f-197281da0e35",
   "metadata": {},
   "source": [
    "# AE2: Wypełnianie koła prostokątami\n",
    "Adrianna Grudzień\n",
    "\n",
    "Rozwiązanie wariantu problemu znanego w literaturze jako `cutting stock` problem.\n",
    "\n",
    "Mamy dane koło o promieniu r oraz zbiór dostępnych prostokątów zadanych przez trzy liczby: wysokość, szerokość i wartość.\n",
    "\n",
    "Celem jest ułożenie prostokątów w kole tak, aby zmaksymalizować sumę ich wartości, spełniając następujące warunki:\n",
    "\n",
    "- boki wszystkich prostokątów były równoległe do osi układu,\n",
    "- wnętrza prostokątów nie miały części wspólnej (intuicyjnie: prostokąty nie nachodzą na siebie, ale mogą się stykać bokami),\n",
    "- każdy prostokąt można wstawić dowolnie wiele razy.\n"
   ]
  },
  {
   "cell_type": "code",
   "execution_count": 1,
   "id": "a65f4585-3b8c-46c2-aac2-b06a51ff2ae4",
   "metadata": {},
   "outputs": [],
   "source": [
    "import numpy as np\n",
    "import copy\n",
    "import matplotlib.pyplot as plt\n",
    "import pandas as pd"
   ]
  },
  {
   "cell_type": "markdown",
   "id": "653ee288-90ef-4220-a0c7-eed708254ab0",
   "metadata": {},
   "source": [
    "W nazwie pliku jest podany `promień koła`, plik jest w formacie csv: pierwsza kolumna to `szerokość` prostokąta, druga to `wysokość`, trzecia to `wartość` prostokąta."
   ]
  },
  {
   "cell_type": "code",
   "execution_count": 2,
   "id": "8a31cc59-96c2-4800-97ae-d59848c05e27",
   "metadata": {},
   "outputs": [
    {
     "data": {
      "text/html": [
       "<div>\n",
       "<style scoped>\n",
       "    .dataframe tbody tr th:only-of-type {\n",
       "        vertical-align: middle;\n",
       "    }\n",
       "\n",
       "    .dataframe tbody tr th {\n",
       "        vertical-align: top;\n",
       "    }\n",
       "\n",
       "    .dataframe thead th {\n",
       "        text-align: right;\n",
       "    }\n",
       "</style>\n",
       "<table border=\"1\" class=\"dataframe\">\n",
       "  <thead>\n",
       "    <tr style=\"text-align: right;\">\n",
       "      <th></th>\n",
       "      <th>szer.</th>\n",
       "      <th>wys.</th>\n",
       "      <th>$</th>\n",
       "    </tr>\n",
       "  </thead>\n",
       "  <tbody>\n",
       "    <tr>\n",
       "      <th>0</th>\n",
       "      <td>200</td>\n",
       "      <td>120</td>\n",
       "      <td>200</td>\n",
       "    </tr>\n",
       "    <tr>\n",
       "      <th>1</th>\n",
       "      <td>200</td>\n",
       "      <td>160</td>\n",
       "      <td>300</td>\n",
       "    </tr>\n",
       "    <tr>\n",
       "      <th>2</th>\n",
       "      <td>250</td>\n",
       "      <td>160</td>\n",
       "      <td>500</td>\n",
       "    </tr>\n",
       "    <tr>\n",
       "      <th>3</th>\n",
       "      <td>100</td>\n",
       "      <td>120</td>\n",
       "      <td>40</td>\n",
       "    </tr>\n",
       "  </tbody>\n",
       "</table>\n",
       "</div>"
      ],
      "text/plain": [
       "   szer.  wys.    $\n",
       "0    200   120  200\n",
       "1    200   160  300\n",
       "2    250   160  500\n",
       "3    100   120   40"
      ]
     },
     "execution_count": 2,
     "metadata": {},
     "output_type": "execute_result"
    }
   ],
   "source": [
    "r1000 = pd.read_csv('data/r1000.csv', header=None)\n",
    "r1000.columns = ['szer.', 'wys.', '$']\n",
    "r1000"
   ]
  },
  {
   "cell_type": "markdown",
   "id": "c8e58a23-0f49-4c7b-93d5-2fb0e6015018",
   "metadata": {},
   "source": [
    "# Opis koncepcji rozwiązania\n",
    "Koło przechowuję w postaci macierzy (x,y), gdzie drewno jest oznaczone wartością 1, a brak drewna - 0. Po wycięciu prostokąta, obszar wycięty zmienia się z 1 na 0.\n",
    "\n",
    "**1. Inicjalizacja populacji.** \\\n",
    "Najpierw obliczam pole koła i obliczam ile maksymalnie prostokątów się w nim zmieści (na podstawie pola powierzchni) - n. Następnie wybieram losowo 1 punkt z koła (wierzchołek jednego prostokąta). Szukam takiego ułożenie prostokąta, żeby mieścił się na obszarze drewnianym. Możliwych ułożeń jest 8. Sprawdzanie zaczynam od największego możliwego prostokąta - jeśli się nie mieści, sprawdzam coraz to mniejsze prostokąty.\n",
    "\n",
    "**2. Warunek stopu.** \\\n",
    "Określony poziom znalezionego rozwiązania wynikający z kryteriów oceny zadania. To znaczy wartość sumaryczna prostokątów przynajmniej 30 000 w kole o średnicy 800 oraz 30 000 w kole o średnicy 1 200, minimum 17 500 w kole o średnicy 1 000 oraz minimum 25 000 w kole o średnicy 1 100.\n",
    "\n",
    "**3. Krzyżowanie.** \\\n",
    "Losuję 2 rozwiązania z populacji. Nowego osobnika tworzę z prostokątów z górnej połowy pierwszego z nich oraz dolnej połowy drugiego z nich (tzn. biorę prostokąty, których wierzchołek się tam znajduje).\n",
    "\n",
    "**4. Mutacja.** \\\n",
    "Przesunięcie wszystkich prostokątów o losową wartość w losową stronę i następne usunięcie tych, które wychodzą poza koło. \\\n",
    "Jeżeli na kole jest jeszcze miejsce, to wstawiam tam prostokąt. (Obliczam ile maksymalnie najmniejszych prostokątów się mieści. Zaczynam od największego możliwego i jeśli po wylosowaniu okazuje się, że jednak się nie mieści na żaden z 8 sposobów, to losuję kolejny punkt dla tego prostokąta (i tak k razy). Jeśli po k takich losowań nie udało się, to testuję mniejsze prostokąty.\n",
    "\n",
    "**5. Ewaluacja.** \\\n",
    "Liczę nagrodę, czyli zarobione z danego wycięcia pieniądze.\n",
    "\n",
    "**6. Selekcja.** \\\n",
    "W populacji zostawiam te wycięcia, które jednocześnie są najbardziej opłacalne pieniężnie i mają najwięcej wolnego miejsca w kole (po wycięciu), czyli te, w których zostało więcej niewykorzystanego materiału."
   ]
  },
  {
   "cell_type": "markdown",
   "id": "a994d587-c51e-4068-bcfb-34b0e771aa3e",
   "metadata": {},
   "source": [
    "## Metody (funkcje) pomocnicze"
   ]
  },
  {
   "cell_type": "markdown",
   "id": "208384ac-0f73-4c2c-998b-6dc13cac2773",
   "metadata": {},
   "source": [
    "### Do zrobienia:\n",
    "- sprawdź, czy cały obszar prostokąta pokrywa wartości 1 w macierzy koła (tzn. nie nachodzi na 0)\n",
    "- sprawdź kolejno wszystkie możliwe ułożenia jednego prostokąta ,,wokół'' podanego (wylosowanego) punktu i zwróć współrzędne prostokąta, który się mieści\n",
    "- sprawdź kolejno wszystkie rozmiary prostokątów wokół punktu (w tym 8 możliwych rotacji)\n",
    "- wylosuj współrzędne punktu z macierzy koła spośród 1\n",
    "- oblicz pole wszystkich prostokątów osobnika (do oceny ile miejsca zostało)\n",
    "- przesuń wszystkie prostokąty o wektor (x,y)"
   ]
  },
  {
   "cell_type": "markdown",
   "id": "e23cc168-d5df-47eb-a1fc-b26ff8389706",
   "metadata": {},
   "source": [
    "### Zrobione:\n",
    "- stwórz macierz koła\n",
    "- zamień 1 na 0 przy wycięciu prostokąta\n",
    "- zamień 0 na 1 przy usunięciu prostokąta\n",
    "- oblicz ile najmniejszych prostokątów zmieści się w obszarze koła"
   ]
  },
  {
   "cell_type": "code",
   "execution_count": 3,
   "id": "4129d64e-5cca-4bae-b791-d06028be6737",
   "metadata": {},
   "outputs": [],
   "source": [
    "r = 1000 # promień koła"
   ]
  },
  {
   "cell_type": "code",
   "execution_count": 4,
   "id": "2c1053ef-1058-4d08-8fd5-08dddafeae03",
   "metadata": {
    "tags": []
   },
   "outputs": [],
   "source": [
    "# działa wolno :(\n",
    "def create_circle_matrix(r):\n",
    "    '''stwórz macierz koła\n",
    "\n",
    "    r - promień koła'''\n",
    "    M = np.zeros((2*r, 2*r))\n",
    "    for i in range(M.shape[0]):\n",
    "        for j in range(M.shape[1]):\n",
    "            if np.square(i-r) + np.square(j-r) <= np.square(r):\n",
    "                M[i][j] = 1\n",
    "    # plt.imshow(M)\n",
    "    # plt.show()\n",
    "    return M\n",
    "    \n",
    "M_default = create_circle_matrix(r)"
   ]
  },
  {
   "cell_type": "code",
   "execution_count": 12,
   "id": "79fe9612-4a60-4d79-bb0d-f7345b7f11d3",
   "metadata": {},
   "outputs": [],
   "source": [
    "rec2 = Rectangle([[500,500], [700,500], [700,700], [500,700]])"
   ]
  },
  {
   "cell_type": "code",
   "execution_count": 13,
   "id": "6f5cb539-f364-4906-9673-fc06a3ad913d",
   "metadata": {
    "collapsed": true,
    "jupyter": {
     "outputs_hidden": true
    },
    "tags": []
   },
   "outputs": [
    {
     "data": {
      "image/png": "[encoded data removed]",
      "text/plain": [
       "<Figure size 432x288 with 1 Axes>"
      ]
     },
     "metadata": {
      "needs_background": "light"
     },
     "output_type": "display_data"
    }
   ],
   "source": [
    "def cut_out(M, rectangle):\n",
    "    '''zamień 1 na 0 przy wycięciu prostokąta\n",
    "\n",
    "    M - macierz koła\n",
    "    rectangle - obiekt Rectangle'''\n",
    "    M[rectangle.x1:rectangle.x2, rectangle.y1:rectangle.y4] = 0\n",
    "    plt.imshow(M)\n",
    "    plt.show()  \n",
    "    return M\n",
    "    \n",
    "M_cutted = cut_out(M, rec2)"
   ]
  },
  {
   "cell_type": "code",
   "execution_count": 14,
   "id": "a394354c-d975-491f-a410-fbc91dc1f28d",
   "metadata": {
    "collapsed": true,
    "jupyter": {
     "outputs_hidden": true
    },
    "tags": []
   },
   "outputs": [
    {
     "data": {
      "image/png": "[encoded data removed]",
      "text/plain": [
       "<Figure size 432x288 with 1 Axes>"
      ]
     },
     "metadata": {
      "needs_background": "light"
     },
     "output_type": "display_data"
    },
    {
     "data": {
      "image/png": "[encoded data removed]",
      "text/plain": [
       "<Figure size 432x288 with 1 Axes>"
      ]
     },
     "metadata": {
      "needs_background": "light"
     },
     "output_type": "display_data"
    }
   ],
   "source": [
    "def restore(M, rectangle):\n",
    "    '''zamień 0 na 1 przy usunięciu prostokąta\n",
    "    M - macierz koła\n",
    "    rectangle - obiekt Rectangle'''\n",
    "    plt.imshow(M)\n",
    "    plt.show()  \n",
    "    M[rectangle.x1:rectangle.x2, rectangle.y1:rectangle.y4] = 1\n",
    "    plt.imshow(M)\n",
    "    plt.show()  \n",
    "    return M\n",
    "    \n",
    "M_restored = restore(M_cutted, rec2)"
   ]
  },
  {
   "cell_type": "code",
   "execution_count": 15,
   "id": "c9a22b81-ac9f-447a-8aab-a1ddb2b313ee",
   "metadata": {},
   "outputs": [
    {
     "data": {
      "text/plain": [
       "3141547"
      ]
     },
     "execution_count": 15,
     "metadata": {},
     "output_type": "execute_result"
    }
   ],
   "source": [
    "def max_nr_of_rectangles(M, rectangle_area):\n",
    "    '''oblicz ile prostokątów zmieści się w obszarze koła (być może już częściowo wyciętego)\n",
    "    M - macierz koła\n",
    "    rectangle_area - pole powierzchni najmniejszego prostokąta\n",
    "    '''\n",
    "    wood_area = np.sum(M)\n",
    "    return int(wood_area)\n",
    "    \n",
    "max_nr_of_rectangles(M, 200)"
   ]
  },
  {
   "cell_type": "markdown",
   "id": "8fa8490d-906b-4e88-8877-129d6b1dfdec",
   "metadata": {},
   "source": [
    "# Klasy"
   ]
  },
  {
   "cell_type": "code",
   "execution_count": 15,
   "id": "461b9c36-5706-46a5-a6b9-82554a717757",
   "metadata": {},
   "outputs": [],
   "source": [
    "# Dla każdego osobnika przechowuję tablicę prostokątów wyciętych z koła.\n",
    "class Rectangle:\n",
    "    def __init__(self, vertex_coordinates):\n",
    "        '''vertex_coordinates - [(x1,y1), (x2,y2), (x3,y3), (x4,x4)]'''\n",
    "        self.vertex_coordinates = vertex_coordinates\n",
    "        self.x1 = vertex_coordinates[0][0]\n",
    "        self.y1 = vertex_coordinates[0][1]\n",
    "        self.x2 = vertex_coordinates[1][0]\n",
    "        self.y2 = vertex_coordinates[1][1]\n",
    "        self.x3 = vertex_coordinates[2][0]\n",
    "        self.y3 = vertex_coordinates[2][1]\n",
    "        self.x4 = vertex_coordinates[3][0]\n",
    "        self.y4 = vertex_coordinates[3][1]\n",
    "        self.length = self.x2 - self.x1\n",
    "        self.height = self.y4 - self.y1\n",
    "        self.area = self.length * self.height # pole powierzchni\n",
    "        \n",
    "class WoodenCircle:\n",
    "    def __init__(self, radius):\n",
    "        self.radius = radius\n",
    "        self._init_circle_matrix() # macierz koła\n",
    "        self.rectangles_arr = []\n",
    "        \n",
    "     \n",
    "    def _init_circle_matrix(self):\n",
    "        # self.M = np.zeros((2*self.radius, 2*self.radius))\n",
    "        # for i in range(self.M.shape[0]):\n",
    "        #     for j in range(self.M.shape[1]):\n",
    "        #         if np.square(i-self.radius) + np.square(j-self.radius) <= np.square(self.radius):\n",
    "        #             self.M[i][j] = 1\n",
    "        self.M = copy.deepcopy(M_default)\n",
    "        self._update_area() # pole powierzchni drewnianej\n",
    "                    \n",
    "    def _update_area(self):\n",
    "        self.free_area = np.sum(self.M)\n",
    "        \n",
    "    def cut_rectangle(self, rectangle):\n",
    "        #sprawdź, czy nie wychodzi poza obszar:\n",
    "        if (self.M[rectangle.x1:rectangle.x2, rectangle.y1:rectangle.y4]).any() != 0:\n",
    "            # wytnij:\n",
    "            self.M[rectangle.x1:rectangle.x2, rectangle.y1:rectangle.y4] = 0\n",
    "            self._update_area()\n",
    "            self.rectangles_arr.append(rectangle)\n",
    "       \n",
    "    def restore_rectangle(self, rectangle):        \n",
    "        self.M[rectangle.x1:rectangle.x2, rectangle.y1:rectangle.y4] = 1\n",
    "        self._update_area()\n",
    "        self.rectangles_arr.remove(rectangle)\n",
    "    \n",
    "    def move_one_rectangle(self, rec, x, y):\n",
    "        new_rec = copy.deepcopy(rec)\n",
    "        print(new_rec.vertex_coordinates)\n",
    "        new_rec.vertex_coordinates = list(np.array(new_rec.vertex_coordinates)[:,0] + x) + list(np.array(new_rec.vertex_coordinates)[:,1] + y)\n",
    "        print(new_rec.vertex_coordinates)\n",
    "        # plt.imshow(self.M)\n",
    "        # plt.show()\n",
    "        self.restore_rectangle(rec)\n",
    "        # plt.imshow(self.M)\n",
    "        # plt.show()\n",
    "        if (self.M[new_rec.x1:new_rec.x2, new_rec.y1:new_rec.y4]).any() != 0:\n",
    "            print('elo')\n",
    "            self.cut_rectangle(new_rec)\n",
    "        else:\n",
    "            self.cut_rectangle(rec)\n",
    "        \n",
    "    def move_rectangles(self, x, y):\n",
    "        for rec in self.rectangles_arr:\n",
    "            self.move_one_rectangle(rec, x, y)"
   ]
  },
  {
   "cell_type": "code",
   "execution_count": null,
   "id": "8ed5d1ee-22e7-4ad6-ba35-515261827ef1",
   "metadata": {},
   "outputs": [],
   "source": [
    "class AE:\n",
    "    def __init__(self, N, radius, verbose_step=10):\n",
    "        self.N = N # liczność populacji\n",
    "        self.radius = radius # promień kół\n",
    "        self.population = []\n",
    "        self.verbose_step = verbose_step\n",
    "        \n",
    "    def _initialize_population(self):\n",
    "        for i in range(self.N):\n",
    "            wooden_circle = WoodenCircle(self.radius)\n",
    "            \n",
    "            self.population.append(wooden_circle)"
   ]
  },
  {
   "cell_type": "code",
   "execution_count": null,
   "id": "b18deff0-7d02-4eba-9a8a-8964453c2663",
   "metadata": {},
   "outputs": [],
   "source": []
  },
  {
   "cell_type": "code",
   "execution_count": null,
   "id": "737c99e4-2eee-4dba-abc5-89a459c34238",
   "metadata": {},
   "outputs": [],
   "source": []
  },
  {
   "cell_type": "code",
   "execution_count": null,
   "id": "40bba942-cdf4-4b06-9d8c-79a0a79e434e",
   "metadata": {},
   "outputs": [],
   "source": []
  },
  {
   "cell_type": "code",
   "execution_count": 6,
   "id": "cc61a845-597a-4a3c-8055-847646971ca9",
   "metadata": {},
   "outputs": [],
   "source": [
    "wooden_circle = WoodenCircle(1000)"
   ]
  },
  {
   "cell_type": "code",
   "execution_count": 16,
   "id": "ae0224d2-5277-45b1-8d1e-0689a2714cf3",
   "metadata": {},
   "outputs": [
    {
     "data": {
      "text/plain": [
       "<matplotlib.image.AxesImage at 0x7f2097dedb20>"
      ]
     },
     "execution_count": 16,
     "metadata": {},
     "output_type": "execute_result"
    },
    {
     "data": {
      "image/png": "[encoded data removed]",
      "text/plain": [
       "<Figure size 432x288 with 1 Axes>"
      ]
     },
     "metadata": {
      "needs_background": "light"
     },
     "output_type": "display_data"
    }
   ],
   "source": [
    "rec2 = Rectangle([[500, 500], [700, 500], [700, 700], [500, 700]])\n",
    "wooden_circle.cut_rectangle(rec2)\n",
    "plt.imshow(wooden_circle.M)"
   ]
  },
  {
   "cell_type": "code",
   "execution_count": 17,
   "id": "64443a94-2ade-4212-9e97-c3d04bb2867c",
   "metadata": {},
   "outputs": [
    {
     "name": "stdout",
     "output_type": "stream",
     "text": [
      "[[500, 500], [700, 500], [700, 700], [500, 700]]\n",
      "[[500, 500], [700, 500], [700, 700], [500, 700]]\n",
      "elo\n"
     ]
    }
   ],
   "source": [
    "wooden_circle.move_rectangles(100, 20)"
   ]
  },
  {
   "cell_type": "code",
   "execution_count": 83,
   "id": "841307e2-3ad5-4d7c-a149-4450d1511be2",
   "metadata": {},
   "outputs": [
    {
     "data": {
      "text/plain": [
       "<matplotlib.image.AxesImage at 0x7f560b9810d0>"
      ]
     },
     "execution_count": 83,
     "metadata": {},
     "output_type": "execute_result"
    },
    {
     "data": {
      "image/png": "[encoded data removed]",
      "text/plain": [
       "<Figure size 432x288 with 1 Axes>"
      ]
     },
     "metadata": {
      "needs_background": "light"
     },
     "output_type": "display_data"
    }
   ],
   "source": [
    "plt.imshow(wooden_circle.M)"
   ]
  },
  {
   "cell_type": "code",
   "execution_count": null,
   "id": "a1f41d8e-0496-459d-8380-c9d410a5d994",
   "metadata": {},
   "outputs": [],
   "source": []
  },
  {
   "cell_type": "code",
   "execution_count": null,
   "id": "88de6618-317c-48ea-af90-e0c3ae9af2c6",
   "metadata": {},
   "outputs": [],
   "source": []
  },
  {
   "cell_type": "code",
   "execution_count": 181,
   "id": "733f4c15-3f12-4ab8-a52b-c1830655aa92",
   "metadata": {},
   "outputs": [
    {
     "data": {
      "text/plain": [
       "[[500, 500], [700, 500], [700, 700], [500, 700]]"
      ]
     },
     "execution_count": 181,
     "metadata": {},
     "output_type": "execute_result"
    }
   ],
   "source": [
    "(wooden_circle.rectangles_arr[0]).vertex_coordinates"
   ]
  },
  {
   "cell_type": "code",
   "execution_count": 182,
   "id": "620a9f5a-c03c-4f80-ac96-d1bb012856eb",
   "metadata": {},
   "outputs": [
    {
     "data": {
      "text/plain": [
       "array([501, 701, 701, 501])"
      ]
     },
     "execution_count": 182,
     "metadata": {},
     "output_type": "execute_result"
    }
   ],
   "source": [
    "np.array((wooden_circle.rectangles_arr[0]).vertex_coordinates)[:,0] + 1"
   ]
  },
  {
   "cell_type": "code",
   "execution_count": null,
   "id": "70f00f83-e9e0-4452-abb0-03c8da63fd47",
   "metadata": {},
   "outputs": [],
   "source": []
  },
  {
   "cell_type": "code",
   "execution_count": null,
   "id": "5449c62e-ebc8-4617-90b2-6ccff94d4f11",
   "metadata": {},
   "outputs": [],
   "source": []
  },
  {
   "cell_type": "code",
   "execution_count": null,
   "id": "79d09423-0a24-4994-b28f-838f0b1cb94c",
   "metadata": {},
   "outputs": [],
   "source": []
  },
  {
   "cell_type": "code",
   "execution_count": 9,
   "id": "d38dc110-c140-4514-a1be-b27eb6715a71",
   "metadata": {},
   "outputs": [],
   "source": [
    "rec1 = Rectangle([(0,0), (200,0), (200,200), (0,200)])"
   ]
  },
  {
   "cell_type": "code",
   "execution_count": 26,
   "id": "889dd07c-9296-4301-a9af-9235753d557a",
   "metadata": {},
   "outputs": [
    {
     "data": {
      "text/plain": [
       "2"
      ]
     },
     "execution_count": 26,
     "metadata": {},
     "output_type": "execute_result"
    }
   ],
   "source": [
    "rec1.height"
   ]
  },
  {
   "cell_type": "code",
   "execution_count": null,
   "id": "ae810a0f-14f6-4f77-a235-e37daa08f934",
   "metadata": {},
   "outputs": [],
   "source": [
    "class AE:\n",
    "    def __init__(self):\n",
    "        "
   ]
  },
  {
   "cell_type": "code",
   "execution_count": null,
   "id": "e5900142-4e0c-4665-b9de-77ca1f7a71ee",
   "metadata": {},
   "outputs": [],
   "source": []
  },
  {
   "cell_type": "code",
   "execution_count": null,
   "id": "545da23f-7a9d-4f24-9964-2b2e9a7faacd",
   "metadata": {},
   "outputs": [],
   "source": []
  },
  {
   "cell_type": "code",
   "execution_count": null,
   "id": "2f81fdd4-7fb5-4e3c-bbea-af4fd69c6490",
   "metadata": {},
   "outputs": [],
   "source": []
  },
  {
   "cell_type": "code",
   "execution_count": null,
   "id": "ed6c2a85-8671-40fe-8a94-d08029be893d",
   "metadata": {},
   "outputs": [],
   "source": []
  },
  {
   "cell_type": "code",
   "execution_count": null,
   "id": "59ef10af-5962-4f13-a247-12ed2396d545",
   "metadata": {},
   "outputs": [],
   "source": []
  },
  {
   "cell_type": "code",
   "execution_count": null,
   "id": "2cb8fca3-1fb0-42f6-9727-7fe72aa67ca9",
   "metadata": {},
   "outputs": [],
   "source": []
  },
  {
   "cell_type": "code",
   "execution_count": null,
   "id": "d8773ed1-1c2a-4a54-966f-79b8be0f1d0c",
   "metadata": {},
   "outputs": [],
   "source": []
  },
  {
   "cell_type": "code",
   "execution_count": null,
   "id": "5fc6bb37-a06a-4984-ad40-004943fca2f7",
   "metadata": {},
   "outputs": [],
   "source": []
  },
  {
   "cell_type": "code",
   "execution_count": null,
   "id": "b45c5cd8-3b8a-40fc-bcb3-7b856f192614",
   "metadata": {},
   "outputs": [],
   "source": []
  },
  {
   "cell_type": "code",
   "execution_count": null,
   "id": "e29efa80-13b0-44a4-a284-6242ed0c755e",
   "metadata": {},
   "outputs": [],
   "source": []
  },
  {
   "cell_type": "code",
   "execution_count": null,
   "id": "2d90f7f8-350e-4a8e-8fad-dc82ed20632d",
   "metadata": {},
   "outputs": [],
   "source": []
  },
  {
   "cell_type": "code",
   "execution_count": 9,
   "id": "03042759-9fc6-479f-afff-0d0d0bb8069f",
   "metadata": {},
   "outputs": [],
   "source": [
    "r1100 = pd.read_csv('data/r1100.csv', header=None)\n",
    "r1200 = pd.read_csv('data/r1200.csv', header=None)\n",
    "r800 = pd.read_csv('data/r800.csv', header=None)\n",
    "r850 = pd.read_csv('data/r850.csv', header=None)"
   ]
  }
 ],
 "metadata": {
  "kernelspec": {
   "display_name": "koh_venv",
   "language": "python",
   "name": "koh_venv"
  },
  "language_info": {
   "codemirror_mode": {
    "name": "ipython",
    "version": 3
   },
   "file_extension": ".py",
   "mimetype": "text/x-python",
   "name": "python",
   "nbconvert_exporter": "python",
   "pygments_lexer": "ipython3",
   "version": "3.8.10"
  }
 },
 "nbformat": 4,
 "nbformat_minor": 5
}
