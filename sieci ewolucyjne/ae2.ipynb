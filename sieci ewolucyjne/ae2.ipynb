{
 "cells": [
  {
   "cell_type": "markdown",
   "id": "b18d444d-06bd-431b-940f-197281da0e35",
   "metadata": {},
   "source": [
    "# AE2: Wypełnianie koła prostokątami\n",
    "Adrianna Grudzień\n",
    "\n",
    "Rozwiązanie wariantu problemu znanego w literaturze jako `cutting stock` problem.\n",
    "\n",
    "Mamy dane koło o promieniu r oraz zbiór dostępnych prostokątów zadanych przez trzy liczby: wysokość, szerokość i wartość.\n",
    "\n",
    "Celem jest ułożenie prostokątów w kole tak, aby zmaksymalizować sumę ich wartości, spełniając następujące warunki:\n",
    "\n",
    "- boki wszystkich prostokątów były równoległe do osi układu,\n",
    "- wnętrza prostokątów nie miały części wspólnej (intuicyjnie: prostokąty nie nachodzą na siebie, ale mogą się stykać bokami),\n",
    "- każdy prostokąt można wstawić dowolnie wiele razy.\n"
   ]
  },
  {
   "cell_type": "code",
   "execution_count": 1,
   "id": "a65f4585-3b8c-46c2-aac2-b06a51ff2ae4",
   "metadata": {},
   "outputs": [],
   "source": [
    "import numpy as np\n",
    "import copy\n",
    "import matplotlib.pyplot as plt\n",
    "import pandas as pd"
   ]
  },
  {
   "cell_type": "markdown",
   "id": "653ee288-90ef-4220-a0c7-eed708254ab0",
   "metadata": {},
   "source": [
    "W nazwie pliku jest podany `promień koła`, plik jest w formacie csv: pierwsza kolumna to `szerokość` prostokąta, druga to `wysokość`, trzecia to `wartość` prostokąta."
   ]
  },
  {
   "cell_type": "code",
   "execution_count": 5,
   "id": "8a31cc59-96c2-4800-97ae-d59848c05e27",
   "metadata": {},
   "outputs": [
    {
     "data": {
      "text/html": [
       "<div>\n",
       "<style scoped>\n",
       "    .dataframe tbody tr th:only-of-type {\n",
       "        vertical-align: middle;\n",
       "    }\n",
       "\n",
       "    .dataframe tbody tr th {\n",
       "        vertical-align: top;\n",
       "    }\n",
       "\n",
       "    .dataframe thead th {\n",
       "        text-align: right;\n",
       "    }\n",
       "</style>\n",
       "<table border=\"1\" class=\"dataframe\">\n",
       "  <thead>\n",
       "    <tr style=\"text-align: right;\">\n",
       "      <th></th>\n",
       "      <th>0</th>\n",
       "      <th>1</th>\n",
       "      <th>2</th>\n",
       "    </tr>\n",
       "  </thead>\n",
       "  <tbody>\n",
       "    <tr>\n",
       "      <th>0</th>\n",
       "      <td>200</td>\n",
       "      <td>120</td>\n",
       "      <td>200</td>\n",
       "    </tr>\n",
       "    <tr>\n",
       "      <th>1</th>\n",
       "      <td>200</td>\n",
       "      <td>160</td>\n",
       "      <td>300</td>\n",
       "    </tr>\n",
       "    <tr>\n",
       "      <th>2</th>\n",
       "      <td>250</td>\n",
       "      <td>160</td>\n",
       "      <td>500</td>\n",
       "    </tr>\n",
       "    <tr>\n",
       "      <th>3</th>\n",
       "      <td>100</td>\n",
       "      <td>120</td>\n",
       "      <td>40</td>\n",
       "    </tr>\n",
       "  </tbody>\n",
       "</table>\n",
       "</div>"
      ],
      "text/plain": [
       "     0    1    2\n",
       "0  200  120  200\n",
       "1  200  160  300\n",
       "2  250  160  500\n",
       "3  100  120   40"
      ]
     },
     "execution_count": 5,
     "metadata": {},
     "output_type": "execute_result"
    }
   ],
   "source": [
    "r1000 = pd.read_csv('data/r1000.csv', header=None)\n",
    "r1000"
   ]
  },
  {
   "cell_type": "markdown",
   "id": "c8e58a23-0f49-4c7b-93d5-2fb0e6015018",
   "metadata": {},
   "source": [
    "# Opis koncepcji rozwiązania\n",
    "Koło przechowuję w postaci macierzy (x,y), gdzie drewno jest oznaczone wartością 1, a brak drewna - 0. Po wycięciu prostokąta, obszar wycięty zmienia się z 1 na 0.\n",
    "\n",
    "1. Inicjalizacja populacji.\\\n",
    "Najpierw obliczam pole koła i obliczam ile maksymalnie prostokątów się w nim zmieści (na podstawie pola powierzchni) - n. Następnie wybieram losowo 1 punkt z koła (wierzchołek jednego prostokąta). Szukam takiego ułożenie prostokąta, żeby mieścił się na obszarze drewnianym. Możliwych ułożeń jest 8. Sprawdzanie zaczynam od największego możliwego prostokąta - jeśli się nie mieści, sprawdzam coraz to mniejsze prostokąty.\n",
    "\n",
    "2. Warunek stopu.\\\n",
    "Określony poziom znalezionego rozwiązania wynikający z kryteriów oceny zadania. To znaczy wartość sumaryczna prostokątów przynajmniej 30 000 w kole o średnicy 800 oraz 30 000 w kole o średnicy 1 200, minimum 17 500 w kole o średnicy 1 000 oraz minimum 25 000 w kole o średnicy 1 100.\n",
    "\n",
    "3. Krzyżowanie.\\\n",
    "Losuję 2 rozwiązania z populacji. Nowego osobnika tworzę z prostokątów z górnej połowy pierwszego z nich oraz dolnej połowy drugiego z nich (tzn. biorę prostokąty, których wierzchołek się tam znajduje).\n",
    "\n",
    "4. Mutacja.\\\n",
    "Jeżeli na kole jest jeszcze miejsce, to wstawiam tam prostokąt. Tzn. zaczynam od największego możliwego i jeśli po wylosowaniu okazuje się, że jednak się nie mieści na żaden z 8 sposobów, to losuję kolejny punkt dla tego prostokąta (i tak k razy). Jeśli po k takich losowań nie udało się, to testuję mniejsze prostokąty.\n",
    "\n",
    "5. Ewaluacja.\\\n",
    "Liczę nagrodę, czyli zarobione z danego wycięcia pieniądze.\n",
    "\n",
    "6. Selekcja\\\n",
    "W populacji zostawiam te wycięcia, które jednocześnie są najbardziej opłacalne pieniężnie i mają najwięcej wolnego miejsca w kole (po wycięciu), czyli te, w których zostało więcej niewykorzystanego materiału."
   ]
  },
  {
   "cell_type": "code",
   "execution_count": null,
   "id": "ae810a0f-14f6-4f77-a235-e37daa08f934",
   "metadata": {},
   "outputs": [],
   "source": []
  },
  {
   "cell_type": "code",
   "execution_count": null,
   "id": "e5900142-4e0c-4665-b9de-77ca1f7a71ee",
   "metadata": {},
   "outputs": [],
   "source": []
  },
  {
   "cell_type": "code",
   "execution_count": null,
   "id": "545da23f-7a9d-4f24-9964-2b2e9a7faacd",
   "metadata": {},
   "outputs": [],
   "source": []
  },
  {
   "cell_type": "code",
   "execution_count": null,
   "id": "2f81fdd4-7fb5-4e3c-bbea-af4fd69c6490",
   "metadata": {},
   "outputs": [],
   "source": []
  },
  {
   "cell_type": "code",
   "execution_count": null,
   "id": "ed6c2a85-8671-40fe-8a94-d08029be893d",
   "metadata": {},
   "outputs": [],
   "source": []
  },
  {
   "cell_type": "code",
   "execution_count": null,
   "id": "59ef10af-5962-4f13-a247-12ed2396d545",
   "metadata": {},
   "outputs": [],
   "source": []
  },
  {
   "cell_type": "code",
   "execution_count": null,
   "id": "2cb8fca3-1fb0-42f6-9727-7fe72aa67ca9",
   "metadata": {},
   "outputs": [],
   "source": []
  },
  {
   "cell_type": "code",
   "execution_count": null,
   "id": "d8773ed1-1c2a-4a54-966f-79b8be0f1d0c",
   "metadata": {},
   "outputs": [],
   "source": []
  },
  {
   "cell_type": "code",
   "execution_count": null,
   "id": "5fc6bb37-a06a-4984-ad40-004943fca2f7",
   "metadata": {},
   "outputs": [],
   "source": []
  },
  {
   "cell_type": "code",
   "execution_count": null,
   "id": "b45c5cd8-3b8a-40fc-bcb3-7b856f192614",
   "metadata": {},
   "outputs": [],
   "source": []
  },
  {
   "cell_type": "code",
   "execution_count": null,
   "id": "e29efa80-13b0-44a4-a284-6242ed0c755e",
   "metadata": {},
   "outputs": [],
   "source": []
  },
  {
   "cell_type": "code",
   "execution_count": null,
   "id": "2d90f7f8-350e-4a8e-8fad-dc82ed20632d",
   "metadata": {},
   "outputs": [],
   "source": []
  },
  {
   "cell_type": "code",
   "execution_count": 9,
   "id": "03042759-9fc6-479f-afff-0d0d0bb8069f",
   "metadata": {},
   "outputs": [],
   "source": [
    "r1100 = pd.read_csv('data/r1100.csv', header=None)\n",
    "r1200 = pd.read_csv('data/r1200.csv', header=None)\n",
    "r800 = pd.read_csv('data/r800.csv', header=None)\n",
    "r850 = pd.read_csv('data/r850.csv', header=None)"
   ]
  }
 ],
 "metadata": {
  "kernelspec": {
   "display_name": "koh_venv",
   "language": "python",
   "name": "koh_venv"
  },
  "language_info": {
   "codemirror_mode": {
    "name": "ipython",
    "version": 3
   },
   "file_extension": ".py",
   "mimetype": "text/x-python",
   "name": "python",
   "nbconvert_exporter": "python",
   "pygments_lexer": "ipython3",
   "version": "3.8.10"
  }
 },
 "nbformat": 4,
 "nbformat_minor": 5
}
