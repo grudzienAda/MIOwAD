{
 "cells": [
  {
   "cell_type": "markdown",
   "id": "d6fd432c-9f2f-4f12-afaa-0294a37cb57c",
   "metadata": {},
   "source": [
    "# AE3: Optymalizacja wag w sieci MLP z użyciem algorytmu genetycznego\n",
    "Adrianna Grudzień"
   ]
  },
  {
   "cell_type": "code",
   "execution_count": 168,
   "id": "6d68f50d-22d5-46df-82f6-9330b0378874",
   "metadata": {},
   "outputs": [],
   "source": [
    "import numpy as np\n",
    "import pandas as pd\n",
    "import matplotlib.pyplot as plt\n",
    "import copy"
   ]
  },
  {
   "cell_type": "code",
   "execution_count": 136,
   "id": "28d88a4a-dd7e-4bf5-a18a-697ef43aad17",
   "metadata": {},
   "outputs": [],
   "source": [
    "def sigmoid(x):\n",
    "    return 1 / (1 + np.exp(-x))\n",
    "def softmax(x):\n",
    "    if x.shape[1] == 1:\n",
    "        return np.exp(x) / np.sum(np.exp(x))\n",
    "    if x.shape[1] > 1:\n",
    "        return np.exp(x) / (np.sum(np.exp(x), axis=1).reshape(\n",
    "            (x.shape[0], 1)) @ np.ones((1, x.shape[1])))\n",
    "    \n",
    "def mean_error(y_pred_df, hot_enc_classes):\n",
    "    '''Błąd klasyfikacji'''\n",
    "    return np.mean(np.mean(np.abs(y_pred_df-hot_enc_classes), axis=1), axis=0)"
   ]
  },
  {
   "cell_type": "code",
   "execution_count": 59,
   "id": "36e64cda-966a-4f1d-8f4f-43231e5c0408",
   "metadata": {},
   "outputs": [
    {
     "data": {
      "text/plain": [
       "array([0.04201007, 0.84379473, 0.1141952 ])"
      ]
     },
     "execution_count": 59,
     "metadata": {},
     "output_type": "execute_result"
    }
   ],
   "source": [
    "softmax(np.array([2,5,3]))"
   ]
  },
  {
   "cell_type": "code",
   "execution_count": 144,
   "id": "fdd34f16-9736-4458-9843-51161ee00566",
   "metadata": {},
   "outputs": [],
   "source": [
    "class Network:\n",
    "    def __init__(self, sizes):\n",
    "        self.sizes = sizes\n",
    "        self.num_layers = len(sizes)\n",
    "        self.biases = [np.random.randn(y, 1) for y in sizes[1:]]\n",
    "        self.weights = [np.random.randn(y, x)\n",
    "                        for x, y in zip(sizes[:-1], sizes[1:])]\n",
    "        \n",
    "        self.mse = [] # mse\n",
    "\n",
    "\n",
    "    # def feedforward0(self,x):\n",
    "    #     x = np.matrix(x)\n",
    "    #     for b, w in zip(self.biases, self.weights):\n",
    "    #         x = sigmoid(np.dot(x,w.T)+b.T)\n",
    "    #     return x\n",
    "    \n",
    "    def feedforward(self, x):\n",
    "        x = np.matrix(x)\n",
    "        for i in range(len(self.biases)-1):\n",
    "            x = sigmoid(np.dot(x, self.weights[i].T)+self.biases[i].T)\n",
    "        # dla ostatniej warstwy - softmax:\n",
    "        i = len(self.biases)-1\n",
    "        x = softmax(np.dot(x,self.weights[i].T)+self.biases[i].T)\n",
    "        return x"
   ]
  },
  {
   "cell_type": "markdown",
   "id": "e46ead4d-9572-4f0b-af9b-045d8345db5e",
   "metadata": {},
   "source": [
    "## Zbiór `iris`"
   ]
  },
  {
   "cell_type": "code",
   "execution_count": 23,
   "id": "f8fadcc1-00e5-4739-bb7a-1164f5de32d4",
   "metadata": {},
   "outputs": [
    {
     "data": {
      "text/html": [
       "<div>\n",
       "<style scoped>\n",
       "    .dataframe tbody tr th:only-of-type {\n",
       "        vertical-align: middle;\n",
       "    }\n",
       "\n",
       "    .dataframe tbody tr th {\n",
       "        vertical-align: top;\n",
       "    }\n",
       "\n",
       "    .dataframe thead th {\n",
       "        text-align: right;\n",
       "    }\n",
       "</style>\n",
       "<table border=\"1\" class=\"dataframe\">\n",
       "  <thead>\n",
       "    <tr style=\"text-align: right;\">\n",
       "      <th></th>\n",
       "      <th>sepal_length</th>\n",
       "      <th>sepal_widrh</th>\n",
       "      <th>petal_length</th>\n",
       "      <th>petal_width</th>\n",
       "      <th>class</th>\n",
       "    </tr>\n",
       "  </thead>\n",
       "  <tbody>\n",
       "    <tr>\n",
       "      <th>0</th>\n",
       "      <td>5.1</td>\n",
       "      <td>3.5</td>\n",
       "      <td>1.4</td>\n",
       "      <td>0.2</td>\n",
       "      <td>Iris-setosa</td>\n",
       "    </tr>\n",
       "    <tr>\n",
       "      <th>1</th>\n",
       "      <td>4.9</td>\n",
       "      <td>3.0</td>\n",
       "      <td>1.4</td>\n",
       "      <td>0.2</td>\n",
       "      <td>Iris-setosa</td>\n",
       "    </tr>\n",
       "    <tr>\n",
       "      <th>2</th>\n",
       "      <td>4.7</td>\n",
       "      <td>3.2</td>\n",
       "      <td>1.3</td>\n",
       "      <td>0.2</td>\n",
       "      <td>Iris-setosa</td>\n",
       "    </tr>\n",
       "  </tbody>\n",
       "</table>\n",
       "</div>"
      ],
      "text/plain": [
       "   sepal_length  sepal_widrh  petal_length  petal_width        class\n",
       "0           5.1          3.5           1.4          0.2  Iris-setosa\n",
       "1           4.9          3.0           1.4          0.2  Iris-setosa\n",
       "2           4.7          3.2           1.3          0.2  Iris-setosa"
      ]
     },
     "execution_count": 23,
     "metadata": {},
     "output_type": "execute_result"
    }
   ],
   "source": [
    "iris = pd.read_csv('data/iris.data', header=None)\n",
    "iris.columns = ['sepal_length','sepal_widrh','petal_length','petal_width','class']\n",
    "iris.head(3)"
   ]
  },
  {
   "cell_type": "code",
   "execution_count": 108,
   "id": "59685b81-30cd-4c67-90fc-42d2d0c50246",
   "metadata": {},
   "outputs": [
    {
     "name": "stdout",
     "output_type": "stream",
     "text": [
      "['Iris-setosa' 'Iris-versicolor' 'Iris-virginica']\n"
     ]
    }
   ],
   "source": [
    "print(np.unique(iris['class']))\n",
    "class_dict = {'Iris-setosa':0, 'Iris-versicolor':1, 'Iris-virginica':2}\n",
    "iris_x = iris[['sepal_length','sepal_widrh','petal_length','petal_width']]\n",
    "iris_y = iris['class'].map(class_dict) # mapowanie nazw klas w liczby"
   ]
  },
  {
   "cell_type": "markdown",
   "id": "4f5935e0-03f8-43b7-8c76-7c30923b55e8",
   "metadata": {},
   "source": [
    "### One-hot encoding klas"
   ]
  },
  {
   "cell_type": "code",
   "execution_count": 131,
   "id": "b7904162-95b7-4bee-8be9-05ecc81dd7d3",
   "metadata": {},
   "outputs": [
    {
     "data": {
      "text/html": [
       "<div>\n",
       "<style scoped>\n",
       "    .dataframe tbody tr th:only-of-type {\n",
       "        vertical-align: middle;\n",
       "    }\n",
       "\n",
       "    .dataframe tbody tr th {\n",
       "        vertical-align: top;\n",
       "    }\n",
       "\n",
       "    .dataframe thead th {\n",
       "        text-align: right;\n",
       "    }\n",
       "</style>\n",
       "<table border=\"1\" class=\"dataframe\">\n",
       "  <thead>\n",
       "    <tr style=\"text-align: right;\">\n",
       "      <th></th>\n",
       "      <th>0</th>\n",
       "      <th>1</th>\n",
       "      <th>2</th>\n",
       "    </tr>\n",
       "  </thead>\n",
       "  <tbody>\n",
       "    <tr>\n",
       "      <th>0</th>\n",
       "      <td>1</td>\n",
       "      <td>0</td>\n",
       "      <td>0</td>\n",
       "    </tr>\n",
       "    <tr>\n",
       "      <th>1</th>\n",
       "      <td>1</td>\n",
       "      <td>0</td>\n",
       "      <td>0</td>\n",
       "    </tr>\n",
       "    <tr>\n",
       "      <th>2</th>\n",
       "      <td>1</td>\n",
       "      <td>0</td>\n",
       "      <td>0</td>\n",
       "    </tr>\n",
       "  </tbody>\n",
       "</table>\n",
       "</div>"
      ],
      "text/plain": [
       "   0  1  2\n",
       "0  1  0  0\n",
       "1  1  0  0\n",
       "2  1  0  0"
      ]
     },
     "execution_count": 131,
     "metadata": {},
     "output_type": "execute_result"
    }
   ],
   "source": [
    "hot_enc_classes = np.zeros(shape=(len(iris_y),3), dtype='int')\n",
    "for i in range(len(iris_y)):\n",
    "    hot_enc_classes[i][iris_y[i]] = 1\n",
    "hot_enc_classes = pd.DataFrame(hot_enc_classes)\n",
    "hot_enc_classes.head(3)"
   ]
  },
  {
   "cell_type": "markdown",
   "id": "4c5e3f3b-9369-4f6f-8b8c-2c9134438a77",
   "metadata": {},
   "source": [
    "3 klasy."
   ]
  },
  {
   "cell_type": "code",
   "execution_count": 142,
   "id": "6f6518f3-07f0-410a-8e69-12002e0c4b6a",
   "metadata": {},
   "outputs": [],
   "source": [
    "mlp_iris = Network([4,3,3])\n",
    "y_pred = mlp_iris.feedforward(iris_x)"
   ]
  },
  {
   "cell_type": "code",
   "execution_count": 143,
   "id": "4bf4f080-6dc4-4067-ab23-92c8577f33a1",
   "metadata": {},
   "outputs": [
    {
     "name": "stdout",
     "output_type": "stream",
     "text": [
      "          0         1         2\n",
      "0  0.565719  0.030387  0.403893\n",
      "1  0.568183  0.030644  0.401173\n",
      "2  0.565424  0.030970  0.403605\n"
     ]
    },
    {
     "data": {
      "text/plain": [
       "0.433655928396947"
      ]
     },
     "execution_count": 143,
     "metadata": {},
     "output_type": "execute_result"
    }
   ],
   "source": [
    "y_pred_df = pd.DataFrame(y_pred)\n",
    "print(y_pred_df.head(3))\n",
    "\n",
    "mean_error(y_pred_df,hot_enc_classes)"
   ]
  },
  {
   "cell_type": "code",
   "execution_count": null,
   "id": "8061a897-0cb0-4a6f-86ae-4801a4a72be9",
   "metadata": {},
   "outputs": [],
   "source": []
  },
  {
   "cell_type": "code",
   "execution_count": 172,
   "id": "06d6d564-cafc-49fa-a3fc-2d8600ee6d5b",
   "metadata": {},
   "outputs": [],
   "source": [
    "class AE:\n",
    "    def __init__(self, N, architecture, verbose_step=10):\n",
    "        self.N = N\n",
    "        self.architecture = architecture # architektura sieci MLP\n",
    "        self.verbose_step = verbose_step\n",
    "        self.population = [] # lista sieci\n",
    "        self._initialize_population()\n",
    "        \n",
    "        self.new_population = copy.deepcopy(self.population) # populacja, do której będą dodawane nowe osobniki\n",
    "\n",
    "        \n",
    "    def _initialize_population(self):\n",
    "        for i in range(self.N):\n",
    "            self.population.append(Network(self.architecture))\n",
    "            \n",
    "    def select_radomly_from_population(self):\n",
    "        '''Losowanie dowolnego osobnika z populacji.'''\n",
    "        randomNetwork = np.random.randint(self.N)\n",
    "        return self.population[randomNetwork]\n",
    "    \n",
    "    def cross(self, prob_boundary=0.7):\n",
    "        '''\n",
    "        Krzyżowanie.\n",
    "        - losujemy 2 sieci x1, x2 i tworzymy nowego osobnika o tej samej architekturze;\n",
    "        wartości wag - z połowy wartości x1 (dla nieparzystej liczby warstw - sufit)\n",
    "        oraz drugiej połowy wartości x2 (dla nieparzystej liczby warstw - podłoga)\n",
    "        ''' \n",
    "        drawn_prob = np.random.uniform(0,1) # wylosowane prawdopodobieństwo krzyżowania dla danych osobników\n",
    "        if drawn_prob <= prob_boundary:\n",
    "            # losowanie osobników\n",
    "            x1 = self.select_radomly_from_population()\n",
    "            x2 = self.select_radomly_from_population()\n",
    "            # określenie ile wartości z x1, x2 bierzemy do utworzenia nowego osobnika n2=len(self.architecture)-n1\n",
    "            n1 = int(np.ceil(len(self.architecture)/2))\n",
    "\n",
    "            # łączenie osobników\n",
    "            x_new = Network(self.architecture)\n",
    "            for i in range(len(self.architecture)):\n",
    "                if i < n1:\n",
    "                    x_new.weights[i] = x1.weights[i]\n",
    "                    x_new.biases[i] = x1.biases[i]\n",
    "                else:\n",
    "                    x_new.weights[i] = x2.weights[i]\n",
    "                    x_new.biases[i] = x2.biases[i]\n",
    "\n",
    "            # dodanie nowego osobnika do populacji\n",
    "            self.new_population.append(x_new)\n",
    "            \n",
    "    def mutate(self, x, prob_boundary=0.2):\n",
    "        '''Mutacja gaussowska - wylosowanie zgodnie z rozkładem normalnym \n",
    "        przesunięcia wektora w każdym z kierunków\n",
    "        \n",
    "        x - mutowany osobnik\n",
    "        prob_boundary - prawdopodobieństwo mutacji na pojedynczy osobniku (prawd. graniczne)\n",
    "        '''\n",
    "    \n",
    "        drawn_prob = np.random.uniform(0,1) # wylosowane prawdopodobieństwo mutacji dla danego osobnika\n",
    "        if drawn_prob <= prob_boundary:\n",
    "            vector_displacement = np.random.normal(0, 1)\n",
    "            x_new = np.array([x[i]+vector_displacement for i in range(self.dim)]).reshape((self.dim, 1))\n",
    "\n",
    "            # dodanie nowego osobnika do populacji\n",
    "            self.new_population = np.concatenate((self.new_population, x_new), axis=1)\n",
    "    \n",
    "    def fit(self, n_epochs=10):\n",
    "        for i in range(n_epochs):\n",
    "            # krzyżowanie:\n",
    "            for j in range(self.N):\n",
    "                self.cross()\n",
    "            # mutacja:\n",
    "            for j in range(self.N):\n",
    "                x = self.population[j]\n",
    "                self.mutate()\n",
    "            # selekcja"
   ]
  },
  {
   "cell_type": "code",
   "execution_count": 173,
   "id": "d1cbe44a-435b-46c5-8977-53cc44978cb1",
   "metadata": {},
   "outputs": [],
   "source": [
    "ae = AE(N=50, architecture=[4,3,3])\n",
    "ae.fit(n_epochs=10)"
   ]
  }
 ],
 "metadata": {
  "kernelspec": {
   "display_name": "koh_venv",
   "language": "python",
   "name": "koh_venv"
  },
  "language_info": {
   "codemirror_mode": {
    "name": "ipython",
    "version": 3
   },
   "file_extension": ".py",
   "mimetype": "text/x-python",
   "name": "python",
   "nbconvert_exporter": "python",
   "pygments_lexer": "ipython3",
   "version": "3.8.10"
  }
 },
 "nbformat": 4,
 "nbformat_minor": 5
}
