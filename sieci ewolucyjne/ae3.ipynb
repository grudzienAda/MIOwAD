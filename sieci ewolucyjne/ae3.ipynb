{
 "cells": [
  {
   "cell_type": "markdown",
   "id": "d6fd432c-9f2f-4f12-afaa-0294a37cb57c",
   "metadata": {},
   "source": [
    "# AE3: Optymalizacja wag w sieci MLP z użyciem algorytmu genetycznego\n",
    "Adrianna Grudzień"
   ]
  },
  {
   "cell_type": "code",
   "execution_count": 47,
   "id": "6d68f50d-22d5-46df-82f6-9330b0378874",
   "metadata": {},
   "outputs": [],
   "source": [
    "import numpy as np\n",
    "import pandas as pd\n",
    "import matplotlib.pyplot as plt\n",
    "import copy\n",
    "import seaborn as sns"
   ]
  },
  {
   "cell_type": "code",
   "execution_count": 2,
   "id": "28d88a4a-dd7e-4bf5-a18a-697ef43aad17",
   "metadata": {},
   "outputs": [],
   "source": [
    "def sigmoid(x):\n",
    "    return 1 / (1 + np.exp(-x))\n",
    "def softmax(x):\n",
    "    if x.shape[1] == 1:\n",
    "        return np.exp(x) / np.sum(np.exp(x))\n",
    "    if x.shape[1] > 1:\n",
    "        return np.exp(x) / (np.sum(np.exp(x), axis=1).reshape(\n",
    "            (x.shape[0], 1)) @ np.ones((1, x.shape[1])))\n",
    "    \n",
    "def mean_error(y_pred_df, hot_enc_classes):\n",
    "    '''Błąd klasyfikacji'''\n",
    "    return np.mean(np.mean(np.abs(y_pred_df-hot_enc_classes), axis=1), axis=0)"
   ]
  },
  {
   "cell_type": "code",
   "execution_count": 3,
   "id": "fdd34f16-9736-4458-9843-51161ee00566",
   "metadata": {},
   "outputs": [],
   "source": [
    "class Network:\n",
    "    def __init__(self, sizes):\n",
    "        self.sizes = sizes\n",
    "        self.num_layers = len(sizes)\n",
    "        self.biases = [np.random.randn(y, 1) for y in sizes[1:]]\n",
    "        self.weights = [np.random.randn(y, x)\n",
    "                        for x, y in zip(sizes[:-1], sizes[1:])]\n",
    "        \n",
    "        self.mse = [] # mse\n",
    "\n",
    "\n",
    "    # def feedforward0(self,x):\n",
    "    #     x = np.matrix(x)\n",
    "    #     for b, w in zip(self.biases, self.weights):\n",
    "    #         x = sigmoid(np.dot(x,w.T)+b.T)\n",
    "    #     return x\n",
    "    \n",
    "    def feedforward(self, x):\n",
    "        x = np.matrix(x)\n",
    "        for i in range(len(self.biases)-1):\n",
    "            x = sigmoid(np.dot(x, self.weights[i].T)+self.biases[i].T)\n",
    "        # dla ostatniej warstwy - softmax:\n",
    "        i = len(self.biases)-1\n",
    "        x = softmax(np.dot(x,self.weights[i].T)+self.biases[i].T)\n",
    "        return x"
   ]
  },
  {
   "cell_type": "markdown",
   "id": "e46ead4d-9572-4f0b-af9b-045d8345db5e",
   "metadata": {},
   "source": [
    "## Zbiór `iris`"
   ]
  },
  {
   "cell_type": "code",
   "execution_count": 50,
   "id": "f8fadcc1-00e5-4739-bb7a-1164f5de32d4",
   "metadata": {},
   "outputs": [
    {
     "data": {
      "text/html": [
       "<div>\n",
       "<style scoped>\n",
       "    .dataframe tbody tr th:only-of-type {\n",
       "        vertical-align: middle;\n",
       "    }\n",
       "\n",
       "    .dataframe tbody tr th {\n",
       "        vertical-align: top;\n",
       "    }\n",
       "\n",
       "    .dataframe thead th {\n",
       "        text-align: right;\n",
       "    }\n",
       "</style>\n",
       "<table border=\"1\" class=\"dataframe\">\n",
       "  <thead>\n",
       "    <tr style=\"text-align: right;\">\n",
       "      <th></th>\n",
       "      <th>sepal_length</th>\n",
       "      <th>sepal_width</th>\n",
       "      <th>petal_length</th>\n",
       "      <th>petal_width</th>\n",
       "      <th>class</th>\n",
       "    </tr>\n",
       "  </thead>\n",
       "  <tbody>\n",
       "    <tr>\n",
       "      <th>0</th>\n",
       "      <td>5.1</td>\n",
       "      <td>3.5</td>\n",
       "      <td>1.4</td>\n",
       "      <td>0.2</td>\n",
       "      <td>Iris-setosa</td>\n",
       "    </tr>\n",
       "    <tr>\n",
       "      <th>1</th>\n",
       "      <td>4.9</td>\n",
       "      <td>3.0</td>\n",
       "      <td>1.4</td>\n",
       "      <td>0.2</td>\n",
       "      <td>Iris-setosa</td>\n",
       "    </tr>\n",
       "    <tr>\n",
       "      <th>2</th>\n",
       "      <td>4.7</td>\n",
       "      <td>3.2</td>\n",
       "      <td>1.3</td>\n",
       "      <td>0.2</td>\n",
       "      <td>Iris-setosa</td>\n",
       "    </tr>\n",
       "  </tbody>\n",
       "</table>\n",
       "</div>"
      ],
      "text/plain": [
       "   sepal_length  sepal_width  petal_length  petal_width        class\n",
       "0           5.1          3.5           1.4          0.2  Iris-setosa\n",
       "1           4.9          3.0           1.4          0.2  Iris-setosa\n",
       "2           4.7          3.2           1.3          0.2  Iris-setosa"
      ]
     },
     "execution_count": 50,
     "metadata": {},
     "output_type": "execute_result"
    }
   ],
   "source": [
    "iris = pd.read_csv('data/iris.data', header=None)\n",
    "iris.columns = ['sepal_length','sepal_width','petal_length','petal_width','class']\n",
    "iris.head(3)"
   ]
  },
  {
   "cell_type": "code",
   "execution_count": 51,
   "id": "59685b81-30cd-4c67-90fc-42d2d0c50246",
   "metadata": {},
   "outputs": [
    {
     "name": "stdout",
     "output_type": "stream",
     "text": [
      "['Iris-setosa' 'Iris-versicolor' 'Iris-virginica']\n"
     ]
    }
   ],
   "source": [
    "print(np.unique(iris['class']))\n",
    "class_dict = {'Iris-setosa':0, 'Iris-versicolor':1, 'Iris-virginica':2}\n",
    "iris_x = iris[['sepal_length','sepal_width','petal_length','petal_width']]\n",
    "iris_y = iris['class'].map(class_dict) # mapowanie nazw klas w liczby"
   ]
  },
  {
   "cell_type": "markdown",
   "id": "4f5935e0-03f8-43b7-8c76-7c30923b55e8",
   "metadata": {},
   "source": [
    "### One-hot encoding klas"
   ]
  },
  {
   "cell_type": "code",
   "execution_count": 21,
   "id": "b7904162-95b7-4bee-8be9-05ecc81dd7d3",
   "metadata": {},
   "outputs": [
    {
     "data": {
      "text/html": [
       "<div>\n",
       "<style scoped>\n",
       "    .dataframe tbody tr th:only-of-type {\n",
       "        vertical-align: middle;\n",
       "    }\n",
       "\n",
       "    .dataframe tbody tr th {\n",
       "        vertical-align: top;\n",
       "    }\n",
       "\n",
       "    .dataframe thead th {\n",
       "        text-align: right;\n",
       "    }\n",
       "</style>\n",
       "<table border=\"1\" class=\"dataframe\">\n",
       "  <thead>\n",
       "    <tr style=\"text-align: right;\">\n",
       "      <th></th>\n",
       "      <th>0</th>\n",
       "      <th>1</th>\n",
       "      <th>2</th>\n",
       "    </tr>\n",
       "  </thead>\n",
       "  <tbody>\n",
       "    <tr>\n",
       "      <th>0</th>\n",
       "      <td>1</td>\n",
       "      <td>0</td>\n",
       "      <td>0</td>\n",
       "    </tr>\n",
       "    <tr>\n",
       "      <th>1</th>\n",
       "      <td>1</td>\n",
       "      <td>0</td>\n",
       "      <td>0</td>\n",
       "    </tr>\n",
       "    <tr>\n",
       "      <th>2</th>\n",
       "      <td>1</td>\n",
       "      <td>0</td>\n",
       "      <td>0</td>\n",
       "    </tr>\n",
       "  </tbody>\n",
       "</table>\n",
       "</div>"
      ],
      "text/plain": [
       "   0  1  2\n",
       "0  1  0  0\n",
       "1  1  0  0\n",
       "2  1  0  0"
      ]
     },
     "execution_count": 21,
     "metadata": {},
     "output_type": "execute_result"
    }
   ],
   "source": [
    "def one_hot(y):\n",
    "    hot_enc_classes = np.zeros(shape=(len(y),3), dtype='int')\n",
    "    for i in range(len(y)):\n",
    "        hot_enc_classes[i][y[i]] = 1\n",
    "    return pd.DataFrame(hot_enc_classes)\n",
    "hot_enc_classes = one_hot(iris_y)\n",
    "hot_enc_classes.head(3)"
   ]
  },
  {
   "cell_type": "markdown",
   "id": "4c5e3f3b-9369-4f6f-8b8c-2c9134438a77",
   "metadata": {},
   "source": [
    "3 klasy."
   ]
  },
  {
   "cell_type": "code",
   "execution_count": 7,
   "id": "6f6518f3-07f0-410a-8e69-12002e0c4b6a",
   "metadata": {},
   "outputs": [],
   "source": [
    "mlp_iris = Network([4,3,3])\n",
    "y_pred = mlp_iris.feedforward(iris_x)"
   ]
  },
  {
   "cell_type": "code",
   "execution_count": 8,
   "id": "4bf4f080-6dc4-4067-ab23-92c8577f33a1",
   "metadata": {},
   "outputs": [
    {
     "name": "stdout",
     "output_type": "stream",
     "text": [
      "          0         1         2\n",
      "0  0.032679  0.897889  0.069432\n",
      "1  0.032674  0.897922  0.069404\n",
      "2  0.032669  0.897974  0.069357\n"
     ]
    },
    {
     "data": {
      "text/plain": [
       "0.44444600114622185"
      ]
     },
     "execution_count": 8,
     "metadata": {},
     "output_type": "execute_result"
    }
   ],
   "source": [
    "y_pred_df = pd.DataFrame(y_pred)\n",
    "print(y_pred_df.head(3))\n",
    "\n",
    "mean_error(y_pred_df,hot_enc_classes)"
   ]
  },
  {
   "cell_type": "code",
   "execution_count": null,
   "id": "8061a897-0cb0-4a6f-86ae-4801a4a72be9",
   "metadata": {},
   "outputs": [],
   "source": []
  },
  {
   "cell_type": "code",
   "execution_count": 81,
   "id": "06d6d564-cafc-49fa-a3fc-2d8600ee6d5b",
   "metadata": {},
   "outputs": [],
   "source": [
    "class AE:\n",
    "    def __init__(self, N, architecture, fun):\n",
    "        self.N = N\n",
    "        self.architecture = architecture # architektura sieci MLP\n",
    "        self.fun = fun # metryka\n",
    "        self.population = [] # lista sieci\n",
    "        self._initialize_population()\n",
    "        \n",
    "        self.new_population = copy.deepcopy(self.population) # populacja, do której będą dodawane nowe osobniki\n",
    "        self.minimum_per_epoch = [] # minimalna wartość funkcji w kolejnych iteracjach\n",
    "\n",
    "        \n",
    "    def _initialize_population(self):\n",
    "        for i in range(self.N):\n",
    "            self.population.append(Network(self.architecture))\n",
    "            \n",
    "    def select_radomly_from_population(self):\n",
    "        '''Losowanie dowolnego osobnika z populacji.'''\n",
    "        randomNetwork = np.random.randint(self.N)\n",
    "        return self.population[randomNetwork]\n",
    "    \n",
    "    def cross(self, prob_boundary=0.7):\n",
    "        '''\n",
    "        Krzyżowanie.\n",
    "        - losujemy 2 sieci x1, x2 i tworzymy nowego osobnika o tej samej architekturze;\n",
    "        wartości wag - z połowy wartości x1 (dla nieparzystej liczby warstw - sufit)\n",
    "        oraz drugiej połowy wartości x2 (dla nieparzystej liczby warstw - podłoga)\n",
    "        ''' \n",
    "        drawn_prob = np.random.uniform(0,1) # wylosowane prawdopodobieństwo krzyżowania dla danych osobników\n",
    "        if drawn_prob <= prob_boundary:\n",
    "            # losowanie osobników\n",
    "            x1 = self.select_radomly_from_population()\n",
    "            x2 = self.select_radomly_from_population()\n",
    "            # określenie ile wartości z x1, x2 bierzemy do utworzenia nowego osobnika n2=len(self.architecture)-n1\n",
    "            n1 = int(np.ceil((len(self.architecture)-1)/2))\n",
    "\n",
    "            # łączenie osobników\n",
    "            x_new = Network(self.architecture)\n",
    "            for i in range(len(self.architecture)-1):\n",
    "                if i < n1:\n",
    "                    x_new.weights[i] = x1.weights[i]\n",
    "                    x_new.biases[i] = x1.biases[i]\n",
    "                else:\n",
    "                    x_new.weights[i] = x2.weights[i]\n",
    "                    x_new.biases[i] = x2.biases[i]\n",
    "\n",
    "            # dodanie nowego osobnika do populacji\n",
    "            self.new_population.append(x_new)\n",
    "            \n",
    "    def mutate(self, x, prob_boundary=0.2):\n",
    "        '''Mutacja gaussowska - wylosowanie zgodnie z rozkładem normalnym \n",
    "        przesunięcia wag i biasów w każdym węźle\n",
    "        \n",
    "        x - mutowany osobnik\n",
    "        prob_boundary - prawdopodobieństwo mutacji na pojedynczy osobniku (prawd. graniczne)\n",
    "        '''\n",
    "    \n",
    "        drawn_prob = np.random.uniform(0,1) # wylosowane prawdopodobieństwo mutacji dla danego osobnika\n",
    "        if drawn_prob <= prob_boundary:\n",
    "            vector_displacement = np.random.normal(0, 1)\n",
    "            x_new = copy.deepcopy(x)\n",
    "            for i in range(len(x_new.biases)):\n",
    "                x_new.weights[i] += vector_displacement\n",
    "                x_new.biases[i] += vector_displacement\n",
    "\n",
    "            # dodanie nowego osobnika do populacji\n",
    "            self.new_population.append(x_new)\n",
    "          \n",
    "    def count_fun_values(self):\n",
    "        self.fun_values = []\n",
    "        for i in range(len(self.new_population)):\n",
    "            self.fun_values.append(self.fun(\n",
    "                self.new_population[i].feedforward(self.data_x),\n",
    "                self.one_hot_classes\n",
    "            ))\n",
    "            \n",
    "    def evaluate(self):\n",
    "        '''Liczenie wartości funkcji optymalizowanej. Zwraca indeksy osobników o najniższych wartościach fun.'''\n",
    "        self.count_fun_values()\n",
    "        min_args = np.argpartition(self.fun_values, self.N)[:self.N]\n",
    "        return min_args\n",
    "        \n",
    "    def select(self):\n",
    "        '''Algorytm selekcji - w populacji zostawiamy self.N osobników o najniższych wartościach funkcji optymalizowanej.'''\n",
    "        min_args = self.evaluate()\n",
    "        self.population = [self.new_population[i] for i in min_args]\n",
    "    \n",
    "    def fit(self, data_x, data_y, n_epochs=10, verbose_step=10):\n",
    "        self.data_x = data_x\n",
    "        self.one_hot_classes = one_hot(data_y)\n",
    "        \n",
    "        for i in range(n_epochs):\n",
    "            # krzyżowanie:\n",
    "            for j in range(self.N):\n",
    "                self.cross()\n",
    "            # mutacja:\n",
    "            for j in range(self.N):\n",
    "                x = self.population[j]\n",
    "                self.mutate(x)\n",
    "            # selekcja\n",
    "            self.select()\n",
    "            \n",
    "            self.minimum_per_epoch.append(np.min(self.fun_values))\n",
    "            \n",
    "            \n",
    "    def visualize_min(self):\n",
    "        plt.plot(range(1,len(self.minimum_per_epoch)+1), self.minimum_per_epoch)\n",
    "        plt.xlabel('epoch number')\n",
    "        plt.ylabel('minimum value of function of population')\n",
    "        plt.title('Minimum value of function')\n",
    "        plt.show()"
   ]
  },
  {
   "cell_type": "code",
   "execution_count": 82,
   "id": "d1cbe44a-435b-46c5-8977-53cc44978cb1",
   "metadata": {},
   "outputs": [],
   "source": [
    "ae = AE(N=50, architecture=[4,3,3], fun=mean_error)\n",
    "ae.fit(data_x=iris_x, data_y=iris_y, n_epochs=200)"
   ]
  },
  {
   "cell_type": "code",
   "execution_count": 83,
   "id": "2a10a298-4e8d-482a-a4fe-01ad2265e705",
   "metadata": {},
   "outputs": [
    {
     "data": {
      "image/png": "[encoded data removed]",
      "text/plain": [
       "<Figure size 432x288 with 1 Axes>"
      ]
     },
     "metadata": {
      "needs_background": "light"
     },
     "output_type": "display_data"
    }
   ],
   "source": [
    "ae.visualize_min()"
   ]
  },
  {
   "cell_type": "markdown",
   "id": "635044d6-b8cf-4bb5-9363-8f7534da7ff7",
   "metadata": {},
   "source": [
    "Dla epok > 10 sieć przestaje się ,,uczyć\"."
   ]
  },
  {
   "cell_type": "code",
   "execution_count": 87,
   "id": "826c0b80-9d35-4ca0-a4f6-89e9758c2ff3",
   "metadata": {},
   "outputs": [
    {
     "data": {
      "image/png": "[encoded data removed]",
      "text/plain": [
       "<Figure size 432x288 with 1 Axes>"
      ]
     },
     "metadata": {
      "needs_background": "light"
     },
     "output_type": "display_data"
    }
   ],
   "source": [
    "sns.scatterplot(x='sepal_length', y='sepal_width', data=iris, hue=iris_y)\n",
    "plt.title('Original data')\n",
    "plt.show()"
   ]
  },
  {
   "cell_type": "code",
   "execution_count": 85,
   "id": "71ce774a-d188-4f5e-b924-8a178c144bc8",
   "metadata": {},
   "outputs": [],
   "source": [
    "y_pred_df = pd.DataFrame(ae.population[0].feedforward(iris_x))\n",
    "\n",
    "def convert_to_classes(y_pred_df):\n",
    "    pred_class = []\n",
    "    for i in range(y_pred_df.shape[0]):\n",
    "        pred_class.append(np.argmax(y_pred_df.iloc[i]))\n",
    "    return np.array(pred_class)\n",
    "pred_classes = convert_to_classes(y_pred_df)"
   ]
  },
  {
   "cell_type": "code",
   "execution_count": 88,
   "id": "73933daf-0db7-4d30-80ad-ab6bcadf4b46",
   "metadata": {},
   "outputs": [
    {
     "data": {
      "image/png": "[encoded data removed]",
      "text/plain": [
       "<Figure size 432x288 with 1 Axes>"
      ]
     },
     "metadata": {
      "needs_background": "light"
     },
     "output_type": "display_data"
    }
   ],
   "source": [
    "sns.scatterplot(x='sepal_length', y='sepal_width', data=iris, hue=pred_classes)\n",
    "plt.title('Weigths after evolutionary algorithm')\n",
    "plt.show()"
   ]
  },
  {
   "cell_type": "markdown",
   "id": "d2aa9931-6e15-49aa-abf0-4cfeea93e011",
   "metadata": {},
   "source": [
    "Sieć nie rozróżnia klasy 1 i 2 - traktuje ją jako jedną. Ale rozpoznaje poprawnie klasę 0."
   ]
  },
  {
   "cell_type": "markdown",
   "id": "06d0f256-cb1e-4547-91ff-9452b34ff0bb",
   "metadata": {},
   "source": [
    "## Zbiór `multimodal-large`"
   ]
  },
  {
   "cell_type": "code",
   "execution_count": null,
   "id": "7b7b7f56-053f-4706-91b3-5aa7f8578666",
   "metadata": {},
   "outputs": [],
   "source": []
  }
 ],
 "metadata": {
  "kernelspec": {
   "display_name": "koh_venv",
   "language": "python",
   "name": "koh_venv"
  },
  "language_info": {
   "codemirror_mode": {
    "name": "ipython",
    "version": 3
   },
   "file_extension": ".py",
   "mimetype": "text/x-python",
   "name": "python",
   "nbconvert_exporter": "python",
   "pygments_lexer": "ipython3",
   "version": "3.8.10"
  }
 },
 "nbformat": 4,
 "nbformat_minor": 5
}
