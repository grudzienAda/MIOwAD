{
 "cells": [
  {
   "cell_type": "markdown",
   "id": "70672de3-0afa-4366-a658-8c1251af77c2",
   "metadata": {},
   "source": [
    "# AE1: Implementacja algorytmu genetycznego – opt. f-cji kwadratowej w R³\n",
    "Adrianna Grudzień\n",
    "\n",
    "\n",
    "Podstawowy algorytm genetyczny z mutacją gaussowską i krzyżowaniem jednopunktowym. Sprawdzić działanie algorytmu na funkcji x2+y2+2z2 oraz na pięciowymiarowej funkcji Rastrigina. \n",
    "\n"
   ]
  },
  {
   "cell_type": "markdown",
   "id": "1d3e1372-2873-412a-b65d-b886ae1acad7",
   "metadata": {},
   "source": [
    "Poczynione kroki:\n",
    "1. Inicjalizacja populacji - N x-ów"
   ]
  },
  {
   "cell_type": "code",
   "execution_count": 302,
   "id": "fe39fbbb-b86e-4a3d-9808-5680f6cf2f7f",
   "metadata": {},
   "outputs": [],
   "source": [
    "import numpy as np\n",
    "import copy\n",
    "import matplotlib.pyplot as plt"
   ]
  },
  {
   "cell_type": "markdown",
   "id": "52e54d28-96bd-4bc7-a603-f1eef7bebd59",
   "metadata": {},
   "source": [
    "## Funkcje pomocnicze"
   ]
  },
  {
   "cell_type": "code",
   "execution_count": 5,
   "id": "a6886db1-f1cc-4b01-b8dc-1914a234fe88",
   "metadata": {},
   "outputs": [],
   "source": [
    "def multiply_array(scalar, x):\n",
    "    x_new = np.zeros(len(x))\n",
    "    for i in range(len(x)):\n",
    "        x_new[i] = x[i] + x[i]*scalar\n",
    "    return x"
   ]
  },
  {
   "cell_type": "markdown",
   "id": "222eb1be-1b6b-4c6d-b8a5-ac630739a2bf",
   "metadata": {},
   "source": [
    "## Funkcje"
   ]
  },
  {
   "cell_type": "code",
   "execution_count": 322,
   "id": "536a6499-f530-43e8-947f-21bf4f00a891",
   "metadata": {},
   "outputs": [],
   "source": [
    "def fun1(x):\n",
    "    'x - array with length=3'\n",
    "    return np.square(x[0]) + np.square(x[1]) + 2*np.square(x[2])\n",
    "\n",
    "def rastrigin_fun(x):\n",
    "    'x - array'\n",
    "    A = 10\n",
    "    n = len(x)\n",
    "    return A*n + np.sum(np.square(x) - multiply_array(A,np.cos(multiply_array(2*np.pi, x))))\n",
    "\n",
    "def fun2(x):\n",
    "    '''Funkcja testowa dwuwymiarowa do sprawdzania poprawności algorytmu z wizualizacją 2d'''\n",
    "    return np.square(x[0]) + np.square(x[1])\n",
    "def fun3(x):\n",
    "    '''Funkcja testowa dwuwymiarowa do sprawdzania poprawności algorytmu z wizualizacją 2d'''\n",
    "    return np.square(x[0]) + np.square(x[1] + 3)"
   ]
  },
  {
   "cell_type": "code",
   "execution_count": 371,
   "id": "99a2bb89-d466-4f94-b0ce-2c406336f3f4",
   "metadata": {},
   "outputs": [],
   "source": [
    "class AE:\n",
    "    def __init__(self, dim, N, fun=fun1, verbose_step=10):\n",
    "        self.N = N # liczność popoulacji\n",
    "        self.dim = dim # wymiar obserwacji\n",
    "        self.population = np.zeros(shape=(dim, N))\n",
    "        self._initialize_population()\n",
    "        self.new_population = copy.deepcopy(self.population) # populacja, do której będą dodawane nowe osobniki\n",
    "        self.fun = fun\n",
    "        self.verbose_step = verbose_step\n",
    "        \n",
    "        self.minimum_per_epoch = [] # minimalna wartość funkcji w kolejnych iteracjach\n",
    "\n",
    "        \n",
    "    def _initialize_population(self):\n",
    "        for i in range(self.dim):\n",
    "            for j in range(self.N):\n",
    "                self.population[i][j] = np.random.uniform(0,1, size=1)\n",
    "        \n",
    "         \n",
    "    def select_radomly_from_population(self):\n",
    "        '''Losowanie dowolnego osobnika z populacji.'''\n",
    "        randomCol = np.random.randint(self.N, size=1)\n",
    "        return self.population[:, randomCol]\n",
    "         \n",
    "        \n",
    "    def cross(self, prob_boundary=0.7):\n",
    "        '''\n",
    "        Krzyżowanie. Dla dowolnej długości wektora.\n",
    "        - losujemy 2 wektory x1, x2 i tworzymy nowego osobnika z połowy wartości x1\n",
    "        oraz drugiej połowy wartości x2\n",
    "        '''\n",
    "        \n",
    "        drawn_prob = np.random.uniform(0,1) # wylosowane prawdopodobieństwo krzyżowania dla danych osobników\n",
    "        if drawn_prob <= prob_boundary:\n",
    "            # losowanie osobników\n",
    "            x1 = self.select_radomly_from_population()\n",
    "            x2 = self.select_radomly_from_population()\n",
    "            # określenie ile wartości z x1, x2 bierzemy do utworzenia nowego osobnika n2=self.dim-n1\n",
    "            n1 = self.dim//2\n",
    "\n",
    "            # łączenie osobników\n",
    "            x_new = np.zeros((self.dim, 1))\n",
    "            for i in range(x_new.shape[0]):\n",
    "                if i < n1:\n",
    "                    x_new[i] = x1[i]\n",
    "                else:\n",
    "                    x_new[i] = x2[i]\n",
    "\n",
    "            # dodanie nowego osobnika do populacji\n",
    "            self.new_population = np.concatenate((self.new_population, x_new), axis=1)\n",
    "        \n",
    "        \n",
    "    def mutate(self, x, prob_boundary=0.2):\n",
    "        '''Mutacja gaussowska - wylosowanie zgodnie z rozkładem normalnym \n",
    "        przesunięcia wektora w każdym z kierunków\n",
    "        \n",
    "        x - mutowany osobnik\n",
    "        prob_boundary - prawdopodobieństwo mutacji na pojedynczy osobniku (prawd. graniczne)\n",
    "        '''\n",
    "    \n",
    "        drawn_prob = np.random.uniform(0,1) # wylosowane prawdopodobieństwo mutacji dla danego osobnika\n",
    "        if drawn_prob <= prob_boundary:\n",
    "            vector_displacement = np.random.normal(0, 1)\n",
    "            x_new = np.array([x[i]+vector_displacement for i in range(self.dim)]).reshape((self.dim, 1))\n",
    "\n",
    "            # dodanie nowego osobnika do populacji\n",
    "            self.new_population = np.concatenate((self.new_population, x_new), axis=1)\n",
    "        \n",
    "        \n",
    "    def count_fun_values(self):\n",
    "        self.fun_values = []\n",
    "        for i in range(self.new_population.shape[1]):\n",
    "            self.fun_values.append(self.fun(self.new_population[:,i]))    \n",
    "        \n",
    "    def evaluate(self):\n",
    "        '''Liczenie wartości funkcji optymalizowanej. Zwraca indeksy osobników o najniższych wartościach fun.'''\n",
    "        self.count_fun_values()\n",
    "        min_args = np.argpartition(self.fun_values, self.N)[:self.N]\n",
    "        return min_args\n",
    "        \n",
    "    def select(self):\n",
    "        '''Algorytm selekcji - w populacji zostawiamy self.N osobników o najniższych wartościach funkcji optymalizowanej.'''\n",
    "        min_args = self.evaluate()\n",
    "        self.population = self.new_population[:, min_args]\n",
    "        \n",
    "    def show_2d_results(self):\n",
    "        plt.scatter(x = self.population[0,:], y = self.population[1,:])\n",
    "        plt.xlim((-3, 3))\n",
    "        plt.ylim((-3, 3))\n",
    "        plt.show()\n",
    "        \n",
    "    def count_mean_vector(self):\n",
    "        '''Liczy wartości średnie osobników z populacji.'''\n",
    "        mean_vec = np.mean(self.population, axis=1)\n",
    "        \n",
    "    def fit(self, n_epochs=10):\n",
    "        '''Tyle krzyżowań i mutacji, ile osobników w populacji'''\n",
    "        iter = 0\n",
    "        while iter < n_epochs:\n",
    "            for i in range(self.N):\n",
    "                self.cross()\n",
    "            \n",
    "            for i in range(self.N):\n",
    "                x = self.population[:,i]\n",
    "                self.mutate(x)\n",
    "            self.select()\n",
    "            \n",
    "            if self.dim == 2 and iter%self.verbose_step==0:\n",
    "                print(iter)\n",
    "                self.show_2d_results()\n",
    "                \n",
    "            if iter%self.verbose_step == 0:\n",
    "                print(iter)\n",
    "                self.count_mean_vector()\n",
    "                \n",
    "            \n",
    "            self.minimum_per_epoch.append(np.min(self.fun_values))\n",
    "            \n",
    "            iter += 1\n",
    "            \n",
    "    def visualize_min(self):\n",
    "        plt.plot(range(1,len(self.minimum_per_epoch)+1), self.minimum_per_epoch)\n",
    "        plt.xlabel('epoch number')\n",
    "        plt.ylabel('minimum value of function of population')\n",
    "        plt.title('Minimum value of function')\n",
    "        plt.show()"
   ]
  },
  {
   "cell_type": "code",
   "execution_count": 372,
   "id": "40883507-5d7d-4153-96dc-1b8af0d45607",
   "metadata": {},
   "outputs": [
    {
     "name": "stdout",
     "output_type": "stream",
     "text": [
      "0\n"
     ]
    }
   ],
   "source": [
    "ae = AE(3, 50, fun1, verbose_step=50)\n",
    "ae.fit(n_epochs=31)"
   ]
  },
  {
   "cell_type": "code",
   "execution_count": 373,
   "id": "692ad081-5cc5-403b-ac00-a6eceb168d03",
   "metadata": {},
   "outputs": [
    {
     "data": {
      "image/png": "[encoded data removed]",
      "text/plain": [
       "<Figure size 432x288 with 1 Axes>"
      ]
     },
     "metadata": {
      "needs_background": "light"
     },
     "output_type": "display_data"
    }
   ],
   "source": [
    "ae.visualize_min()"
   ]
  },
  {
   "cell_type": "markdown",
   "id": "d4fbe930-1b58-49ef-bfed-74fcb3634fc4",
   "metadata": {},
   "source": [
    "Obserwacje: Średnie wartości osobników rzeczywiście zbliżają się do punktu minimalnego (0,0). Wniosek: algorytm działa poprawnie."
   ]
  },
  {
   "cell_type": "markdown",
   "id": "bdbefb17-9c68-4373-bad2-735f7227c064",
   "metadata": {},
   "source": [
    "- funkcja Rastrigina"
   ]
  },
  {
   "cell_type": "code",
   "execution_count": 374,
   "id": "51c29061-bdba-4960-a1dc-8449e0372525",
   "metadata": {},
   "outputs": [
    {
     "name": "stdout",
     "output_type": "stream",
     "text": [
      "0\n"
     ]
    }
   ],
   "source": [
    "ae = AE(5, 50, rastrigin_fun, verbose_step=50)\n",
    "ae.fit(n_epochs=31)"
   ]
  },
  {
   "cell_type": "code",
   "execution_count": 375,
   "id": "34a66d99-6886-45c9-97f0-e165f8b92c7c",
   "metadata": {},
   "outputs": [
    {
     "data": {
      "image/png": "[encoded data removed]",
      "text/plain": [
       "<Figure size 432x288 with 1 Axes>"
      ]
     },
     "metadata": {
      "needs_background": "light"
     },
     "output_type": "display_data"
    }
   ],
   "source": [
    "ae.visualize_min()"
   ]
  },
  {
   "cell_type": "markdown",
   "id": "fd95d9fe-3b22-44bd-be9d-b63d0800839f",
   "metadata": {},
   "source": [
    "Funkcja Rastrigina działa. Od pewnego momentu zmiany populacji są tak małe, że aż niezauważalne. Minimum dla pięciu wymiarów wynosi ok. 45."
   ]
  },
  {
   "cell_type": "code",
   "execution_count": null,
   "id": "39e6443c-21ab-446a-9614-0141f7fa2cad",
   "metadata": {},
   "outputs": [],
   "source": []
  },
  {
   "cell_type": "markdown",
   "id": "e3f59a3f-2a3d-44bf-9b4d-ab1c16ebe63f",
   "metadata": {},
   "source": [
    "# Testy dla funkcji dwuwymiarowych\n",
    "- fun2 (minimum powinno przypadać w (0,0))\n",
    "- fun3 (minimum powinno przypadać w (-3,0))"
   ]
  },
  {
   "cell_type": "code",
   "execution_count": 327,
   "id": "5bcd5f8f-4ceb-405a-95c6-038b1182a5f2",
   "metadata": {},
   "outputs": [
    {
     "name": "stdout",
     "output_type": "stream",
     "text": [
      "0\n"
     ]
    },
    {
     "data": {
      "image/png": "[encoded data removed]",
      "text/plain": [
       "<Figure size 432x288 with 1 Axes>"
      ]
     },
     "metadata": {
      "needs_background": "light"
     },
     "output_type": "display_data"
    },
    {
     "name": "stdout",
     "output_type": "stream",
     "text": [
      "5\n"
     ]
    },
    {
     "data": {
      "image/png": "[encoded data removed]",
      "text/plain": [
       "<Figure size 432x288 with 1 Axes>"
      ]
     },
     "metadata": {
      "needs_background": "light"
     },
     "output_type": "display_data"
    },
    {
     "name": "stdout",
     "output_type": "stream",
     "text": [
      "10\n"
     ]
    },
    {
     "data": {
      "image/png": "[encoded data removed]",
      "text/plain": [
       "<Figure size 432x288 with 1 Axes>"
      ]
     },
     "metadata": {
      "needs_background": "light"
     },
     "output_type": "display_data"
    },
    {
     "name": "stdout",
     "output_type": "stream",
     "text": [
      "15\n"
     ]
    },
    {
     "data": {
      "image/png": "[encoded data removed]",
      "text/plain": [
       "<Figure size 432x288 with 1 Axes>"
      ]
     },
     "metadata": {
      "needs_background": "light"
     },
     "output_type": "display_data"
    },
    {
     "name": "stdout",
     "output_type": "stream",
     "text": [
      "20\n"
     ]
    },
    {
     "data": {
      "image/png": "[encoded data removed]",
      "text/plain": [
       "<Figure size 432x288 with 1 Axes>"
      ]
     },
     "metadata": {
      "needs_background": "light"
     },
     "output_type": "display_data"
    },
    {
     "name": "stdout",
     "output_type": "stream",
     "text": [
      "25\n"
     ]
    },
    {
     "data": {
      "image/png": "[encoded data removed]",
      "text/plain": [
       "<Figure size 432x288 with 1 Axes>"
      ]
     },
     "metadata": {
      "needs_background": "light"
     },
     "output_type": "display_data"
    }
   ],
   "source": [
    "ae = AE(2, 50, fun2)\n",
    "ae.fit(n_epochs=30)"
   ]
  },
  {
   "cell_type": "code",
   "execution_count": 326,
   "id": "db9b04d4-54c8-445a-bef2-6ba1a16d7f65",
   "metadata": {},
   "outputs": [
    {
     "name": "stdout",
     "output_type": "stream",
     "text": [
      "0\n"
     ]
    },
    {
     "data": {
      "image/png": "[encoded data removed]",
      "text/plain": [
       "<Figure size 432x288 with 1 Axes>"
      ]
     },
     "metadata": {
      "needs_background": "light"
     },
     "output_type": "display_data"
    },
    {
     "name": "stdout",
     "output_type": "stream",
     "text": [
      "5\n"
     ]
    },
    {
     "data": {
      "image/png": "[encoded data removed]",
      "text/plain": [
       "<Figure size 432x288 with 1 Axes>"
      ]
     },
     "metadata": {
      "needs_background": "light"
     },
     "output_type": "display_data"
    },
    {
     "name": "stdout",
     "output_type": "stream",
     "text": [
      "10\n"
     ]
    },
    {
     "data": {
      "image/png": "[encoded data removed]",
      "text/plain": [
       "<Figure size 432x288 with 1 Axes>"
      ]
     },
     "metadata": {
      "needs_background": "light"
     },
     "output_type": "display_data"
    },
    {
     "name": "stdout",
     "output_type": "stream",
     "text": [
      "15\n"
     ]
    },
    {
     "data": {
      "image/png": "[encoded data removed]",
      "text/plain": [
       "<Figure size 432x288 with 1 Axes>"
      ]
     },
     "metadata": {
      "needs_background": "light"
     },
     "output_type": "display_data"
    },
    {
     "name": "stdout",
     "output_type": "stream",
     "text": [
      "20\n"
     ]
    },
    {
     "data": {
      "image/png": "[encoded data removed]",
      "text/plain": [
       "<Figure size 432x288 with 1 Axes>"
      ]
     },
     "metadata": {
      "needs_background": "light"
     },
     "output_type": "display_data"
    },
    {
     "name": "stdout",
     "output_type": "stream",
     "text": [
      "25\n"
     ]
    },
    {
     "data": {
      "image/png": "[encoded data removed]",
      "text/plain": [
       "<Figure size 432x288 with 1 Axes>"
      ]
     },
     "metadata": {
      "needs_background": "light"
     },
     "output_type": "display_data"
    }
   ],
   "source": [
    "ae = AE(2, 50, fun3)\n",
    "ae.fit(n_epochs=30)"
   ]
  },
  {
   "cell_type": "code",
   "execution_count": null,
   "id": "ae4988af-8869-4002-8093-38e40c6496d0",
   "metadata": {},
   "outputs": [],
   "source": []
  },
  {
   "cell_type": "code",
   "execution_count": null,
   "id": "c48b4fae-deec-4c5d-b96f-ec009fdb4fe5",
   "metadata": {},
   "outputs": [],
   "source": []
  }
 ],
 "metadata": {
  "kernelspec": {
   "display_name": "koh_venv",
   "language": "python",
   "name": "koh_venv"
  },
  "language_info": {
   "codemirror_mode": {
    "name": "ipython",
    "version": 3
   },
   "file_extension": ".py",
   "mimetype": "text/x-python",
   "name": "python",
   "nbconvert_exporter": "python",
   "pygments_lexer": "ipython3",
   "version": "3.8.10"
  }
 },
 "nbformat": 4,
 "nbformat_minor": 5
}
