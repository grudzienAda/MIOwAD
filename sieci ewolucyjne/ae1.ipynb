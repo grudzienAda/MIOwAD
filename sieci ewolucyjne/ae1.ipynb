{
 "cells": [
  {
   "cell_type": "markdown",
   "id": "70672de3-0afa-4366-a658-8c1251af77c2",
   "metadata": {},
   "source": [
    "# AE1: Implementacja algorytmu genetycznego – opt. f-cji kwadratowej w R³\n",
    "Adrianna Grudzień\n",
    "\n",
    "\n",
    "Podstawowy algorytm genetyczny z mutacją gaussowską i krzyżowaniem jednopunktowym. Sprawdzić działanie algorytmu na funkcji x2+y2+2z2 oraz na pięciowymiarowej funkcji Rastrigina. \n",
    "\n"
   ]
  },
  {
   "cell_type": "markdown",
   "id": "1d3e1372-2873-412a-b65d-b886ae1acad7",
   "metadata": {},
   "source": [
    "Poczynione kroki:\n",
    "1. Inicjalizacja populacji - N x-ów"
   ]
  },
  {
   "cell_type": "code",
<<<<<<< HEAD
   "execution_count": 302,
=======
   "execution_count": 36,
>>>>>>> c76580c560b4666bb6d45a42fce09148d3bb8a36
   "id": "fe39fbbb-b86e-4a3d-9808-5680f6cf2f7f",
   "metadata": {},
   "outputs": [],
   "source": [
<<<<<<< HEAD
    "import numpy as np\n",
    "import copy\n",
    "import matplotlib.pyplot as plt"
=======
    "import numpy as np"
>>>>>>> c76580c560b4666bb6d45a42fce09148d3bb8a36
   ]
  },
  {
   "cell_type": "markdown",
   "id": "52e54d28-96bd-4bc7-a603-f1eef7bebd59",
   "metadata": {},
   "source": [
    "## Funkcje pomocnicze"
   ]
  },
  {
   "cell_type": "code",
<<<<<<< HEAD
   "execution_count": 5,
=======
   "execution_count": 28,
>>>>>>> c76580c560b4666bb6d45a42fce09148d3bb8a36
   "id": "a6886db1-f1cc-4b01-b8dc-1914a234fe88",
   "metadata": {},
   "outputs": [],
   "source": [
    "def multiply_array(scalar, x):\n",
    "    x_new = np.zeros(len(x))\n",
    "    for i in range(len(x)):\n",
    "        x_new[i] = x[i] + x[i]*scalar\n",
    "    return x"
   ]
  },
  {
   "cell_type": "markdown",
   "id": "222eb1be-1b6b-4c6d-b8a5-ac630739a2bf",
   "metadata": {},
   "source": [
    "## Funkcje"
   ]
  },
  {
   "cell_type": "code",
<<<<<<< HEAD
   "execution_count": 322,
=======
   "execution_count": 32,
>>>>>>> c76580c560b4666bb6d45a42fce09148d3bb8a36
   "id": "536a6499-f530-43e8-947f-21bf4f00a891",
   "metadata": {},
   "outputs": [],
   "source": [
    "def fun1(x):\n",
    "    'x - array with length=3'\n",
    "    return np.square(x[0]) + np.square(x[1]) + 2*np.square(x[2])\n",
    "\n",
    "def rastrigin_fun(x):\n",
    "    'x - array'\n",
    "    A = 10\n",
    "    n = len(x)\n",
<<<<<<< HEAD
    "    return A*n + np.sum(np.square(x) - multiply_array(A,np.cos(multiply_array(2*np.pi, x))))\n",
    "\n",
    "def fun2(x):\n",
    "    '''Funkcja testowa dwuwymiarowa do sprawdzania poprawności algorytmu z wizualizacją 2d'''\n",
    "    return np.square(x[0]) + np.square(x[1])\n",
    "def fun3(x):\n",
    "    '''Funkcja testowa dwuwymiarowa do sprawdzania poprawności algorytmu z wizualizacją 2d'''\n",
    "    return np.square(x[0]) + np.square(x[1] + 3)"
=======
    "    return A*n + np.sum(np.square(x) - multiply_array(A,np.cos(multiply_array(2*np.pi, x))))\n"
>>>>>>> c76580c560b4666bb6d45a42fce09148d3bb8a36
   ]
  },
  {
   "cell_type": "code",
<<<<<<< HEAD
   "execution_count": 337,
=======
   "execution_count": 54,
>>>>>>> c76580c560b4666bb6d45a42fce09148d3bb8a36
   "id": "99a2bb89-d466-4f94-b0ce-2c406336f3f4",
   "metadata": {},
   "outputs": [],
   "source": [
    "class AE:\n",
<<<<<<< HEAD
    "    def __init__(self, dim, N, fun=fun1, verbose_step=10):\n",
    "        self.N = N # liczność popoulacji\n",
    "        self.dim = dim # wymiar obserwacji\n",
    "        self.population = np.zeros(shape=(dim, N))\n",
    "        self._initialize_population()\n",
    "        self.new_population = copy.deepcopy(self.population) # populacja, do której będą dodawane nowe osobniki\n",
    "        self.fun = fun\n",
    "        self.verbose_step = verbose_step\n",
    "\n",
    "        \n",
    "    def _initialize_population(self):\n",
    "        for i in range(self.dim):\n",
    "            for j in range(self.N):\n",
    "                self.population[i][j] = np.random.uniform(0,1, size=1)\n",
    "        \n",
    "         \n",
    "    def select_radomly_from_population(self):\n",
    "        '''Losowanie dowolnego osobnika z populacji.'''\n",
    "        randomCol = np.random.randint(self.N, size=1)\n",
    "        return self.population[:, randomCol]\n",
    "         \n",
    "        \n",
    "    def cross(self, prob_boundary=0.7):\n",
    "        '''\n",
    "        Krzyżowanie. Dla dowolnej długości wektora.\n",
    "        - losujemy 2 wektory x1, x2 i tworzymy nowego osobnika z połowy wartości x1\n",
    "        oraz drugiej połowy wartości x2\n",
    "        '''\n",
    "        \n",
    "        drawn_prob = np.random.uniform(0,1) # wylosowane prawdopodobieństwo krzyżowania dla danych osobników\n",
    "        if drawn_prob <= prob_boundary:\n",
    "            # losowanie osobników\n",
    "            x1 = self.select_radomly_from_population()\n",
    "            x2 = self.select_radomly_from_population()\n",
    "            # określenie ile wartości z x1, x2 bierzemy do utworzenia nowego osobnika n2=self.dim-n1\n",
    "            n1 = self.dim//2\n",
    "\n",
    "            # łączenie osobników\n",
    "            x_new = np.zeros((self.dim, 1))\n",
    "            for i in range(x_new.shape[0]):\n",
    "                if i < n1:\n",
    "                    x_new[i] = x1[i]\n",
    "                else:\n",
    "                    x_new[i] = x2[i]\n",
    "\n",
    "            # dodanie nowego osobnika do populacji\n",
    "            self.new_population = np.concatenate((self.new_population, x_new), axis=1)\n",
    "        \n",
    "        \n",
    "    def mutate(self, x, prob_boundary=0.2):\n",
    "        '''Mutacja gaussowska - wylosowanie zgodnie z rozkładem normalnym \n",
    "        przesunięcia wektora w każdym z kierunków\n",
    "        \n",
    "        x - mutowany osobnik\n",
    "        prob_boundary - prawdopodobieństwo mutacji na pojedynczy osobniku (prawd. graniczne)\n",
    "        '''\n",
    "    \n",
    "        drawn_prob = np.random.uniform(0,1) # wylosowane prawdopodobieństwo mutacji dla danego osobnika\n",
    "        if drawn_prob <= prob_boundary:\n",
    "            vector_displacement = np.random.normal(0, 1)\n",
    "            x_new = np.array([x[i]+vector_displacement for i in range(self.dim)]).reshape((self.dim, 1))\n",
    "\n",
    "            # dodanie nowego osobnika do populacji\n",
    "            self.new_population = np.concatenate((self.new_population, x_new), axis=1)\n",
    "        \n",
    "    def evaluate(self):\n",
    "        '''Liczenie wartości funkcji optymalizowanej. Zwraca indeksy osobników o najniższych wartościach fun.'''\n",
    "        self.fun_values = []\n",
    "        for i in range(self.new_population.shape[1]):\n",
    "            self.fun_values.append(self.fun(self.new_population[:,i]))\n",
    "        min_args = np.argpartition(self.fun_values, self.N)[:self.N]\n",
    "        return min_args\n",
    "        \n",
    "    def select(self):\n",
    "        '''Algorytm selekcji - w populacji zostawiamy self.N osobników o najniższych wartościach funkcji optymalizowanej.'''\n",
    "        min_args = self.evaluate()\n",
    "        self.population = self.new_population[:, min_args]\n",
    "        \n",
    "    def show_2d_results(self):\n",
    "        plt.scatter(x = self.population[0,:], y = self.population[1,:])\n",
    "        plt.xlim((-3, 3))\n",
    "        plt.ylim((-3, 3))\n",
    "        plt.show()\n",
    "        \n",
    "    def count_mean_vector(self):\n",
    "        '''Liczy wartości średnie osobników z populacji.'''\n",
    "        mean_vec = np.mean(self.population, axis=1)\n",
    "        print(mean_vec)\n",
    "        \n",
    "    def fit(self, n_epochs=10):\n",
    "        '''Tyle krzyżowań i mutacji, ile osobników w populacji'''\n",
    "        iter = 0\n",
    "        while iter < n_epochs:\n",
    "            for i in range(self.N):\n",
    "                self.cross()\n",
    "            \n",
    "            for i in range(self.N):\n",
    "                x = self.population[:,i]\n",
    "                self.mutate(x)\n",
    "            self.select()\n",
    "            \n",
    "            if self.dim == 2 and iter%self.verbose_step==0:\n",
    "                print(iter)\n",
    "                self.show_2d_results()\n",
    "                \n",
    "            if iter%self.verbose_step == 0:\n",
    "                print(iter)\n",
    "                self.count_mean_vector()\n",
    "            iter += 1\n",
    "            "
   ]
  },
  {
   "cell_type": "code",
   "execution_count": 340,
   "id": "40883507-5d7d-4153-96dc-1b8af0d45607",
   "metadata": {},
   "outputs": [
    {
     "name": "stdout",
     "output_type": "stream",
     "text": [
      "0\n",
      "[0.41705498 0.40253208 0.36783075]\n",
      "50\n",
      "[ 0.00442387  0.04738083 -0.02501983]\n",
      "100\n",
      "[ 0.00425361  0.04738083 -0.02501983]\n",
      "150\n",
      "[ 0.00425361  0.04738083 -0.02501983]\n",
      "200\n",
      "[ 0.00425361  0.04738083 -0.02501983]\n",
      "250\n",
      "[ 0.00365165  0.04738083 -0.02501983]\n",
      "300\n",
      "[ 0.00365165  0.04738083 -0.02501983]\n"
     ]
    }
   ],
   "source": [
    "ae = AE(3, 50, fun1, verbose_step=50)\n",
    "ae.fit(n_epochs=301)"
   ]
  },
  {
   "cell_type": "markdown",
   "id": "d4fbe930-1b58-49ef-bfed-74fcb3634fc4",
   "metadata": {},
   "source": [
    "Obserwacje: Średnie wartości osobników rzeczywiście zbliżają się do punktu minimalnego (0,0). Wniosek: algorytm działa poprawnie."
   ]
  },
  {
   "cell_type": "markdown",
   "id": "bdbefb17-9c68-4373-bad2-735f7227c064",
   "metadata": {},
   "source": [
    "- funkcja Rastrigina"
   ]
  },
  {
   "cell_type": "code",
   "execution_count": 341,
   "id": "fdf97d82-bb33-4d51-b8f2-1d68b69922b5",
   "metadata": {},
   "outputs": [
    {
     "name": "stdout",
     "output_type": "stream",
     "text": [
      "0\n",
      "[0.30848005 0.30636106 0.3731165 ]\n",
      "50\n",
      "[0.00412676 0.00568266 0.0025916 ]\n",
      "100\n",
      "[-0.00132971 -0.00026984 -0.00336091]\n",
      "150\n",
      "[-0.00132971 -0.00026984 -0.00336091]\n",
      "200\n",
      "[-0.00132971 -0.00026984 -0.00336091]\n",
      "250\n",
      "[ 0.00102207  0.00208193 -0.00100914]\n",
      "300\n",
      "[ 0.00102207  0.00208193 -0.00100914]\n"
     ]
    }
   ],
   "source": [
    "ae = AE(3, 50, rastrigin_fun, verbose_step=50)\n",
    "ae.fit(n_epochs=301)"
=======
    "    def __init__(self, N, dim):\n",
    "        self.N = N # liczność popoulacji\n",
    "        self.dim = dim # wymiar obserwacji\n",
    "        self._initialize_population()\n",
    "        \n",
    "    def _initialize_population(self):\n",
    "        self.population = [np.random.uniform(0,1, size=(self.dim, self.N)) for i in range(self.N)]"
>>>>>>> c76580c560b4666bb6d45a42fce09148d3bb8a36
   ]
  },
  {
   "cell_type": "code",
<<<<<<< HEAD
   "execution_count": 342,
   "id": "51c29061-bdba-4960-a1dc-8449e0372525",
=======
   "execution_count": 53,
   "id": "db9b04d4-54c8-445a-bef2-6ba1a16d7f65",
>>>>>>> c76580c560b4666bb6d45a42fce09148d3bb8a36
   "metadata": {},
   "outputs": [
    {
     "name": "stdout",
     "output_type": "stream",
     "text": [
<<<<<<< HEAD
      "0\n",
      "[0.31989268 0.31454735 0.41105582 0.41185802 0.34118563]\n",
      "50\n",
      "[-0.03629959  0.05515009  0.07215996 -0.0992205   0.02375959]\n",
      "100\n",
      "[-0.03629959  0.05515009  0.07215996 -0.0992205   0.02375959]\n",
      "150\n",
      "[-0.04248302  0.04896666  0.07215996 -0.0992205   0.02375959]\n",
      "200\n",
      "[-0.04248302  0.04896666  0.07215996 -0.0992205   0.02375959]\n",
      "250\n",
      "[-0.04248302  0.04896666  0.07215996 -0.0992205   0.02375959]\n",
      "300\n",
      "[-0.04248302  0.04896666  0.07215996 -0.0992205   0.02375959]\n"
=======
      "50\n"
>>>>>>> c76580c560b4666bb6d45a42fce09148d3bb8a36
     ]
    }
   ],
   "source": [
<<<<<<< HEAD
    "ae = AE(5, 50, rastrigin_fun, verbose_step=50)\n",
    "ae.fit(n_epochs=301)"
   ]
  },
  {
   "cell_type": "markdown",
   "id": "fd95d9fe-3b22-44bd-be9d-b63d0800839f",
   "metadata": {},
   "source": [
    "Funkcja Rastrigina działa. Od pewnego momentu zmiany populacji są tak małe, że aż niezauważalne."
=======
    "ae = AE(50, 3)"
>>>>>>> c76580c560b4666bb6d45a42fce09148d3bb8a36
   ]
  },
  {
   "cell_type": "code",
   "execution_count": null,
<<<<<<< HEAD
   "id": "39e6443c-21ab-446a-9614-0141f7fa2cad",
=======
   "id": "a9cf20cc-38f4-4ac7-9f4d-537968a578c3",
>>>>>>> c76580c560b4666bb6d45a42fce09148d3bb8a36
   "metadata": {},
   "outputs": [],
   "source": []
  },
  {
<<<<<<< HEAD
   "cell_type": "markdown",
   "id": "e3f59a3f-2a3d-44bf-9b4d-ab1c16ebe63f",
   "metadata": {},
   "source": [
    "# Testy dla funkcji dwuwymiarowych\n",
    "- fun2 (minimum powinno przypadać w (0,0))\n",
    "- fun3 (minimum powinno przypadać w (-3,0))"
   ]
  },
  {
   "cell_type": "code",
   "execution_count": 327,
   "id": "5bcd5f8f-4ceb-405a-95c6-038b1182a5f2",
   "metadata": {},
   "outputs": [
    {
     "name": "stdout",
     "output_type": "stream",
     "text": [
      "0\n"
     ]
    },
    {
     "data": {
      "image/png": "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\n",
      "text/plain": [
       "<Figure size 432x288 with 1 Axes>"
      ]
     },
     "metadata": {
      "needs_background": "light"
     },
     "output_type": "display_data"
    },
    {
     "name": "stdout",
     "output_type": "stream",
     "text": [
      "5\n"
     ]
    },
    {
     "data": {
      "image/png": "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\n",
      "text/plain": [
       "<Figure size 432x288 with 1 Axes>"
      ]
     },
     "metadata": {
      "needs_background": "light"
     },
     "output_type": "display_data"
    },
    {
     "name": "stdout",
     "output_type": "stream",
     "text": [
      "10\n"
     ]
    },
    {
     "data": {
      "image/png": "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\n",
      "text/plain": [
       "<Figure size 432x288 with 1 Axes>"
      ]
     },
     "metadata": {
      "needs_background": "light"
     },
     "output_type": "display_data"
    },
    {
     "name": "stdout",
     "output_type": "stream",
     "text": [
      "15\n"
     ]
    },
    {
     "data": {
      "image/png": "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\n",
      "text/plain": [
       "<Figure size 432x288 with 1 Axes>"
      ]
     },
     "metadata": {
      "needs_background": "light"
     },
     "output_type": "display_data"
    },
    {
     "name": "stdout",
     "output_type": "stream",
     "text": [
      "20\n"
     ]
    },
    {
     "data": {
      "image/png": "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\n",
      "text/plain": [
       "<Figure size 432x288 with 1 Axes>"
      ]
     },
     "metadata": {
      "needs_background": "light"
     },
     "output_type": "display_data"
    },
    {
     "name": "stdout",
     "output_type": "stream",
     "text": [
      "25\n"
     ]
    },
    {
     "data": {
      "image/png": "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\n",
      "text/plain": [
       "<Figure size 432x288 with 1 Axes>"
      ]
     },
     "metadata": {
      "needs_background": "light"
     },
     "output_type": "display_data"
    }
   ],
   "source": [
    "ae = AE(2, 50, fun2)\n",
    "ae.fit(n_epochs=30)"
   ]
  },
  {
   "cell_type": "code",
   "execution_count": 326,
   "id": "db9b04d4-54c8-445a-bef2-6ba1a16d7f65",
   "metadata": {},
   "outputs": [
    {
     "name": "stdout",
     "output_type": "stream",
     "text": [
      "0\n"
     ]
    },
    {
     "data": {
      "image/png": "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\n",
      "text/plain": [
       "<Figure size 432x288 with 1 Axes>"
      ]
     },
     "metadata": {
      "needs_background": "light"
     },
     "output_type": "display_data"
    },
    {
     "name": "stdout",
     "output_type": "stream",
     "text": [
      "5\n"
     ]
    },
    {
     "data": {
      "image/png": "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\n",
      "text/plain": [
       "<Figure size 432x288 with 1 Axes>"
      ]
     },
     "metadata": {
      "needs_background": "light"
     },
     "output_type": "display_data"
    },
    {
     "name": "stdout",
     "output_type": "stream",
     "text": [
      "10\n"
     ]
    },
    {
     "data": {
      "image/png": "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\n",
      "text/plain": [
       "<Figure size 432x288 with 1 Axes>"
      ]
     },
     "metadata": {
      "needs_background": "light"
     },
     "output_type": "display_data"
    },
    {
     "name": "stdout",
     "output_type": "stream",
     "text": [
      "15\n"
     ]
    },
    {
     "data": {
      "image/png": "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\n",
      "text/plain": [
       "<Figure size 432x288 with 1 Axes>"
      ]
     },
     "metadata": {
      "needs_background": "light"
     },
     "output_type": "display_data"
    },
    {
     "name": "stdout",
     "output_type": "stream",
     "text": [
      "20\n"
     ]
    },
    {
     "data": {
      "image/png": "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\n",
      "text/plain": [
       "<Figure size 432x288 with 1 Axes>"
      ]
     },
     "metadata": {
      "needs_background": "light"
     },
     "output_type": "display_data"
    },
    {
     "name": "stdout",
     "output_type": "stream",
     "text": [
      "25\n"
     ]
    },
    {
     "data": {
      "image/png": "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\n",
      "text/plain": [
       "<Figure size 432x288 with 1 Axes>"
      ]
     },
     "metadata": {
      "needs_background": "light"
     },
     "output_type": "display_data"
    }
   ],
   "source": [
    "ae = AE(2, 50, fun3)\n",
    "ae.fit(n_epochs=30)"
   ]
  },
  {
   "cell_type": "code",
   "execution_count": null,
   "id": "ae4988af-8869-4002-8093-38e40c6496d0",
=======
   "cell_type": "code",
   "execution_count": null,
   "id": "f084ac3d-be05-49ed-87ea-9191cee17040",
>>>>>>> c76580c560b4666bb6d45a42fce09148d3bb8a36
   "metadata": {},
   "outputs": [],
   "source": []
  },
  {
   "cell_type": "code",
   "execution_count": null,
<<<<<<< HEAD
   "id": "c48b4fae-deec-4c5d-b96f-ec009fdb4fe5",
=======
   "id": "ff21b5f6-ace5-4d55-bf3b-8bf7ab5a0af3",
>>>>>>> c76580c560b4666bb6d45a42fce09148d3bb8a36
   "metadata": {},
   "outputs": [],
   "source": []
  }
 ],
 "metadata": {
  "kernelspec": {
   "display_name": "koh_venv",
   "language": "python",
   "name": "koh_venv"
  },
  "language_info": {
   "codemirror_mode": {
    "name": "ipython",
    "version": 3
   },
   "file_extension": ".py",
   "mimetype": "text/x-python",
   "name": "python",
   "nbconvert_exporter": "python",
   "pygments_lexer": "ipython3",
   "version": "3.8.10"
  }
 },
 "nbformat": 4,
 "nbformat_minor": 5
}
