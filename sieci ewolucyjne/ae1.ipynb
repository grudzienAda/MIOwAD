{
 "cells": [
  {
   "cell_type": "markdown",
   "id": "70672de3-0afa-4366-a658-8c1251af77c2",
   "metadata": {},
   "source": [
    "# AE1: Implementacja algorytmu genetycznego – opt. f-cji kwadratowej w R³\n",
    "Adrianna Grudzień\n",
    "\n",
    "\n",
    "Podstawowy algorytm genetyczny z mutacją gaussowską i krzyżowaniem jednopunktowym. Sprawdzić działanie algorytmu na funkcji x2+y2+2z2 oraz na pięciowymiarowej funkcji Rastrigina. \n",
    "\n"
   ]
  },
  {
   "cell_type": "markdown",
   "id": "1d3e1372-2873-412a-b65d-b886ae1acad7",
   "metadata": {},
   "source": [
    "Poczynione kroki:\n",
    "1. Inicjalizacja populacji - N x-ów"
   ]
  },
  {
   "cell_type": "code",
   "execution_count": 36,
   "id": "fe39fbbb-b86e-4a3d-9808-5680f6cf2f7f",
   "metadata": {},
   "outputs": [],
   "source": [
    "import numpy as np"
   ]
  },
  {
   "cell_type": "markdown",
   "id": "52e54d28-96bd-4bc7-a603-f1eef7bebd59",
   "metadata": {},
   "source": [
    "## Funkcje pomocnicze"
   ]
  },
  {
   "cell_type": "code",
   "execution_count": 28,
   "id": "a6886db1-f1cc-4b01-b8dc-1914a234fe88",
   "metadata": {},
   "outputs": [],
   "source": [
    "def multiply_array(scalar, x):\n",
    "    x_new = np.zeros(len(x))\n",
    "    for i in range(len(x)):\n",
    "        x_new[i] = x[i] + x[i]*scalar\n",
    "    return x"
   ]
  },
  {
   "cell_type": "markdown",
   "id": "222eb1be-1b6b-4c6d-b8a5-ac630739a2bf",
   "metadata": {},
   "source": [
    "## Funkcje"
   ]
  },
  {
   "cell_type": "code",
   "execution_count": 32,
   "id": "536a6499-f530-43e8-947f-21bf4f00a891",
   "metadata": {},
   "outputs": [],
   "source": [
    "def fun1(x):\n",
    "    'x - array with length=3'\n",
    "    return np.square(x[0]) + np.square(x[1]) + 2*np.square(x[2])\n",
    "\n",
    "def rastrigin_fun(x):\n",
    "    'x - array'\n",
    "    A = 10\n",
    "    n = len(x)\n",
    "    return A*n + np.sum(np.square(x) - multiply_array(A,np.cos(multiply_array(2*np.pi, x))))\n"
   ]
  },
  {
   "cell_type": "code",
   "execution_count": 54,
   "id": "99a2bb89-d466-4f94-b0ce-2c406336f3f4",
   "metadata": {},
   "outputs": [],
   "source": [
    "class AE:\n",
    "    def __init__(self, N, dim):\n",
    "        self.N = N # liczność popoulacji\n",
    "        self.dim = dim # wymiar obserwacji\n",
    "        self._initialize_population()\n",
    "        \n",
    "    def _initialize_population(self):\n",
    "        self.population = [np.random.uniform(0,1, size=(self.dim, self.N)) for i in range(self.N)]"
   ]
  },
  {
   "cell_type": "code",
   "execution_count": 53,
   "id": "db9b04d4-54c8-445a-bef2-6ba1a16d7f65",
   "metadata": {},
   "outputs": [
    {
     "name": "stdout",
     "output_type": "stream",
     "text": [
      "50\n"
     ]
    }
   ],
   "source": [
    "ae = AE(50, 3)"
   ]
  },
  {
   "cell_type": "code",
   "execution_count": null,
   "id": "a9cf20cc-38f4-4ac7-9f4d-537968a578c3",
   "metadata": {},
   "outputs": [],
   "source": []
  },
  {
   "cell_type": "code",
   "execution_count": null,
   "id": "f084ac3d-be05-49ed-87ea-9191cee17040",
   "metadata": {},
   "outputs": [],
   "source": []
  },
  {
   "cell_type": "code",
   "execution_count": null,
   "id": "ff21b5f6-ace5-4d55-bf3b-8bf7ab5a0af3",
   "metadata": {},
   "outputs": [],
   "source": []
  }
 ],
 "metadata": {
  "kernelspec": {
   "display_name": "koh_venv",
   "language": "python",
   "name": "koh_venv"
  },
  "language_info": {
   "codemirror_mode": {
    "name": "ipython",
    "version": 3
   },
   "file_extension": ".py",
   "mimetype": "text/x-python",
   "name": "python",
   "nbconvert_exporter": "python",
   "pygments_lexer": "ipython3",
   "version": "3.8.10"
  }
 },
 "nbformat": 4,
 "nbformat_minor": 5
}
