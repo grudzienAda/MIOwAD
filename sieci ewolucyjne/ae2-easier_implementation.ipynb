{
 "cells": [
  {
   "cell_type": "markdown",
   "id": "b18d444d-06bd-431b-940f-197281da0e35",
   "metadata": {
    "tags": []
   },
   "source": [
    "# AE2: Wypełnianie koła prostokątami\n",
    "Adrianna Grudzień\n",
    "\n",
    "Rozwiązanie wariantu problemu znanego w literaturze jako `cutting stock` problem.\n",
    "\n",
    "Mamy dane koło o promieniu r oraz zbiór dostępnych prostokątów zadanych przez trzy liczby: wysokość, szerokość i wartość.\n",
    "\n",
    "Celem jest ułożenie prostokątów w kole tak, aby zmaksymalizować sumę ich wartości, spełniając następujące warunki:\n",
    "\n",
    "- boki wszystkich prostokątów były równoległe do osi układu,\n",
    "- wnętrza prostokątów nie miały części wspólnej (intuicyjnie: prostokąty nie nachodzą na siebie, ale mogą się stykać bokami),\n",
    "- każdy prostokąt można wstawić dowolnie wiele razy.\n"
   ]
  },
  {
   "cell_type": "markdown",
   "id": "182a4bfa-c17d-4e92-ac7a-ab1f0bc32b71",
   "metadata": {},
   "source": [
    "- rotacja prostokąta to tak jakby inny prostokąt"
   ]
  },
  {
   "cell_type": "markdown",
   "id": "c8e58a23-0f49-4c7b-93d5-2fb0e6015018",
   "metadata": {
    "tags": []
   },
   "source": [
    "# Opis koncepcji rozwiązania\n",
    "Dla każdego osobnika przechowywana jest lista prostokątów oraz ich współrzędnych w układzie.\n",
    "\n",
    "**1. Inicjalizacja populacji.** \\\n",
    "Najpierw obliczam pole koła i obliczam ile maksymalnie prostokątów się w nim zmieści (na podstawie pola powierzchni) - n. Następnie wybieram losowo 1 punkt z koła (środek prostokąta). Sprawdzanie zaczynam od największego możliwego prostokąta - jeśli się nie mieści, sprawdzam coraz to mniejsze prostokąty.\n",
    "\n",
    "**2. Warunek stopu.** \\\n",
    "Ustalona a priori liczba iteracji.\n",
    "<!-- Określony poziom znalezionego rozwiązania wynikający z kryteriów oceny zadania. To znaczy wartość sumaryczna prostokątów przynajmniej 30 000 w kole o średnicy 800 oraz 30 000 w kole o średnicy 1 200, minimum 17 500 w kole o średnicy 1 000 oraz minimum 25 000 w kole o średnicy 1 100. -->\n",
    "\n",
    "**3. Krzyżowanie.** \\\n",
    "Losuję 2 rozwiązania z populacji. Nowego osobnika tworzę z prostokątów z górnej połowy pierwszego z nich oraz dolnej połowy drugiego z nich (tzn. biorę prostokąty, których środek się tam znajduje).\n",
    "\n",
    "**4. Mutacja.** \\\n",
    "Przesunięcie wszystkich prostokątów o losową wartość w losową stronę. \\\n",
    "Jeżeli na kole jest jeszcze miejsce, to wstawiam tam prostokąt. (Obliczam ile maksymalnie najmniejszych prostokątów się mieści. Zaczynam od największego możliwego i jeśli po wylosowaniu okazuje się, że jednak się nie mieści, to testuję mniejsze prostokąty.\n",
    "\n",
    "**5. Ewaluacja.** \\\n",
    "Liczę nagrodę, czyli zarobione z danego wycięcia pieniądze.\n",
    "\n",
    "**6. Selekcja.** \\\n",
    "W populacji zostawiam te wycięcia, które jednocześnie mają najwyższą funkcję nagrody i prostokąty nie wychodzą poza koło."
   ]
  },
  {
   "cell_type": "markdown",
   "id": "a994d587-c51e-4068-bcfb-34b0e771aa3e",
   "metadata": {},
   "source": [
    "## Metody (funkcje) pomocnicze"
   ]
  },
  {
   "cell_type": "code",
   "execution_count": 1,
   "id": "2e2cd095-8444-42a7-9514-acc492918604",
   "metadata": {},
   "outputs": [],
   "source": [
    "import numpy as np\n",
    "import copy\n",
    "import matplotlib.pyplot as plt\n",
    "import pandas as pd\n",
    "import copy"
   ]
  },
  {
   "cell_type": "code",
   "execution_count": 2,
   "id": "4129d64e-5cca-4bae-b791-d06028be6737",
   "metadata": {},
   "outputs": [],
   "source": [
    "r = 1000 # promień koła"
   ]
  },
  {
   "cell_type": "code",
   "execution_count": 3,
   "id": "2c30541c-3828-40db-a837-7a7772355557",
   "metadata": {},
   "outputs": [],
   "source": [
    "def max_count_of_rectangles(r, recArea):\n",
    "    cirArea = np.pi*np.square(r)\n",
    "    return int(np.floor(cirArea/recArea))"
   ]
  },
  {
   "cell_type": "code",
   "execution_count": 4,
   "id": "4b6da92c-c04f-4708-8a1d-364796451028",
   "metadata": {},
   "outputs": [
    {
     "data": {
      "text/plain": [
       "104"
      ]
     },
     "execution_count": 4,
     "metadata": {},
     "output_type": "execute_result"
    }
   ],
   "source": [
    "max_count_of_rectangles(1000, 200*150)"
   ]
  },
  {
   "cell_type": "markdown",
   "id": "e3755982-172e-4a1a-8cd9-66b7f2ceeb8e",
   "metadata": {
    "tags": []
   },
   "source": [
    "## Sortowanie desek względem $ za jednostkę"
   ]
  },
  {
   "cell_type": "code",
   "execution_count": 187,
   "id": "8a31cc59-96c2-4800-97ae-d59848c05e27",
   "metadata": {},
   "outputs": [
    {
     "data": {
      "text/html": [
       "<div>\n",
       "<style scoped>\n",
       "    .dataframe tbody tr th:only-of-type {\n",
       "        vertical-align: middle;\n",
       "    }\n",
       "\n",
       "    .dataframe tbody tr th {\n",
       "        vertical-align: top;\n",
       "    }\n",
       "\n",
       "    .dataframe thead th {\n",
       "        text-align: right;\n",
       "    }\n",
       "</style>\n",
       "<table border=\"1\" class=\"dataframe\">\n",
       "  <thead>\n",
       "    <tr style=\"text-align: right;\">\n",
       "      <th></th>\n",
       "      <th>szer.</th>\n",
       "      <th>wys.</th>\n",
       "      <th>$</th>\n",
       "    </tr>\n",
       "  </thead>\n",
       "  <tbody>\n",
       "    <tr>\n",
       "      <th>0</th>\n",
       "      <td>200</td>\n",
       "      <td>120</td>\n",
       "      <td>200</td>\n",
       "    </tr>\n",
       "    <tr>\n",
       "      <th>1</th>\n",
       "      <td>200</td>\n",
       "      <td>160</td>\n",
       "      <td>300</td>\n",
       "    </tr>\n",
       "    <tr>\n",
       "      <th>2</th>\n",
       "      <td>250</td>\n",
       "      <td>160</td>\n",
       "      <td>500</td>\n",
       "    </tr>\n",
       "    <tr>\n",
       "      <th>3</th>\n",
       "      <td>100</td>\n",
       "      <td>120</td>\n",
       "      <td>40</td>\n",
       "    </tr>\n",
       "    <tr>\n",
       "      <th>4</th>\n",
       "      <td>120</td>\n",
       "      <td>200</td>\n",
       "      <td>200</td>\n",
       "    </tr>\n",
       "    <tr>\n",
       "      <th>5</th>\n",
       "      <td>160</td>\n",
       "      <td>200</td>\n",
       "      <td>300</td>\n",
       "    </tr>\n",
       "    <tr>\n",
       "      <th>6</th>\n",
       "      <td>160</td>\n",
       "      <td>250</td>\n",
       "      <td>500</td>\n",
       "    </tr>\n",
       "    <tr>\n",
       "      <th>7</th>\n",
       "      <td>120</td>\n",
       "      <td>100</td>\n",
       "      <td>40</td>\n",
       "    </tr>\n",
       "  </tbody>\n",
       "</table>\n",
       "</div>"
      ],
      "text/plain": [
       "   szer.  wys.    $\n",
       "0    200   120  200\n",
       "1    200   160  300\n",
       "2    250   160  500\n",
       "3    100   120   40\n",
       "4    120   200  200\n",
       "5    160   200  300\n",
       "6    160   250  500\n",
       "7    120   100   40"
      ]
     },
     "execution_count": 187,
     "metadata": {},
     "output_type": "execute_result"
    }
   ],
   "source": [
    "r1000 = pd.read_csv('data/r1000.csv', header=None)\n",
    "r1000.columns = ['szer.', 'wys.', '$']\n",
    "n = len(r1000)\n",
    "for i in range(n):\n",
    "    r1000.loc[n+i] = [r1000.iloc[i][1], r1000.iloc[i][0], r1000.iloc[i][2]] # prostokąty w rotacji 90 stopni\n",
    "    \n",
    "r1000"
   ]
  },
  {
   "cell_type": "code",
   "execution_count": 188,
   "id": "4f62eb2f-b8da-4907-a0de-41131f9c64e4",
   "metadata": {},
   "outputs": [],
   "source": [
    "# r1000['pole pow.'] = r1000['szer.']*r1000['wys.']\n",
    "# r1000['$ ważona'] = r1000['$']/r1000['pole pow.']"
   ]
  },
  {
   "cell_type": "code",
   "execution_count": 189,
   "id": "b1e4938d-9c20-4ca1-b236-6262a97d112d",
   "metadata": {},
   "outputs": [],
   "source": [
    "# r1000 = r1000.sort_values(['$ ważona'], ascending=False, ignore_index=True)"
   ]
  },
  {
   "cell_type": "markdown",
   "id": "653ee288-90ef-4220-a0c7-eed708254ab0",
   "metadata": {},
   "source": [
    "W nazwie pliku jest podany `promień koła`, plik jest w formacie csv: pierwsza kolumna to `szerokość` prostokąta, druga to `wysokość`, trzecia to `wartość` prostokąta."
   ]
  },
  {
   "cell_type": "markdown",
   "id": "03b463a7-2225-4849-af05-c2f6ff1b878b",
   "metadata": {
    "tags": []
   },
   "source": [
    "# Funkcje pomocnicze"
   ]
  },
  {
   "cell_type": "code",
   "execution_count": 8,
   "id": "f91f66bf-23ce-40ab-9739-5ca2507812a5",
   "metadata": {},
   "outputs": [
    {
     "data": {
      "text/plain": [
       "[-62, -85]"
      ]
     },
     "execution_count": 8,
     "metadata": {},
     "output_type": "execute_result"
    }
   ],
   "source": [
    "def losuj_wspolrzedne_punktu(r):\n",
    "    x = np.random.randint(-r,r)\n",
    "    y = np.random.randint(-r,r)\n",
    "    return [x,y]\n",
    "    \n",
    "losuj_wspolrzedne_punktu(100)"
   ]
  },
  {
   "cell_type": "code",
   "execution_count": 9,
   "id": "d4ad4912-76dd-4209-83b4-71335d49984e",
   "metadata": {},
   "outputs": [
    {
     "data": {
      "text/plain": [
       "[[-50, 20], [-50, -20], [50, -20], [50, 20]]"
      ]
     },
     "execution_count": 9,
     "metadata": {},
     "output_type": "execute_result"
    }
   ],
   "source": [
    "def licz_wspolrzedne_wierzcholkow(wspolrzedne_srodka, wymiary_prostokata):\n",
    "    '''Współrzędne kolejno: górna lewa, dolna lewa, dolna prawa, górna prawa'''\n",
    "    x_srodka, y_srodka = wspolrzedne_srodka\n",
    "    szerokosc, wysokosc = wymiary_prostokata\n",
    "    x1, y1 = int(x_srodka-szerokosc/2), int(y_srodka+wysokosc/2)\n",
    "    x2, y2 = int(x_srodka-szerokosc/2), int(y_srodka-wysokosc/2)\n",
    "    x3, y3 = int(x_srodka+szerokosc/2), int(y_srodka-wysokosc/2)\n",
    "    x4, y4 = int(x_srodka+szerokosc/2), int(y_srodka+wysokosc/2)\n",
    "    return [[x1,y1], [x2,y2], [x3,y3], [x4,y4]]\n",
    "    \n",
    "licz_wspolrzedne_wierzcholkow([0,0], [100, 40])    "
   ]
  },
  {
   "cell_type": "code",
   "execution_count": 10,
   "id": "e4aac303-e283-4e14-9f91-94935afa710e",
   "metadata": {},
   "outputs": [
    {
     "name": "stdout",
     "output_type": "stream",
     "text": [
      "False\n",
      "True\n"
     ]
    }
   ],
   "source": [
    "def sprawdz_czy_punkt_lezy_wewnatrz_okregu(r, punkt):\n",
    "    return np.square(punkt[0])+np.square(punkt[1]) <= np.square(r)\n",
    "\n",
    "print(sprawdz_czy_punkt_lezy_wewnatrz_okregu(100, [100,100]))\n",
    "print(sprawdz_czy_punkt_lezy_wewnatrz_okregu(100, [0,100]))"
   ]
  },
  {
   "cell_type": "code",
   "execution_count": 11,
   "id": "97bfdac1-96a1-4130-8ccc-e7d6e8ad0f40",
   "metadata": {},
   "outputs": [
    {
     "data": {
      "text/plain": [
       "True"
      ]
     },
     "execution_count": 11,
     "metadata": {},
     "output_type": "execute_result"
    }
   ],
   "source": [
    "def sprawdz_czy_prostokat_lezy_wewnatrz_okregu(r, wspolrzedne_wierzcholkow):\n",
    "    if sprawdz_czy_punkt_lezy_wewnatrz_okregu(r, wspolrzedne_wierzcholkow[0]):\n",
    "        if sprawdz_czy_punkt_lezy_wewnatrz_okregu(r, wspolrzedne_wierzcholkow[1]):\n",
    "            if sprawdz_czy_punkt_lezy_wewnatrz_okregu(r, wspolrzedne_wierzcholkow[2]):\n",
    "                if sprawdz_czy_punkt_lezy_wewnatrz_okregu(r, wspolrzedne_wierzcholkow[3]):\n",
    "                    return True\n",
    "    else:\n",
    "        return False\n",
    "\n",
    "sprawdz_czy_prostokat_lezy_wewnatrz_okregu(100, [[-50, 20], [-50, -20], [50, -20], [50, 20]])"
   ]
  },
  {
   "cell_type": "code",
   "execution_count": 12,
   "id": "5555fe32-afd8-41da-be2b-1cbe35d580c1",
   "metadata": {},
   "outputs": [
    {
     "data": {
      "text/plain": [
       "[160, 250, 500]"
      ]
     },
     "execution_count": 12,
     "metadata": {},
     "output_type": "execute_result"
    }
   ],
   "source": [
    "def losuj_prostokat(data):\n",
    "    '''data - np. r1000'''\n",
    "    n = data.shape[0]\n",
    "    nr_prostokata = np.random.randint(n)\n",
    "    return list(np.array(data.iloc[nr_prostokata][:3]).astype(int))\n",
    "\n",
    "losuj_prostokat(r1000)"
   ]
  },
  {
   "cell_type": "code",
   "execution_count": 13,
   "id": "9877a2c9-4e06-4d9e-88d0-71bf29734544",
   "metadata": {},
   "outputs": [],
   "source": [
    "import matplotlib\n",
    "from matplotlib import pyplot as plt, patches"
   ]
  },
  {
   "cell_type": "code",
   "execution_count": 85,
   "id": "c4e1f945-4862-4027-a82a-d289859416b2",
   "metadata": {},
   "outputs": [
    {
     "data": {
      "image/png": "[encoded data removed]",
      "text/plain": [
       "<Figure size 432x288 with 1 Axes>"
      ]
     },
     "metadata": {
      "needs_background": "light"
     },
     "output_type": "display_data"
    }
   ],
   "source": [
    "def rysuj(r, lista_prostokatow):\n",
    "    '''lista_prostokatow [dolny_lewy_wierzcholek, wymiary]'''\n",
    "    fig = plt.figure()\n",
    "    ax = fig.add_subplot(111)\n",
    "    circle = patches.Circle((0,0), radius=r, color='red')\n",
    "    ax.add_patch(circle)\n",
    "    for i in range(len(lista_prostokatow)):\n",
    "        dolny_lewy_wierzcholek, wymiary = lista_prostokatow[i]\n",
    "        rect = patches.Rectangle(dolny_lewy_wierzcholek, wymiary[0], wymiary[1], color='yellow', alpha=0.6)\n",
    "        ax.add_patch(rect)\n",
    "    plt.axis('equal')\n",
    "    plt.show()\n",
    "    \n",
    "rysuj(1000, [[[-100,0], [100,200]]])"
   ]
  },
  {
   "cell_type": "code",
   "execution_count": 66,
   "id": "c2269fe3-dc3c-40fc-8d34-060dd7297bea",
   "metadata": {},
   "outputs": [
    {
     "data": {
      "text/plain": [
       "True"
      ]
     },
     "execution_count": 66,
     "metadata": {},
     "output_type": "execute_result"
    }
   ],
   "source": [
    "def czy_punkt_lezy_wewnatrz_prostokata(wspolrzedne_punktu, wspolrzedne_wierzcholkow):\n",
    "    x, y = wspolrzedne_punktu\n",
    "    if x <= wspolrzedne_wierzcholkow[3][0] and x>= wspolrzedne_wierzcholkow[1][0]:\n",
    "        if y <= wspolrzedne_wierzcholkow[0][1] and y >= wspolrzedne_wierzcholkow[1][1]:\n",
    "            return True\n",
    "    return False\n",
    "\n",
    "czy_punkt_lezy_wewnatrz_prostokata([0,0], [[-50, 20], [-50, -20], [50, -20], [50, 20]])        "
   ]
  },
  {
   "cell_type": "code",
   "execution_count": 87,
   "id": "ac01a196-1b5b-46c3-bde8-25e98f6392e1",
   "metadata": {},
   "outputs": [
    {
     "data": {
      "text/plain": [
       "True"
      ]
     },
     "execution_count": 87,
     "metadata": {},
     "output_type": "execute_result"
    }
   ],
   "source": [
    "def czy_prostokaty_zachodza_na_siebie(dane_prostokata1, dane_prostokata2):\n",
    "    '''dane_prostokata - [współrzędne środka, wymiary]\n",
    "    Koncepcja: jeśli prostokąty zachodzą na siebie, tzn. że któryś wierzchołek któregoś\n",
    "    z prostokątów musi leżeć wewnątrz tego drugiego.'''\n",
    "    wspolrzedne1 = licz_wspolrzedne_wierzcholkow(dane_prostokata1[0], dane_prostokata1[1][:2])\n",
    "    wspolrzedne2 = licz_wspolrzedne_wierzcholkow(dane_prostokata2[0], dane_prostokata2[1][:2])\n",
    "    for i in range(4):\n",
    "        if czy_punkt_lezy_wewnatrz_prostokata(wspolrzedne1[i], wspolrzedne2):\n",
    "            return True\n",
    "    for i in range(4):\n",
    "        if czy_punkt_lezy_wewnatrz_prostokata(wspolrzedne2[i], wspolrzedne1):\n",
    "            return True\n",
    "\n",
    "    return False\n",
    "\n",
    "czy_prostokaty_zachodza_na_siebie([[-557, 121], [160, 200, 300]],\n",
    " [[551, -621], [100, 120, 40]])\n",
    "czy_prostokaty_zachodza_na_siebie([[-557, 121], [160, 200, 300]],\n",
    "    [[-467, 121], [160, 200, 300]])"
   ]
  },
  {
   "cell_type": "code",
   "execution_count": 233,
   "id": "0e15cf3f-eb2c-45e0-b17f-97ef33808bef",
   "metadata": {},
   "outputs": [
    {
     "data": {
      "text/plain": [
       "[[[-557, 121], [160, 200, 300]], [[-637, 121], [160, 200, 300]]]"
      ]
     },
     "execution_count": 233,
     "metadata": {},
     "output_type": "execute_result"
    }
   ],
   "source": [
    "def wyrzuc_niepoprawne_prostokaty(r, osobnik):\n",
    "    '''Bierzemy pierwszy prostokąt z brzegu i sprawdzamy czy nie wychodzi poza okrąg \n",
    "    oraz ze wszystkimi, czy nie zachodzi na nie.\n",
    "    osobnik - lista prostokatow [wsp. środa, miary prostokąta]'''\n",
    "    # rysuj(r, osobnik)\n",
    "    prostokaty_do_usuniecia = []\n",
    "    \n",
    "    #czy prostokąty są wewnątrz okręgu:\n",
    "    for i in range(len(osobnik)):\n",
    "        prostokat = osobnik[i]\n",
    "        wspolrzedne_srodka, dane_prostokata = prostokat\n",
    "        wspolrzedne_wierzcholkow = licz_wspolrzedne_wierzcholkow(wspolrzedne_srodka, dane_prostokata[:2])\n",
    "        # rysuj(self.r, [[wspolrzedne_wierzcholkow[1], dane_prostokata[:2]]])\n",
    "        if not sprawdz_czy_prostokat_lezy_wewnatrz_okregu(r, wspolrzedne_wierzcholkow):\n",
    "            del osobnik[i]\n",
    "            \n",
    "    # zachodzenie na siebie:\n",
    "    iter = 0\n",
    "    wszystko_sprawdzone = False\n",
    "    while not wszystko_sprawdzone:\n",
    "        czy_sprawdzone_wszystkie_j = False\n",
    "        prostokat1 = osobnik[iter]\n",
    "        \n",
    "        while not czy_sprawdzone_wszystkie_j:\n",
    "            \n",
    "            for j in range(len(osobnik)):\n",
    "                if j==len(osobnik)-1:\n",
    "                    iter+=1\n",
    "                if iter==len(osobnik)-1 and j==len(osobnik)-1:\n",
    "                    czy_sprawdzone_wszystkie_j = True\n",
    "                if j != iter: # każdy prostokąt sam ze sobą zachodzi na siebie...\n",
    "                    prostokat2 = osobnik[j]\n",
    "                    if czy_prostokaty_zachodza_na_siebie(prostokat1,prostokat2):\n",
    "                        del osobnik[j]\n",
    "                        break\n",
    "             \n",
    "        wszystko_sprawdzone=True\n",
    "        \n",
    "    # rysuj(r, osobnik)\n",
    "    return osobnik\n",
    "\n",
    "wyrzuc_niepoprawne_prostokaty(1000, [\n",
    "    [[-557, 121], [160, 200, 300]],\n",
    "    [[-467, 121], [160, 200, 300]],\n",
    "    [[-637, 121], [160, 200, 300]],\n",
    "    [[751, -621], [100, 120, 40]]\n",
    "])"
   ]
  },
  {
   "cell_type": "code",
   "execution_count": 234,
   "id": "2c724a37-f3bb-4e0b-bc2d-622b5e27251d",
   "metadata": {},
   "outputs": [
    {
     "data": {
      "text/plain": [
       "[[[-557, 121], [160, 200, 300]], [[-637, 121], [160, 200, 300]]]"
      ]
     },
     "execution_count": 234,
     "metadata": {},
     "output_type": "execute_result"
    }
   ],
   "source": [
    "wyrzuc_niepoprawne_prostokaty(1000, [\n",
    "    [[-557, 121], [160, 200, 300]],\n",
    "    [[-467, 121], [160, 200, 300]],\n",
    "    [[-637, 121], [160, 200, 300]],\n",
    "    [[751, -621], [100, 120, 40]]\n",
    "])"
   ]
  },
  {
   "cell_type": "code",
   "execution_count": 212,
   "id": "cb88c18c-0194-4da4-91c4-4a07258e4f19",
   "metadata": {},
   "outputs": [
    {
     "data": {
      "text/plain": [
       "340"
      ]
     },
     "execution_count": 212,
     "metadata": {},
     "output_type": "execute_result"
    }
   ],
   "source": [
    "def licz_cene_osobnika(osobnik):\n",
    "    cena = 0\n",
    "    for i in range(len(osobnik)):\n",
    "        cena += osobnik[i][1][2]\n",
    "    return cena\n",
    "\n",
    "licz_cene_osobnika([\n",
    "    [[-557, 121], [160, 200, 300]],\n",
    "    [[551, -621], [100, 120, 40]]\n",
    "])"
   ]
  },
  {
   "cell_type": "code",
   "execution_count": 133,
   "id": "42630fe9-14cc-4374-b290-fa0c3f23fee0",
   "metadata": {},
   "outputs": [
    {
     "data": {
      "text/plain": [
       "[3, 1]"
      ]
     },
     "execution_count": 133,
     "metadata": {},
     "output_type": "execute_result"
    }
   ],
   "source": [
    "def get_k_max_arg(lista,k):\n",
    "    '''k indeksów największych elementów listy'''\n",
    "    sorted_list = sorted(lista, reverse=True)\n",
    "    k_max_values = sorted_list[:k]\n",
    "    k_indexes = []\n",
    "    for i in range(k):\n",
    "        k_indexes.append(lista.index(k_max_values[i]))\n",
    "    return k_indexes\n",
    "\n",
    "get_k_max_arg([1,4,2,10],2)"
   ]
  },
  {
   "cell_type": "markdown",
   "id": "8fa8490d-906b-4e88-8877-129d6b1dfdec",
   "metadata": {},
   "source": [
    "# Klasy"
   ]
  },
  {
   "cell_type": "code",
   "execution_count": 203,
   "id": "04154a9f-d3ad-4e7b-a1e5-f05c7be7bb49",
   "metadata": {},
   "outputs": [],
   "source": [
    "import pandas as pd"
   ]
  },
  {
   "cell_type": "code",
   "execution_count": 235,
   "id": "8ed5d1ee-22e7-4ad6-ba35-515261827ef1",
   "metadata": {},
   "outputs": [],
   "source": [
    "class AE:\n",
    "    def __init__(self, N, r, data, verbose_step=10):\n",
    "        self.N = N # liczność populacji\n",
    "        self.r = r # promień kół\n",
    "        self.data = data # info o wymiarach i cenie\n",
    "        self.population = [] # lista list prostokątów (współrzędna środa, wymiary, cena)\n",
    "        self.verbose_step = verbose_step\n",
    "        self._initialize_population()\n",
    "        \n",
    "        self.new_population = copy.deepcopy(self.population) # populacja, do której będą dodawane nowe osobniki\n",
    "        self.mean_price = []\n",
    "        \n",
    "    def _initialize_population(self):\n",
    "        # osobnik początkowo ma w sobie 1 prostokąt\n",
    "        for i in range(self.N):\n",
    "            osobnik_stworzony = False\n",
    "            while not osobnik_stworzony:\n",
    "                wspolrzedne_srodka = losuj_wspolrzedne_punktu(self.r)\n",
    "                dane_prostokata = losuj_prostokat(self.data)\n",
    "                wspolrzedne_wierzcholkow = licz_wspolrzedne_wierzcholkow(wspolrzedne_srodka, dane_prostokata[:2])\n",
    "                # rysuj(self.r, [[wspolrzedne_wierzcholkow[1], dane_prostokata[:2]]])\n",
    "                if sprawdz_czy_prostokat_lezy_wewnatrz_okregu(self.r, wspolrzedne_wierzcholkow):\n",
    "                    self.population.append([ #okrąg = lista prostokątów\n",
    "                            [wspolrzedne_srodka, dane_prostokata]#prostokąt\n",
    "                        ])\n",
    "                    osobnik_stworzony = True\n",
    "      \n",
    "    def select_radomly_from_population(self):\n",
    "        '''Losowanie dowolnego osobnika z populacji.'''\n",
    "        randomRectangle = np.random.randint(self.N)\n",
    "        return self.population[randomRectangle]\n",
    "    \n",
    "    def cross(self, prob_boundary=0.7):\n",
    "        '''\n",
    "        Krzyżowanie.\n",
    "        Losujemy 2 osobniki x1, x2 i tworzymy nowego osobnika z górnej połowy wartości x1\n",
    "        oraz dolnej połowy wartości x2.\n",
    "        '''\n",
    "        \n",
    "        drawn_prob = np.random.uniform(0,1) # wylosowane prawdopodobieństwo krzyżowania dla danych osobników\n",
    "        if drawn_prob <= prob_boundary:\n",
    "            # losowanie osobników\n",
    "            x1 = self.select_radomly_from_population()\n",
    "            x2 = self.select_radomly_from_population()\n",
    "            \n",
    "\n",
    "            # łączenie osobników\n",
    "            x_new = []\n",
    "            for i in range(len(x1)):\n",
    "                if x1[0][i][1] >= 0:\n",
    "                    x_new.append(x1[i])\n",
    "            for i in range(len(x2)):\n",
    "                if x2[0][i][1] < 0:\n",
    "                    x_new.append(x2[i])\n",
    "                \n",
    "\n",
    "            # dodanie nowego osobnika do populacji\n",
    "            self.new_population.append(x_new)\n",
    "        \n",
    "    def mutate(self, x, prob_boundary=0.2):\n",
    "        '''Mutacja gaussowska - wylosowanie zgodnie z rozkładem normalnym \n",
    "        przesunięcia wszystkich prostokątów w dowolnym kierunków (poziomo i pionowo)\n",
    "        \n",
    "        x - mutowany osobnik\n",
    "        prob_boundary - prawdopodobieństwo mutacji na pojedynczy osobniku (prawd. graniczne)\n",
    "        '''\n",
    "    \n",
    "        drawn_prob = np.random.uniform(0,1) # wylosowane prawdopodobieństwo mutacji dla danego osobnika\n",
    "        if drawn_prob <= prob_boundary:\n",
    "            vector_displacement_x = np.random.normal(0, 1)\n",
    "            vector_displacement_y = np.random.normal(0, 1)\n",
    "\n",
    "            x_new = []\n",
    "            for i in range(len(x)):\n",
    "                wspolrzedne_srodka = x[i][0]\n",
    "                miary_prostokata = x[i][1]\n",
    "                x_new.append([\n",
    "                    [wspolrzedne_srodka[0]+vector_displacement_x, wspolrzedne_srodka[1]+vector_displacement_y],\n",
    "                    miary_prostokata\n",
    "                ])\n",
    "            # usuwamy niepoprawne prostokąty:\n",
    "            x_new = wyrzuc_niepoprawne_prostokaty(self.r, x_new)\n",
    "            \n",
    "            # dodanie nowego osobnika do populacji\n",
    "            self.new_population.append(x_new)\n",
    "            \n",
    "       \n",
    "        \n",
    "    def evaluate(self):\n",
    "        '''Liczenie wartości $ osobników.'''\n",
    "        price_arr = []\n",
    "        for osobnik in self.new_population:\n",
    "            price_arr.append(licz_cene_osobnika(osobnik))\n",
    "        return price_arr\n",
    "        \n",
    "    def select(self):\n",
    "        '''Algorytm selekcji - w populacji zostawiamy self.N osobników o najniższych wartościach funkcji optymalizowanej.'''\n",
    "        price_arr = self.evaluate()\n",
    "        price_arg = get_k_max_arg(price_arr, self.N) # numery indeksów z największymi wartościami ceny\n",
    "        self.population = []\n",
    "        for i in range(len(price_arg)):\n",
    "            self.population.append(self.new_population[i])\n",
    "        self.new_population = copy.deepcopy(self.population) \n",
    "        \n",
    "        max_k_prices = []\n",
    "        for i in range(len(price_arg)):\n",
    "            max_k_prices.append(price_arr[i])\n",
    "        self.mean_price.append(np.mean(max_k_prices))\n",
    "\n",
    "    def fit(self, n_epochs=10):\n",
    "        iter = 0\n",
    "        while iter < n_epochs:\n",
    "            for i in range(self.N):\n",
    "                self.cross()\n",
    "            for i in range(self.N):\n",
    "                x = self.population[i]\n",
    "                self.mutate(x)\n",
    "            \n",
    "            self.select()\n",
    "            if iter%self.verbose_step==0:\n",
    "                print('epoch: ',iter)\n",
    "            iter+=1\n",
    "        "
   ]
  },
  {
   "cell_type": "code",
   "execution_count": null,
   "id": "b18deff0-7d02-4eba-9a8a-8964453c2663",
   "metadata": {},
   "outputs": [],
   "source": [
    "ae = AE(N=10, r=1000, data=r1000, verbose_step=2)\n",
    "ae.fit(n_epochs=100)\n",
    "plt.plot(range(len(ae.mean_price)), ae.mean_price)"
   ]
  },
  {
   "cell_type": "code",
   "execution_count": null,
   "id": "e5900142-4e0c-4665-b9de-77ca1f7a71ee",
   "metadata": {},
   "outputs": [],
   "source": []
  },
  {
   "cell_type": "code",
   "execution_count": null,
   "id": "545da23f-7a9d-4f24-9964-2b2e9a7faacd",
   "metadata": {},
   "outputs": [],
   "source": []
  },
  {
   "cell_type": "code",
   "execution_count": null,
   "id": "2f81fdd4-7fb5-4e3c-bbea-af4fd69c6490",
   "metadata": {},
   "outputs": [],
   "source": []
  },
  {
   "cell_type": "code",
   "execution_count": null,
   "id": "ed6c2a85-8671-40fe-8a94-d08029be893d",
   "metadata": {},
   "outputs": [],
   "source": []
  },
  {
   "cell_type": "code",
   "execution_count": null,
   "id": "59ef10af-5962-4f13-a247-12ed2396d545",
   "metadata": {},
   "outputs": [],
   "source": []
  },
  {
   "cell_type": "code",
   "execution_count": null,
   "id": "2cb8fca3-1fb0-42f6-9727-7fe72aa67ca9",
   "metadata": {},
   "outputs": [],
   "source": []
  },
  {
   "cell_type": "code",
   "execution_count": null,
   "id": "d8773ed1-1c2a-4a54-966f-79b8be0f1d0c",
   "metadata": {},
   "outputs": [],
   "source": []
  },
  {
   "cell_type": "code",
   "execution_count": null,
   "id": "5fc6bb37-a06a-4984-ad40-004943fca2f7",
   "metadata": {},
   "outputs": [],
   "source": []
  },
  {
   "cell_type": "code",
   "execution_count": null,
   "id": "b45c5cd8-3b8a-40fc-bcb3-7b856f192614",
   "metadata": {},
   "outputs": [],
   "source": []
  },
  {
   "cell_type": "code",
   "execution_count": null,
   "id": "e29efa80-13b0-44a4-a284-6242ed0c755e",
   "metadata": {},
   "outputs": [],
   "source": []
  },
  {
   "cell_type": "code",
   "execution_count": null,
   "id": "2d90f7f8-350e-4a8e-8fad-dc82ed20632d",
   "metadata": {},
   "outputs": [],
   "source": []
  },
  {
   "cell_type": "code",
   "execution_count": null,
   "id": "03042759-9fc6-479f-afff-0d0d0bb8069f",
   "metadata": {},
   "outputs": [],
   "source": [
    "r1100 = pd.read_csv('data/r1100.csv', header=None)\n",
    "r1200 = pd.read_csv('data/r1200.csv', header=None)\n",
    "r800 = pd.read_csv('data/r800.csv', header=None)\n",
    "r850 = pd.read_csv('data/r850.csv', header=None)"
   ]
  }
 ],
 "metadata": {
  "kernelspec": {
   "display_name": "koh_venv",
   "language": "python",
   "name": "koh_venv"
  },
  "language_info": {
   "codemirror_mode": {
    "name": "ipython",
    "version": 3
   },
   "file_extension": ".py",
   "mimetype": "text/x-python",
   "name": "python",
   "nbconvert_exporter": "python",
   "pygments_lexer": "ipython3",
   "version": "3.8.10"
  }
 },
 "nbformat": 4,
 "nbformat_minor": 5
}
