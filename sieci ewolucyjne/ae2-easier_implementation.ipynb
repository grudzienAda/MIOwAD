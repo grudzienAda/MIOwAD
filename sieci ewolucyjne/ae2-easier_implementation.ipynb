{
 "cells": [
  {
   "cell_type": "markdown",
   "id": "b18d444d-06bd-431b-940f-197281da0e35",
   "metadata": {
    "tags": []
   },
   "source": [
    "# AE2: Wypełnianie koła prostokątami\n",
    "Adrianna Grudzień\n",
    "\n",
    "Rozwiązanie wariantu problemu znanego w literaturze jako `cutting stock` problem.\n",
    "\n",
    "Mamy dane koło o promieniu r oraz zbiór dostępnych prostokątów zadanych przez trzy liczby: wysokość, szerokość i wartość.\n",
    "\n",
    "Celem jest ułożenie prostokątów w kole tak, aby zmaksymalizować sumę ich wartości, spełniając następujące warunki:\n",
    "\n",
    "- boki wszystkich prostokątów były równoległe do osi układu,\n",
    "- wnętrza prostokątów nie miały części wspólnej (intuicyjnie: prostokąty nie nachodzą na siebie, ale mogą się stykać bokami),\n",
    "- każdy prostokąt można wstawić dowolnie wiele razy.\n"
   ]
  },
  {
   "cell_type": "markdown",
   "id": "182a4bfa-c17d-4e92-ac7a-ab1f0bc32b71",
   "metadata": {},
   "source": [
    "- rotacja prostokąta to tak jakby inny prostokąt"
   ]
  },
  {
   "cell_type": "code",
   "execution_count": 1,
   "id": "a65f4585-3b8c-46c2-aac2-b06a51ff2ae4",
   "metadata": {},
   "outputs": [],
   "source": [
    "import numpy as np\n",
    "import copy\n",
    "import matplotlib.pyplot as plt\n",
    "import pandas as pd"
   ]
  },
  {
   "cell_type": "markdown",
   "id": "653ee288-90ef-4220-a0c7-eed708254ab0",
   "metadata": {},
   "source": [
    "W nazwie pliku jest podany `promień koła`, plik jest w formacie csv: pierwsza kolumna to `szerokość` prostokąta, druga to `wysokość`, trzecia to `wartość` prostokąta."
   ]
  },
  {
   "cell_type": "code",
   "execution_count": 23,
   "id": "3713acf9-de3b-461e-b1c1-fb5f4a494995",
   "metadata": {},
   "outputs": [
    {
     "ename": "ValueError",
     "evalue": "setting an array element with a sequence.",
     "output_type": "error",
     "traceback": [
      "\u001b[0;31m---------------------------------------------------------------------------\u001b[0m",
      "\u001b[0;31mKeyError\u001b[0m                                  Traceback (most recent call last)",
      "File \u001b[0;32m~/Desktop/studia/mini/sem VI/metody inteligencji obliczeniowej/MIOwAD/sieci Kohonena/koh_venv/lib/python3.8/site-packages/pandas/core/indexes/base.py:3621\u001b[0m, in \u001b[0;36mIndex.get_loc\u001b[0;34m(self, key, method, tolerance)\u001b[0m\n\u001b[1;32m   3620\u001b[0m \u001b[38;5;28;01mtry\u001b[39;00m:\n\u001b[0;32m-> 3621\u001b[0m     \u001b[38;5;28;01mreturn\u001b[39;00m \u001b[38;5;28;43mself\u001b[39;49m\u001b[38;5;241;43m.\u001b[39;49m\u001b[43m_engine\u001b[49m\u001b[38;5;241;43m.\u001b[39;49m\u001b[43mget_loc\u001b[49m\u001b[43m(\u001b[49m\u001b[43mcasted_key\u001b[49m\u001b[43m)\u001b[49m\n\u001b[1;32m   3622\u001b[0m \u001b[38;5;28;01mexcept\u001b[39;00m \u001b[38;5;167;01mKeyError\u001b[39;00m \u001b[38;5;28;01mas\u001b[39;00m err:\n",
      "File \u001b[0;32m~/Desktop/studia/mini/sem VI/metody inteligencji obliczeniowej/MIOwAD/sieci Kohonena/koh_venv/lib/python3.8/site-packages/pandas/_libs/index.pyx:136\u001b[0m, in \u001b[0;36mpandas._libs.index.IndexEngine.get_loc\u001b[0;34m()\u001b[0m\n",
      "File \u001b[0;32m~/Desktop/studia/mini/sem VI/metody inteligencji obliczeniowej/MIOwAD/sieci Kohonena/koh_venv/lib/python3.8/site-packages/pandas/_libs/index.pyx:163\u001b[0m, in \u001b[0;36mpandas._libs.index.IndexEngine.get_loc\u001b[0;34m()\u001b[0m\n",
      "File \u001b[0;32mpandas/_libs/hashtable_class_helper.pxi:5198\u001b[0m, in \u001b[0;36mpandas._libs.hashtable.PyObjectHashTable.get_item\u001b[0;34m()\u001b[0m\n",
      "File \u001b[0;32mpandas/_libs/hashtable_class_helper.pxi:5206\u001b[0m, in \u001b[0;36mpandas._libs.hashtable.PyObjectHashTable.get_item\u001b[0;34m()\u001b[0m\n",
      "\u001b[0;31mKeyError\u001b[0m: 0",
      "\nThe above exception was the direct cause of the following exception:\n",
      "\u001b[0;31mKeyError\u001b[0m                                  Traceback (most recent call last)",
      "File \u001b[0;32m~/Desktop/studia/mini/sem VI/metody inteligencji obliczeniowej/MIOwAD/sieci Kohonena/koh_venv/lib/python3.8/site-packages/pandas/core/series.py:1085\u001b[0m, in \u001b[0;36mSeries.__setitem__\u001b[0;34m(self, key, value)\u001b[0m\n\u001b[1;32m   1084\u001b[0m \u001b[38;5;28;01mtry\u001b[39;00m:\n\u001b[0;32m-> 1085\u001b[0m     \u001b[38;5;28;43mself\u001b[39;49m\u001b[38;5;241;43m.\u001b[39;49m\u001b[43m_set_with_engine\u001b[49m\u001b[43m(\u001b[49m\u001b[43mkey\u001b[49m\u001b[43m,\u001b[49m\u001b[43m \u001b[49m\u001b[43mvalue\u001b[49m\u001b[43m)\u001b[49m\n\u001b[1;32m   1086\u001b[0m \u001b[38;5;28;01mexcept\u001b[39;00m (\u001b[38;5;167;01mKeyError\u001b[39;00m, \u001b[38;5;167;01mValueError\u001b[39;00m):\n",
      "File \u001b[0;32m~/Desktop/studia/mini/sem VI/metody inteligencji obliczeniowej/MIOwAD/sieci Kohonena/koh_venv/lib/python3.8/site-packages/pandas/core/series.py:1146\u001b[0m, in \u001b[0;36mSeries._set_with_engine\u001b[0;34m(self, key, value)\u001b[0m\n\u001b[1;32m   1145\u001b[0m \u001b[38;5;28;01mdef\u001b[39;00m \u001b[38;5;21m_set_with_engine\u001b[39m(\u001b[38;5;28mself\u001b[39m, key, value) \u001b[38;5;241m-\u001b[39m\u001b[38;5;241m>\u001b[39m \u001b[38;5;28;01mNone\u001b[39;00m:\n\u001b[0;32m-> 1146\u001b[0m     loc \u001b[38;5;241m=\u001b[39m \u001b[38;5;28;43mself\u001b[39;49m\u001b[38;5;241;43m.\u001b[39;49m\u001b[43mindex\u001b[49m\u001b[38;5;241;43m.\u001b[39;49m\u001b[43mget_loc\u001b[49m\u001b[43m(\u001b[49m\u001b[43mkey\u001b[49m\u001b[43m)\u001b[49m\n\u001b[1;32m   1148\u001b[0m     \u001b[38;5;66;03m# this is equivalent to self._values[key] = value\u001b[39;00m\n",
      "File \u001b[0;32m~/Desktop/studia/mini/sem VI/metody inteligencji obliczeniowej/MIOwAD/sieci Kohonena/koh_venv/lib/python3.8/site-packages/pandas/core/indexes/base.py:3623\u001b[0m, in \u001b[0;36mIndex.get_loc\u001b[0;34m(self, key, method, tolerance)\u001b[0m\n\u001b[1;32m   3622\u001b[0m \u001b[38;5;28;01mexcept\u001b[39;00m \u001b[38;5;167;01mKeyError\u001b[39;00m \u001b[38;5;28;01mas\u001b[39;00m err:\n\u001b[0;32m-> 3623\u001b[0m     \u001b[38;5;28;01mraise\u001b[39;00m \u001b[38;5;167;01mKeyError\u001b[39;00m(key) \u001b[38;5;28;01mfrom\u001b[39;00m \u001b[38;5;21;01merr\u001b[39;00m\n\u001b[1;32m   3624\u001b[0m \u001b[38;5;28;01mexcept\u001b[39;00m \u001b[38;5;167;01mTypeError\u001b[39;00m:\n\u001b[1;32m   3625\u001b[0m     \u001b[38;5;66;03m# If we have a listlike key, _check_indexing_error will raise\u001b[39;00m\n\u001b[1;32m   3626\u001b[0m     \u001b[38;5;66;03m#  InvalidIndexError. Otherwise we fall through and re-raise\u001b[39;00m\n\u001b[1;32m   3627\u001b[0m     \u001b[38;5;66;03m#  the TypeError.\u001b[39;00m\n",
      "\u001b[0;31mKeyError\u001b[0m: 0",
      "\nDuring handling of the above exception, another exception occurred:\n",
      "\u001b[0;31mTypeError\u001b[0m                                 Traceback (most recent call last)",
      "\u001b[0;31mTypeError\u001b[0m: only size-1 arrays can be converted to Python scalars",
      "\nThe above exception was the direct cause of the following exception:\n",
      "\u001b[0;31mValueError\u001b[0m                                Traceback (most recent call last)",
      "Input \u001b[0;32mIn [23]\u001b[0m, in \u001b[0;36m<cell line: 1>\u001b[0;34m()\u001b[0m\n\u001b[0;32m----> 1\u001b[0m r1000\u001b[38;5;241m.\u001b[39miloc[\u001b[38;5;241m0\u001b[39m][\u001b[38;5;241m0\u001b[39m] \u001b[38;5;241m=\u001b[39m np\u001b[38;5;241m.\u001b[39marray([\u001b[38;5;241m1\u001b[39m,\u001b[38;5;241m2\u001b[39m,\u001b[38;5;241m3\u001b[39m])\n",
      "File \u001b[0;32m~/Desktop/studia/mini/sem VI/metody inteligencji obliczeniowej/MIOwAD/sieci Kohonena/koh_venv/lib/python3.8/site-packages/pandas/core/series.py:1101\u001b[0m, in \u001b[0;36mSeries.__setitem__\u001b[0;34m(self, key, value)\u001b[0m\n\u001b[1;32m   1091\u001b[0m         warnings\u001b[38;5;241m.\u001b[39mwarn(\n\u001b[1;32m   1092\u001b[0m             \u001b[38;5;124m\"\u001b[39m\u001b[38;5;124mTreating integers as positional in Series.__setitem__ \u001b[39m\u001b[38;5;124m\"\u001b[39m\n\u001b[1;32m   1093\u001b[0m             \u001b[38;5;124m\"\u001b[39m\u001b[38;5;124mwith a Float64Index is deprecated. In a future version, \u001b[39m\u001b[38;5;124m\"\u001b[39m\n\u001b[0;32m   (...)\u001b[0m\n\u001b[1;32m   1098\u001b[0m             stacklevel\u001b[38;5;241m=\u001b[39mfind_stack_level(),\n\u001b[1;32m   1099\u001b[0m         )\n\u001b[1;32m   1100\u001b[0m     \u001b[38;5;66;03m# this is equivalent to self._values[key] = value\u001b[39;00m\n\u001b[0;32m-> 1101\u001b[0m     \u001b[38;5;28;43mself\u001b[39;49m\u001b[38;5;241;43m.\u001b[39;49m\u001b[43m_mgr\u001b[49m\u001b[38;5;241;43m.\u001b[39;49m\u001b[43msetitem_inplace\u001b[49m\u001b[43m(\u001b[49m\u001b[43mkey\u001b[49m\u001b[43m,\u001b[49m\u001b[43m \u001b[49m\u001b[43mvalue\u001b[49m\u001b[43m)\u001b[49m\n\u001b[1;32m   1102\u001b[0m \u001b[38;5;28;01melse\u001b[39;00m:\n\u001b[1;32m   1103\u001b[0m     \u001b[38;5;66;03m# GH#12862 adding a new key to the Series\u001b[39;00m\n\u001b[1;32m   1104\u001b[0m     \u001b[38;5;28mself\u001b[39m\u001b[38;5;241m.\u001b[39mloc[key] \u001b[38;5;241m=\u001b[39m value\n",
      "File \u001b[0;32m~/Desktop/studia/mini/sem VI/metody inteligencji obliczeniowej/MIOwAD/sieci Kohonena/koh_venv/lib/python3.8/site-packages/pandas/core/internals/base.py:190\u001b[0m, in \u001b[0;36mSingleDataManager.setitem_inplace\u001b[0;34m(self, indexer, value)\u001b[0m\n\u001b[1;32m    185\u001b[0m \u001b[38;5;28;01mif\u001b[39;00m \u001b[38;5;28misinstance\u001b[39m(arr, np\u001b[38;5;241m.\u001b[39mndarray):\n\u001b[1;32m    186\u001b[0m     \u001b[38;5;66;03m# Note: checking for ndarray instead of np.dtype means we exclude\u001b[39;00m\n\u001b[1;32m    187\u001b[0m     \u001b[38;5;66;03m#  dt64/td64, which do their own validation.\u001b[39;00m\n\u001b[1;32m    188\u001b[0m     value \u001b[38;5;241m=\u001b[39m np_can_hold_element(arr\u001b[38;5;241m.\u001b[39mdtype, value)\n\u001b[0;32m--> 190\u001b[0m arr[indexer] \u001b[38;5;241m=\u001b[39m value\n",
      "\u001b[0;31mValueError\u001b[0m: setting an array element with a sequence."
     ]
    }
   ],
   "source": [
    "r1000.iloc[0][0] = np.array([1,2,3])"
   ]
  },
  {
   "cell_type": "code",
   "execution_count": 21,
   "id": "8a31cc59-96c2-4800-97ae-d59848c05e27",
   "metadata": {},
   "outputs": [
    {
     "name": "stdout",
     "output_type": "stream",
     "text": [
      "4\n"
     ]
    },
    {
     "ename": "IndexError",
     "evalue": "iloc cannot enlarge its target object",
     "output_type": "error",
     "traceback": [
      "\u001b[0;31m---------------------------------------------------------------------------\u001b[0m",
      "\u001b[0;31mIndexError\u001b[0m                                Traceback (most recent call last)",
      "Input \u001b[0;32mIn [21]\u001b[0m, in \u001b[0;36m<cell line: 5>\u001b[0;34m()\u001b[0m\n\u001b[1;32m      4\u001b[0m \u001b[38;5;28mprint\u001b[39m(n)\n\u001b[1;32m      5\u001b[0m \u001b[38;5;28;01mfor\u001b[39;00m i \u001b[38;5;129;01min\u001b[39;00m \u001b[38;5;28mrange\u001b[39m(n):\n\u001b[0;32m----> 6\u001b[0m     r1000\u001b[38;5;241m.\u001b[39miloc[n\u001b[38;5;241m+\u001b[39mi] \u001b[38;5;241m=\u001b[39m [r1000\u001b[38;5;241m.\u001b[39miloc[i][\u001b[38;5;241m1\u001b[39m], r1000\u001b[38;5;241m.\u001b[39miloc[i][\u001b[38;5;241m0\u001b[39m], r1000\u001b[38;5;241m.\u001b[39miloc[i][\u001b[38;5;241m2\u001b[39m]]\n\u001b[1;32m      8\u001b[0m r1000\n",
      "File \u001b[0;32m~/Desktop/studia/mini/sem VI/metody inteligencji obliczeniowej/MIOwAD/sieci Kohonena/koh_venv/lib/python3.8/site-packages/pandas/core/indexing.py:713\u001b[0m, in \u001b[0;36m_LocationIndexer.__setitem__\u001b[0;34m(self, key, value)\u001b[0m\n\u001b[1;32m    711\u001b[0m     key \u001b[38;5;241m=\u001b[39m com\u001b[38;5;241m.\u001b[39mapply_if_callable(key, \u001b[38;5;28mself\u001b[39m\u001b[38;5;241m.\u001b[39mobj)\n\u001b[1;32m    712\u001b[0m indexer \u001b[38;5;241m=\u001b[39m \u001b[38;5;28mself\u001b[39m\u001b[38;5;241m.\u001b[39m_get_setitem_indexer(key)\n\u001b[0;32m--> 713\u001b[0m \u001b[38;5;28;43mself\u001b[39;49m\u001b[38;5;241;43m.\u001b[39;49m\u001b[43m_has_valid_setitem_indexer\u001b[49m\u001b[43m(\u001b[49m\u001b[43mkey\u001b[49m\u001b[43m)\u001b[49m\n\u001b[1;32m    715\u001b[0m iloc \u001b[38;5;241m=\u001b[39m \u001b[38;5;28mself\u001b[39m \u001b[38;5;28;01mif\u001b[39;00m \u001b[38;5;28mself\u001b[39m\u001b[38;5;241m.\u001b[39mname \u001b[38;5;241m==\u001b[39m \u001b[38;5;124m\"\u001b[39m\u001b[38;5;124miloc\u001b[39m\u001b[38;5;124m\"\u001b[39m \u001b[38;5;28;01melse\u001b[39;00m \u001b[38;5;28mself\u001b[39m\u001b[38;5;241m.\u001b[39mobj\u001b[38;5;241m.\u001b[39miloc\n\u001b[1;32m    716\u001b[0m iloc\u001b[38;5;241m.\u001b[39m_setitem_with_indexer(indexer, value, \u001b[38;5;28mself\u001b[39m\u001b[38;5;241m.\u001b[39mname)\n",
      "File \u001b[0;32m~/Desktop/studia/mini/sem VI/metody inteligencji obliczeniowej/MIOwAD/sieci Kohonena/koh_venv/lib/python3.8/site-packages/pandas/core/indexing.py:1413\u001b[0m, in \u001b[0;36m_iLocIndexer._has_valid_setitem_indexer\u001b[0;34m(self, indexer)\u001b[0m\n\u001b[1;32m   1411\u001b[0m \u001b[38;5;28;01melif\u001b[39;00m is_integer(i):\n\u001b[1;32m   1412\u001b[0m     \u001b[38;5;28;01mif\u001b[39;00m i \u001b[38;5;241m>\u001b[39m\u001b[38;5;241m=\u001b[39m \u001b[38;5;28mlen\u001b[39m(ax):\n\u001b[0;32m-> 1413\u001b[0m         \u001b[38;5;28;01mraise\u001b[39;00m \u001b[38;5;167;01mIndexError\u001b[39;00m(\u001b[38;5;124m\"\u001b[39m\u001b[38;5;124miloc cannot enlarge its target object\u001b[39m\u001b[38;5;124m\"\u001b[39m)\n\u001b[1;32m   1414\u001b[0m \u001b[38;5;28;01melif\u001b[39;00m \u001b[38;5;28misinstance\u001b[39m(i, \u001b[38;5;28mdict\u001b[39m):\n\u001b[1;32m   1415\u001b[0m     \u001b[38;5;28;01mraise\u001b[39;00m \u001b[38;5;167;01mIndexError\u001b[39;00m(\u001b[38;5;124m\"\u001b[39m\u001b[38;5;124miloc cannot enlarge its target object\u001b[39m\u001b[38;5;124m\"\u001b[39m)\n",
      "\u001b[0;31mIndexError\u001b[0m: iloc cannot enlarge its target object"
     ]
    }
   ],
   "source": [
    "r1000 = pd.read_csv('data/r1000.csv', header=None)\n",
    "r1000.columns = ['szer.', 'wys.', '$']\n",
    "n = len(r1000)\n",
    "print(n)\n",
    "for i in range(n):\n",
    "    r1000.iloc[n+i] = [r1000.iloc[i][1], r1000.iloc[i][0], r1000.iloc[i][2]]\n",
    "\n",
    "r1000"
   ]
  },
  {
   "cell_type": "markdown",
   "id": "e3755982-172e-4a1a-8cd9-66b7f2ceeb8e",
   "metadata": {},
   "source": [
    "## Sortowanie desek względem $ za jednostkę"
   ]
  },
  {
   "cell_type": "code",
   "execution_count": 22,
   "id": "4f62eb2f-b8da-4907-a0de-41131f9c64e4",
   "metadata": {},
   "outputs": [],
   "source": [
    "r1000['pole pow.'] = r1000['szer.']*r1000['wys.']\n",
    "r1000['$ ważona'] = r1000['$']/r1000['pole pow.']"
   ]
  },
  {
   "cell_type": "code",
   "execution_count": 23,
   "id": "b1e4938d-9c20-4ca1-b236-6262a97d112d",
   "metadata": {},
   "outputs": [],
   "source": [
    "r1000 = r1000.sort_values(['$ ważona'], ascending=False, ignore_index=True)"
   ]
  },
  {
   "cell_type": "code",
   "execution_count": 24,
   "id": "3be91b78-4e34-42cd-b967-0cf7eaa5200f",
   "metadata": {},
   "outputs": [
    {
     "data": {
      "text/html": [
       "<div>\n",
       "<style scoped>\n",
       "    .dataframe tbody tr th:only-of-type {\n",
       "        vertical-align: middle;\n",
       "    }\n",
       "\n",
       "    .dataframe tbody tr th {\n",
       "        vertical-align: top;\n",
       "    }\n",
       "\n",
       "    .dataframe thead th {\n",
       "        text-align: right;\n",
       "    }\n",
       "</style>\n",
       "<table border=\"1\" class=\"dataframe\">\n",
       "  <thead>\n",
       "    <tr style=\"text-align: right;\">\n",
       "      <th></th>\n",
       "      <th>szer.</th>\n",
       "      <th>wys.</th>\n",
       "      <th>$</th>\n",
       "      <th>pole pow.</th>\n",
       "      <th>$ ważona</th>\n",
       "    </tr>\n",
       "  </thead>\n",
       "  <tbody>\n",
       "    <tr>\n",
       "      <th>0</th>\n",
       "      <td>250</td>\n",
       "      <td>160</td>\n",
       "      <td>500</td>\n",
       "      <td>40000</td>\n",
       "      <td>0.012500</td>\n",
       "    </tr>\n",
       "    <tr>\n",
       "      <th>1</th>\n",
       "      <td>200</td>\n",
       "      <td>160</td>\n",
       "      <td>300</td>\n",
       "      <td>32000</td>\n",
       "      <td>0.009375</td>\n",
       "    </tr>\n",
       "    <tr>\n",
       "      <th>2</th>\n",
       "      <td>200</td>\n",
       "      <td>120</td>\n",
       "      <td>200</td>\n",
       "      <td>24000</td>\n",
       "      <td>0.008333</td>\n",
       "    </tr>\n",
       "    <tr>\n",
       "      <th>3</th>\n",
       "      <td>100</td>\n",
       "      <td>120</td>\n",
       "      <td>40</td>\n",
       "      <td>12000</td>\n",
       "      <td>0.003333</td>\n",
       "    </tr>\n",
       "  </tbody>\n",
       "</table>\n",
       "</div>"
      ],
      "text/plain": [
       "   szer.  wys.    $  pole pow.  $ ważona\n",
       "0    250   160  500      40000  0.012500\n",
       "1    200   160  300      32000  0.009375\n",
       "2    200   120  200      24000  0.008333\n",
       "3    100   120   40      12000  0.003333"
      ]
     },
     "execution_count": 24,
     "metadata": {},
     "output_type": "execute_result"
    }
   ],
   "source": [
    "r1000"
   ]
  },
  {
   "cell_type": "markdown",
   "id": "c8e58a23-0f49-4c7b-93d5-2fb0e6015018",
   "metadata": {},
   "source": [
    "# Opis koncepcji rozwiązania\n",
    "Dla każdego osobnika przechowywana jest lista prostokątów oraz ich współrzędnych w układzie.\n",
    "\n",
    "**1. Inicjalizacja populacji.** \\\n",
    "Najpierw obliczam pole koła i obliczam ile maksymalnie prostokątów się w nim zmieści (na podstawie pola powierzchni) - n. Następnie wybieram losowo 1 punkt z koła (wierzchołek jednego prostokąta). Szukam takiego ułożenie prostokąta, żeby mieścił się na obszarze drewnianym. Możliwych ułożeń jest 8. Sprawdzanie zaczynam od największego możliwego prostokąta - jeśli się nie mieści, sprawdzam coraz to mniejsze prostokąty.\n",
    "\n",
    "**2. Warunek stopu.** \\\n",
    "Określony poziom znalezionego rozwiązania wynikający z kryteriów oceny zadania. To znaczy wartość sumaryczna prostokątów przynajmniej 30 000 w kole o średnicy 800 oraz 30 000 w kole o średnicy 1 200, minimum 17 500 w kole o średnicy 1 000 oraz minimum 25 000 w kole o średnicy 1 100.\n",
    "\n",
    "**3. Krzyżowanie.** \\\n",
    "Losuję 2 rozwiązania z populacji. Nowego osobnika tworzę z prostokątów z górnej połowy pierwszego z nich oraz dolnej połowy drugiego z nich (tzn. biorę prostokąty, których wierzchołek się tam znajduje).\n",
    "\n",
    "**4. Mutacja.** \\\n",
    "Przesunięcie wszystkich prostokątów o losową wartość w losową stronę i następne usunięcie tych, które wychodzą poza koło. \\\n",
    "Jeżeli na kole jest jeszcze miejsce, to wstawiam tam prostokąt. (Obliczam ile maksymalnie najmniejszych prostokątów się mieści. Zaczynam od największego możliwego i jeśli po wylosowaniu okazuje się, że jednak się nie mieści na żaden z 8 sposobów, to losuję kolejny punkt dla tego prostokąta (i tak k razy). Jeśli po k takich losowań nie udało się, to testuję mniejsze prostokąty.\n",
    "\n",
    "**5. Ewaluacja.** \\\n",
    "Liczę nagrodę, czyli zarobione z danego wycięcia pieniądze.\n",
    "\n",
    "**6. Selekcja.** \\\n",
    "W populacji zostawiam te wycięcia, które jednocześnie są najbardziej opłacalne pieniężnie i mają najwięcej wolnego miejsca w kole (po wycięciu), czyli te, w których zostało więcej niewykorzystanego materiału."
   ]
  },
  {
   "cell_type": "markdown",
   "id": "a994d587-c51e-4068-bcfb-34b0e771aa3e",
   "metadata": {},
   "source": [
    "## Metody (funkcje) pomocnicze"
   ]
  },
  {
   "cell_type": "markdown",
   "id": "208384ac-0f73-4c2c-998b-6dc13cac2773",
   "metadata": {},
   "source": [
    "### Do zrobienia:\n",
    "-"
   ]
  },
  {
   "cell_type": "markdown",
   "id": "e23cc168-d5df-47eb-a1fc-b26ff8389706",
   "metadata": {},
   "source": [
    "### Zrobione:\n",
    "- oblicz, ile maksymalnie najmniejszych prostokątów się zmieści"
   ]
  },
  {
   "cell_type": "code",
   "execution_count": 28,
   "id": "4129d64e-5cca-4bae-b791-d06028be6737",
   "metadata": {},
   "outputs": [],
   "source": [
    "r = 1000 # promień koła"
   ]
  },
  {
   "cell_type": "code",
   "execution_count": null,
   "id": "e6989b31-e8c8-492a-b2bb-27240d063acb",
   "metadata": {},
   "outputs": [],
   "source": []
  },
  {
   "cell_type": "code",
   "execution_count": 28,
   "id": "2c30541c-3828-40db-a837-7a7772355557",
   "metadata": {},
   "outputs": [],
   "source": [
    "def max_count_of_rectangles(r, recArea):\n",
    "    cirArea = np.pi*np.square(r)\n",
    "    return int(np.floor(cirArea/recArea))"
   ]
  },
  {
   "cell_type": "code",
   "execution_count": 30,
   "id": "4b6da92c-c04f-4708-8a1d-364796451028",
   "metadata": {},
   "outputs": [
    {
     "data": {
      "text/plain": [
       "104"
      ]
     },
     "execution_count": 30,
     "metadata": {},
     "output_type": "execute_result"
    }
   ],
   "source": [
    "max_count_of_rectangles(1000, 200*150)"
   ]
  },
  {
   "cell_type": "markdown",
   "id": "8fa8490d-906b-4e88-8877-129d6b1dfdec",
   "metadata": {},
   "source": [
    "# Klasy"
   ]
  },
  {
   "cell_type": "code",
   "execution_count": null,
   "id": "8ed5d1ee-22e7-4ad6-ba35-515261827ef1",
   "metadata": {},
   "outputs": [],
   "source": [
    "class AE:\n",
    "    def __init__(self, N, radius, verbose_step=10):\n",
    "        self.N = N # liczność populacji\n",
    "        self.radius = radius # promień kół\n",
    "        self.population = []\n",
    "        self.verbose_step = verbose_step\n",
    "        \n",
    "    def _initialize_population(self):\n",
    "        for i in range(self.N):\n",
    "            wooden_circle = WoodenCircle(self.radius)\n",
    "            \n",
    "            self.population.append(wooden_circle)"
   ]
  },
  {
   "cell_type": "code",
   "execution_count": null,
   "id": "b18deff0-7d02-4eba-9a8a-8964453c2663",
   "metadata": {},
   "outputs": [],
   "source": []
  },
  {
   "cell_type": "code",
   "execution_count": null,
   "id": "737c99e4-2eee-4dba-abc5-89a459c34238",
   "metadata": {},
   "outputs": [],
   "source": []
  },
  {
   "cell_type": "code",
   "execution_count": null,
   "id": "40bba942-cdf4-4b06-9d8c-79a0a79e434e",
   "metadata": {},
   "outputs": [],
   "source": []
  },
  {
   "cell_type": "code",
   "execution_count": null,
   "id": "e5900142-4e0c-4665-b9de-77ca1f7a71ee",
   "metadata": {},
   "outputs": [],
   "source": []
  },
  {
   "cell_type": "code",
   "execution_count": null,
   "id": "545da23f-7a9d-4f24-9964-2b2e9a7faacd",
   "metadata": {},
   "outputs": [],
   "source": []
  },
  {
   "cell_type": "code",
   "execution_count": null,
   "id": "2f81fdd4-7fb5-4e3c-bbea-af4fd69c6490",
   "metadata": {},
   "outputs": [],
   "source": []
  },
  {
   "cell_type": "code",
   "execution_count": null,
   "id": "ed6c2a85-8671-40fe-8a94-d08029be893d",
   "metadata": {},
   "outputs": [],
   "source": []
  },
  {
   "cell_type": "code",
   "execution_count": null,
   "id": "59ef10af-5962-4f13-a247-12ed2396d545",
   "metadata": {},
   "outputs": [],
   "source": []
  },
  {
   "cell_type": "code",
   "execution_count": null,
   "id": "2cb8fca3-1fb0-42f6-9727-7fe72aa67ca9",
   "metadata": {},
   "outputs": [],
   "source": []
  },
  {
   "cell_type": "code",
   "execution_count": null,
   "id": "d8773ed1-1c2a-4a54-966f-79b8be0f1d0c",
   "metadata": {},
   "outputs": [],
   "source": []
  },
  {
   "cell_type": "code",
   "execution_count": null,
   "id": "5fc6bb37-a06a-4984-ad40-004943fca2f7",
   "metadata": {},
   "outputs": [],
   "source": []
  },
  {
   "cell_type": "code",
   "execution_count": null,
   "id": "b45c5cd8-3b8a-40fc-bcb3-7b856f192614",
   "metadata": {},
   "outputs": [],
   "source": []
  },
  {
   "cell_type": "code",
   "execution_count": null,
   "id": "e29efa80-13b0-44a4-a284-6242ed0c755e",
   "metadata": {},
   "outputs": [],
   "source": []
  },
  {
   "cell_type": "code",
   "execution_count": null,
   "id": "2d90f7f8-350e-4a8e-8fad-dc82ed20632d",
   "metadata": {},
   "outputs": [],
   "source": []
  },
  {
   "cell_type": "code",
   "execution_count": 9,
   "id": "03042759-9fc6-479f-afff-0d0d0bb8069f",
   "metadata": {},
   "outputs": [],
   "source": [
    "r1100 = pd.read_csv('data/r1100.csv', header=None)\n",
    "r1200 = pd.read_csv('data/r1200.csv', header=None)\n",
    "r800 = pd.read_csv('data/r800.csv', header=None)\n",
    "r850 = pd.read_csv('data/r850.csv', header=None)"
   ]
  }
 ],
 "metadata": {
  "kernelspec": {
   "display_name": "koh_venv",
   "language": "python",
   "name": "koh_venv"
  },
  "language_info": {
   "codemirror_mode": {
    "name": "ipython",
    "version": 3
   },
   "file_extension": ".py",
   "mimetype": "text/x-python",
   "name": "python",
   "nbconvert_exporter": "python",
   "pygments_lexer": "ipython3",
   "version": "3.8.10"
  }
 },
 "nbformat": 4,
 "nbformat_minor": 5
}
