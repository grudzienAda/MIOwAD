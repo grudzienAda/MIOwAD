{
 "cells": [
  {
   "cell_type": "markdown",
   "id": "3473db02-8462-4dd3-8d86-836e693c7e50",
   "metadata": {},
   "source": [
    "# KOH2: Sieć Kohonena na siatce sześciokątnej\n",
    "Adrianna Grudzień\n",
    "\n",
    "-> kodu nie przesyłać, tylko sprawozdanie do 20 maja do godz. 22\n",
    "\n",
    "-> Sprawko: mają być wykonane wszystkie eksperymenty! + wnioski"
   ]
  },
  {
   "cell_type": "markdown",
   "id": "8bd25da4-32e4-44a6-9718-15149c38e955",
   "metadata": {},
   "source": [
    "Wizualizacje:\n",
    "- wagi w przestrzeni 2d (wikipedia)\n",
    "- albo po prostu metryki do sprawdzenia skuteczności"
   ]
  },
  {
   "cell_type": "code",
   "execution_count": 1,
   "id": "5a459f2a-cba9-4cff-864c-2fcb62b2a438",
   "metadata": {},
   "outputs": [],
   "source": [
    "import numpy as np\n",
    "import pandas as pd\n",
    "import matplotlib.pyplot as plt"
   ]
  },
  {
   "cell_type": "code",
   "execution_count": 149,
   "id": "240d5892-095f-4a3d-9456-593e5b573392",
   "metadata": {},
   "outputs": [],
   "source": [
    "class Koh:\n",
    "    def __init__(self, k, N, M, theta_fun='gauss', topology='rectangle'):\n",
    "        self.k = k\n",
    "        self.N = N\n",
    "        self.M = M\n",
    "        self.theta_fun = theta_fun\n",
    "        self.topology = topology\n",
    "        self.weights = np.random.uniform(-5,5,size=[self.k, self.N*self.M])\n",
    "        self.positions = np.matrix([[i+0.5,j] if j%2==0 else (i,j) for i in range(self.N) for j in range(self.M)])\n",
    "        \n",
    "    @staticmethod\n",
    "    def d(w_array,x_array):\n",
    "        \"\"\"Odległość euklidesowa (metryka)\"\"\"\n",
    "        return np.linalg.norm(w_array-x_array)\n",
    "    @staticmethod\n",
    "    def distance(n1, n2):\n",
    "        \"\"\"Odległość między neuronami\"\"\"\n",
    "        return np.abs(n1[0]-n2[0]) + np.abs(n1[1]-n2[1])\n",
    "    @staticmethod\n",
    "    def gauss_fun(x, t):\n",
    "        \"\"\"Funkcja Gaussa\"\"\"\n",
    "        return np.exp(-np.square(x))\n",
    "    @staticmethod\n",
    "    def mexico_fun(x, t):\n",
    "        \"\"\"Meksykański kapelusz (-druga pochodna gauss_fun) przeskalowana do [0,1], czyli (f+1)/3\"\"\"\n",
    "        return (2-4*np.square(x))*np.exp(-np.square(x) + 1) / 3\n",
    "    def theta(self,n1,n2, t, width):\n",
    "        \"\"\"Waga sąsiedztwa wygaszana w czasie\n",
    "        width - szerokość sąsiedztwa [0.1, 1]\n",
    "        \"\"\"\n",
    "        if self.theta_fun == 'gauss':\n",
    "            return Koh.gauss_fun(Koh.distance(n1,n2)*width, t)\n",
    "        elif self.theta_fun == 'mexico':\n",
    "            return Koh.mexico_fun(Koh.distance(n1,n2)*width, t)\n",
    "    \n",
    "    def alpha(self, t):\n",
    "        \"\"\"Wygaszanie w czasie\"\"\"\n",
    "        return np.exp(-t/self.n_epochs)\n",
    "    \n",
    "    def draw_neurons(self, df):\n",
    "        \"\"\"df - ramka obserwacji wraz z kategoriami\"\"\"\n",
    "        positions_x = self.positions[:,0] # położenia na OX neuronów\n",
    "        positions_y = self.positions[:,1]\n",
    "        \n",
    "        predicted_categories = []\n",
    "        for x in np.array(pd.DataFrame(df).iloc[:,:-1]):\n",
    "            predicted_categories.append(self.predict_category(x))\n",
    "\n",
    "            \n",
    "        plt.figure(figsize=(10,4))\n",
    "        plt.subplot(1,2,1)\n",
    "        plt.title('Predicted categories')\n",
    "        # plt.scatter(df.reshape((28,28))[:,0], df.reshape((28,28))[:,1], cmap='Paired')\n",
    "        plt.scatter(np.array(positions_x.T), np.array(positions_y.T))\n",
    " \n",
    "        # plt.figure(figsize=(10,4))\n",
    "        # plt.subplot(1,2,1)\n",
    "        # plt.title('Predicted categories')\n",
    "        # plt.scatter(df.reshape((28,28))[:,0], df.reshape((28,28))[:,1], c=predicted_categories, cmap='Paired')\n",
    "        # plt.scatter(positions_x, positions_y, c='black',s=100)\n",
    "        # plt.subplot(1,2,2)\n",
    "        # plt.title('True categories')\n",
    "        # plt.scatter(df.reshape((28,28))[:,0], df.reshape((28,28))[:,1], c=df.reshape((28,28))[:,2],  cmap='Paired')\n",
    "        # plt.scatter(positions_x, positions_y, c='black',s=100)\n",
    "        plt.show()\n",
    "    \n",
    "    \n",
    "    def find_the_nearest_neuron(self, x):\n",
    "        \"\"\"Znajdź neuron najbliższy obserwacji x\"\"\"\n",
    "        distances = []\n",
    "        for i in range(self.weights.shape[1]):\n",
    "            distances.append(Koh.d(self.weights[:,i], x))\n",
    "        return self.weights[:, np.argmin(distances)]\n",
    "    \n",
    "    def find_the_nearest_neuron_position(self, x):\n",
    "        \"\"\"Znajdź neuron najbliższy obserwacji x\"\"\"\n",
    "        distances = []\n",
    "        for i in range(self.weights.shape[1]):\n",
    "            distances.append(Koh.d(self.weights[:,i], x))\n",
    "        return self.positions[np.argmin(distances),:]\n",
    "            \n",
    "    def train(self, df=None, n_epochs=10, graph_period=2, width=1):\n",
    "        \"\"\"\n",
    "        data - ramka danych wraz z kategorią (x,y,c)\n",
    "        width - szerokość sąsiedztwa [0.1, 1]\n",
    "        \"\"\"\n",
    "        self.n_epochs = n_epochs\n",
    "\n",
    "        print('Random weights')\n",
    "        self.draw_neurons(df)\n",
    "        for t in range(n_epochs):\n",
    "            np.random.shuffle(df)\n",
    "            data = np.array(pd.DataFrame(df).iloc[:,:-1])\n",
    "            for x in data:\n",
    "                w_min = self.find_the_nearest_neuron(x)\n",
    "                [i_min, j_min] = np.array(self.find_the_nearest_neuron_position(x))[0]\n",
    "            \n",
    "                for neuron_num in range(self.weights.shape[1]):\n",
    "                    self.weights[:,neuron_num] += self.theta([i_min,j_min], np.array(self.positions[neuron_num,:])[0], t, width)*self.alpha(t)*(x - self.weights[:,neuron_num])\n",
    "            \n",
    "            if t%graph_period==0:\n",
    "                print('Number of epoch: ', t)\n",
    "                # self.draw_neurons(df)\n",
    "                    \n",
    "    def predict_category(self, x):\n",
    "        \"\"\"Przewidź kategorię jednej obserwacji\"\"\"\n",
    "        distances = []\n",
    "        for i in range(self.weights.shape[1]):\n",
    "            distances.append(Koh.d(self.weights[:,i], x))\n",
    "        return int(np.argmin(distances))"
   ]
  },
  {
   "cell_type": "code",
   "execution_count": 150,
   "id": "35c1b0bf-0f18-4a3e-b311-f0f38e8248c0",
   "metadata": {},
   "outputs": [
    {
     "name": "stdout",
     "output_type": "stream",
     "text": [
      "Random weights\n"
     ]
    },
    {
     "data": {
      "image/png": "[encoded data removed]",
      "text/plain": [
       "<Figure size 720x288 with 1 Axes>"
      ]
     },
     "metadata": {
      "needs_background": "light"
     },
     "output_type": "display_data"
    },
    {
     "name": "stdout",
     "output_type": "stream",
     "text": [
      "Number of epoch:  0\n",
      "Number of epoch:  2\n",
      "Number of epoch:  4\n",
      "Number of epoch:  6\n",
      "Number of epoch:  8\n",
      "Number of epoch:  10\n"
     ]
    }
   ],
   "source": [
    "koh = Koh(k=784, N=28, M=28, theta_fun='gauss')\n",
    "koh.train(df=np.array(train_data_with_c[:10,:]), n_epochs=11, graph_period=2)"
   ]
  },
  {
   "cell_type": "markdown",
   "id": "1988e50c-c6d2-4222-8a7f-4c8bfe3f4345",
   "metadata": {},
   "source": [
    "## Pobranie zbioru `MNIST`"
   ]
  },
  {
   "cell_type": "code",
   "execution_count": 143,
   "id": "c3d268eb-92e1-47cd-9c94-3ed2b0068f30",
   "metadata": {},
   "outputs": [],
   "source": [
    "image_size = 28 # width and length\n",
    "no_of_different_labels = 10 #  i.e. 0, 1, 2, 3, ..., 9\n",
    "image_pixels = image_size * image_size\n",
    "train_data_with_c = np.loadtxt('./data/mnist_train.csv', \n",
    "                        delimiter=\",\")"
   ]
  },
  {
   "cell_type": "code",
   "execution_count": 144,
   "id": "b82e6452-3b0d-4454-ad92-fca02d934038",
   "metadata": {},
   "outputs": [
    {
     "data": {
      "text/plain": [
       "(60000, 785)"
      ]
     },
     "execution_count": 144,
     "metadata": {},
     "output_type": "execute_result"
    }
   ],
   "source": [
    "train_data_with_c.shape # obrazki są domyślnie spłaszczone"
   ]
  },
  {
   "cell_type": "code",
   "execution_count": 145,
   "id": "5ab0a688-ed31-442a-9b42-f669eb9b1237",
   "metadata": {},
   "outputs": [],
   "source": [
    "classes = train_data[:,0]\n",
    "train_data = train_data_with_c[:,1:]"
   ]
  },
  {
   "cell_type": "code",
   "execution_count": 146,
   "id": "5e07326b-17e1-4015-93c5-e1cb4fc245bd",
   "metadata": {},
   "outputs": [
    {
     "name": "stdout",
     "output_type": "stream",
     "text": [
      "Class:  5\n"
     ]
    },
    {
     "data": {
      "image/png": "[encoded data removed]",
      "text/plain": [
       "<Figure size 432x288 with 1 Axes>"
      ]
     },
     "metadata": {
      "needs_background": "light"
     },
     "output_type": "display_data"
    }
   ],
   "source": [
    "print('Class: ', int(classes[0]))\n",
    "plt.imshow(np.reshape(train_data[0], (28,28)))\n",
    "plt.show()"
   ]
  },
  {
   "cell_type": "code",
   "execution_count": 9,
   "id": "cc2c2813-c73d-41ce-a88e-1f784ba4d98c",
   "metadata": {},
   "outputs": [
    {
     "name": "stdout",
     "output_type": "stream",
     "text": [
      "Random weights\n",
      "(2,) (0,)\n"
     ]
    },
    {
     "ename": "ValueError",
     "evalue": "operands could not be broadcast together with shapes (2,) (0,) ",
     "output_type": "error",
     "traceback": [
      "\u001b[0;31m---------------------------------------------------------------------------\u001b[0m",
      "\u001b[0;31mValueError\u001b[0m                                Traceback (most recent call last)",
      "Input \u001b[0;32mIn [9]\u001b[0m, in \u001b[0;36m<cell line: 2>\u001b[0;34m()\u001b[0m\n\u001b[1;32m      1\u001b[0m koh \u001b[38;5;241m=\u001b[39m Koh(k\u001b[38;5;241m=\u001b[39m\u001b[38;5;241m2\u001b[39m, N\u001b[38;5;241m=\u001b[39m\u001b[38;5;241m3\u001b[39m, M\u001b[38;5;241m=\u001b[39m\u001b[38;5;241m2\u001b[39m, theta_fun\u001b[38;5;241m=\u001b[39m\u001b[38;5;124m'\u001b[39m\u001b[38;5;124mgauss\u001b[39m\u001b[38;5;124m'\u001b[39m)\n\u001b[0;32m----> 2\u001b[0m \u001b[43mkoh\u001b[49m\u001b[38;5;241;43m.\u001b[39;49m\u001b[43mtrain\u001b[49m\u001b[43m(\u001b[49m\u001b[43mdf\u001b[49m\u001b[38;5;241;43m=\u001b[39;49m\u001b[43mnp\u001b[49m\u001b[38;5;241;43m.\u001b[39;49m\u001b[43marray\u001b[49m\u001b[43m(\u001b[49m\u001b[43mtrain_data\u001b[49m\u001b[43m[\u001b[49m\u001b[38;5;241;43m0\u001b[39;49m\u001b[43m]\u001b[49m\u001b[43m)\u001b[49m\u001b[43m,\u001b[49m\u001b[43m \u001b[49m\u001b[43mn_epochs\u001b[49m\u001b[38;5;241;43m=\u001b[39;49m\u001b[38;5;241;43m11\u001b[39;49m\u001b[43m,\u001b[49m\u001b[43m \u001b[49m\u001b[43mgraph_period\u001b[49m\u001b[38;5;241;43m=\u001b[39;49m\u001b[38;5;241;43m2\u001b[39;49m\u001b[43m)\u001b[49m\n",
      "Input \u001b[0;32mIn [8]\u001b[0m, in \u001b[0;36mKoh.train\u001b[0;34m(self, df, n_epochs, graph_period, width)\u001b[0m\n\u001b[1;32m     83\u001b[0m \u001b[38;5;28mself\u001b[39m\u001b[38;5;241m.\u001b[39mn_epochs \u001b[38;5;241m=\u001b[39m n_epochs\n\u001b[1;32m     85\u001b[0m \u001b[38;5;28mprint\u001b[39m(\u001b[38;5;124m'\u001b[39m\u001b[38;5;124mRandom weights\u001b[39m\u001b[38;5;124m'\u001b[39m)\n\u001b[0;32m---> 86\u001b[0m \u001b[38;5;28;43mself\u001b[39;49m\u001b[38;5;241;43m.\u001b[39;49m\u001b[43mdraw_neurons\u001b[49m\u001b[43m(\u001b[49m\u001b[43mdf\u001b[49m\u001b[43m)\u001b[49m\n\u001b[1;32m     87\u001b[0m \u001b[38;5;28;01mfor\u001b[39;00m t \u001b[38;5;129;01min\u001b[39;00m \u001b[38;5;28mrange\u001b[39m(n_epochs):\n\u001b[1;32m     88\u001b[0m     np\u001b[38;5;241m.\u001b[39mrandom\u001b[38;5;241m.\u001b[39mshuffle(df)\n",
      "Input \u001b[0;32mIn [8]\u001b[0m, in \u001b[0;36mKoh.draw_neurons\u001b[0;34m(self, df)\u001b[0m\n\u001b[1;32m     45\u001b[0m predicted_categories \u001b[38;5;241m=\u001b[39m []\n\u001b[1;32m     46\u001b[0m \u001b[38;5;28;01mfor\u001b[39;00m x \u001b[38;5;129;01min\u001b[39;00m np\u001b[38;5;241m.\u001b[39marray(pd\u001b[38;5;241m.\u001b[39mDataFrame(df)\u001b[38;5;241m.\u001b[39miloc[:,:\u001b[38;5;241m-\u001b[39m\u001b[38;5;241m1\u001b[39m]):\n\u001b[0;32m---> 47\u001b[0m     predicted_categories\u001b[38;5;241m.\u001b[39mappend(\u001b[38;5;28;43mself\u001b[39;49m\u001b[38;5;241;43m.\u001b[39;49m\u001b[43mpredict_category\u001b[49m\u001b[43m(\u001b[49m\u001b[43mx\u001b[49m\u001b[43m)\u001b[49m)\n\u001b[1;32m     49\u001b[0m \u001b[38;5;28;01mif\u001b[39;00m df\u001b[38;5;241m.\u001b[39mshape[\u001b[38;5;241m1\u001b[39m]\u001b[38;5;241m==\u001b[39m\u001b[38;5;241m3\u001b[39m: \u001b[38;5;66;03m# 2D \u001b[39;00m\n\u001b[1;32m     50\u001b[0m     plt\u001b[38;5;241m.\u001b[39mfigure(figsize\u001b[38;5;241m=\u001b[39m(\u001b[38;5;241m10\u001b[39m,\u001b[38;5;241m4\u001b[39m))\n",
      "Input \u001b[0;32mIn [8]\u001b[0m, in \u001b[0;36mKoh.predict_category\u001b[0;34m(self, x)\u001b[0m\n\u001b[1;32m    102\u001b[0m distances \u001b[38;5;241m=\u001b[39m []\n\u001b[1;32m    103\u001b[0m \u001b[38;5;28;01mfor\u001b[39;00m i \u001b[38;5;129;01min\u001b[39;00m \u001b[38;5;28mrange\u001b[39m(\u001b[38;5;28mself\u001b[39m\u001b[38;5;241m.\u001b[39mweights\u001b[38;5;241m.\u001b[39mshape[\u001b[38;5;241m1\u001b[39m]):\n\u001b[0;32m--> 104\u001b[0m     distances\u001b[38;5;241m.\u001b[39mappend(\u001b[43mKoh\u001b[49m\u001b[38;5;241;43m.\u001b[39;49m\u001b[43md\u001b[49m\u001b[43m(\u001b[49m\u001b[38;5;28;43mself\u001b[39;49m\u001b[38;5;241;43m.\u001b[39;49m\u001b[43mweights\u001b[49m\u001b[43m[\u001b[49m\u001b[43m:\u001b[49m\u001b[43m,\u001b[49m\u001b[43mi\u001b[49m\u001b[43m]\u001b[49m\u001b[43m,\u001b[49m\u001b[43m \u001b[49m\u001b[43mx\u001b[49m\u001b[43m)\u001b[49m)\n\u001b[1;32m    105\u001b[0m \u001b[38;5;28;01mreturn\u001b[39;00m \u001b[38;5;28mint\u001b[39m(np\u001b[38;5;241m.\u001b[39margmin(distances))\n",
      "Input \u001b[0;32mIn [8]\u001b[0m, in \u001b[0;36mKoh.d\u001b[0;34m(w_array, x_array)\u001b[0m\n\u001b[1;32m     12\u001b[0m \u001b[38;5;124;03m\"\"\"Odległość euklidesowa (metryka)\"\"\"\u001b[39;00m\n\u001b[1;32m     13\u001b[0m \u001b[38;5;28mprint\u001b[39m(w_array\u001b[38;5;241m.\u001b[39mshape, x_array\u001b[38;5;241m.\u001b[39mshape)\n\u001b[0;32m---> 14\u001b[0m \u001b[38;5;28;01mreturn\u001b[39;00m np\u001b[38;5;241m.\u001b[39mlinalg\u001b[38;5;241m.\u001b[39mnorm(\u001b[43mw_array\u001b[49m\u001b[38;5;241;43m-\u001b[39;49m\u001b[43mx_array\u001b[49m)\n",
      "\u001b[0;31mValueError\u001b[0m: operands could not be broadcast together with shapes (2,) (0,) "
     ]
    }
   ],
   "source": [
    "koh = Koh(k=2, N=3, M=2, theta_fun='gauss')\n",
    "koh.train(df=np.array(train_data[0]), n_epochs=11, graph_period=2)"
   ]
  },
  {
   "cell_type": "code",
   "execution_count": null,
   "id": "9e438f9b-137b-48a8-8a35-128acd24c4b2",
   "metadata": {},
   "outputs": [],
   "source": []
  },
  {
   "cell_type": "code",
   "execution_count": null,
   "id": "b8073ec6-fc75-4536-b8a5-4e72f38c9aa2",
   "metadata": {},
   "outputs": [],
   "source": []
  },
  {
   "cell_type": "code",
   "execution_count": null,
   "id": "8dd9a4f7-0db9-480d-b010-b1d0c0e8207a",
   "metadata": {},
   "outputs": [],
   "source": []
  }
 ],
 "metadata": {
  "kernelspec": {
   "display_name": "koh_venv",
   "language": "python",
   "name": "koh_venv"
  },
  "language_info": {
   "codemirror_mode": {
    "name": "ipython",
    "version": 3
   },
   "file_extension": ".py",
   "mimetype": "text/x-python",
   "name": "python",
   "nbconvert_exporter": "python",
   "pygments_lexer": "ipython3",
   "version": "3.8.10"
  }
 },
 "nbformat": 4,
 "nbformat_minor": 5
}
