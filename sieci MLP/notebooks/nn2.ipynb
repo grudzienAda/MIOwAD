{
 "cells": [
  {
   "cell_type": "markdown",
   "metadata": {},
   "source": [
    "# NN2: Implementacja propagacji wstecznej błędu\n",
    "Adrianna Grudzień "
   ]
  },
  {
   "cell_type": "markdown",
   "metadata": {},
   "source": [
    "### Import"
   ]
  },
  {
   "cell_type": "code",
   "execution_count": 1,
   "metadata": {},
   "outputs": [],
   "source": [
    "import numpy as np\n",
    "import pandas as pd\n",
    "import matplotlib.pyplot as plt\n",
    "from sklearn import metrics"
   ]
  },
  {
   "cell_type": "markdown",
   "metadata": {},
   "source": [
    "### Wczytanie danych"
   ]
  },
  {
   "cell_type": "code",
   "execution_count": 2,
   "metadata": {},
   "outputs": [],
   "source": [
    "sq_train = pd.read_csv(\"../data/regression/square-simple-training.csv\", index_col=0)\n",
    "sq_test = pd.read_csv(\"../data/regression/square-simple-test.csv\", index_col=0)\n",
    "x = np.matrix(sq_train['x'])\n",
    "y_true = np.matrix(sq_test['y'])\n",
    "# x = x[:10]\n",
    "# y_true = y_true[:10]"
   ]
  },
  {
   "cell_type": "markdown",
   "metadata": {},
   "source": [
    "### Funkcja aktywacji"
   ]
  },
  {
   "cell_type": "code",
   "execution_count": 3,
   "metadata": {},
   "outputs": [],
   "source": [
    "def sigmoid(x):\n",
    "    return 1 / (1 + np.exp(-x))\n",
    "def sigmoid_derivative(x):\n",
    "    return np.exp(-x) / (1 + np.exp(-x))**2"
   ]
  },
  {
   "cell_type": "markdown",
   "metadata": {},
   "source": [
    "### Definicja sieci MLP"
   ]
  },
  {
   "cell_type": "markdown",
   "metadata": {},
   "source": [
    "-`np.multiply` mnoży wektory po każdym elemencie"
   ]
  },
  {
   "cell_type": "code",
   "execution_count": 4,
   "metadata": {},
   "outputs": [],
   "source": [
    "class MLP:\n",
    "    def __init__(self, input_layer_size=[100,1], layers_sizes=[90,3,1], activ_fun=sigmoid):\n",
    "        self.input_layer_size = input_layer_size\n",
    "        self.layers_sizes = layers_sizes # wszystkie warstwy poza pierwszą\n",
    "        self.activ_fun = activ_fun\n",
    "        self.number_of_layers = len(layers_sizes)+1 # liczba wszystkich warstw\n",
    "        self._initialize_weights_and_biases()\n",
    "\n",
    "#         for w in self.biases:\n",
    "#             print('biases: ', w.shape)\n",
    "#         for w in self.weights:\n",
    "#             print('weights: ', w.shape)\n",
    "        \n",
    "    def _initialize_weights_and_biases(self, min_val=-0.5, max_val=0.5):\n",
    "        self.weights = [np.random.uniform(min_val, max_val, \n",
    "                                          size=[self.layers_sizes[0], self.input_layer_size[1]])]\n",
    "        self.biases = []   \n",
    "        \n",
    "        for i in range(len(self.layers_sizes)-1):\n",
    "            self.weights.append(np.random.uniform(min_val, max_val, \n",
    "                                                  size=[self.layers_sizes[i+1], self.layers_sizes[i]]))\n",
    "            self.biases.append(np.random.uniform(min_val, max_val, size=(self.layers_sizes[i],1)))\n",
    "            \n",
    "        self.biases.append(np.random.uniform(min_val, max_val, \n",
    "                                             size=(self.layers_sizes[len(self.layers_sizes)-1],1)))\n",
    "        \n",
    "    @staticmethod # wywołuje się bezpośrednio na obiekcie\n",
    "    def mse(y_pred, y_true):\n",
    "        \"\"\"Funkcja kosztu C.\"\"\"\n",
    "        return np.mean(np.square(y_pred-y_true))\n",
    "    @staticmethod\n",
    "    def sigmoid_derivative(x):\n",
    "        return np.exp(-x) / np.square(1 + np.exp(-x))\n",
    "        \n",
    "    def forward(self, x):\n",
    "        self.active = [x] # wektor wartości aktywowanych - a^l\n",
    "        self.inactive = [x] # nieaktywowane - z^l\n",
    "        for i in range(len(self.weights)):\n",
    "            z = self.weights[i] @ self.active[i] + self.biases[i]\n",
    "            a = self.activ_fun(z)\n",
    "            self.inactive.append(z)\n",
    "            self.active.append(a)\n",
    "        return self.active[-1]\n",
    "    \n",
    "    def backpropagate(self, x, y_pred):\n",
    "        \"\"\"y_pred ~= aL\"\"\"\n",
    "        delta_biases = [np.zeros(b.shape) for b in self.biases]\n",
    "        delta_weights = [np.zeros(w.shape) for w in self.weights]\n",
    "        \n",
    "        delta = np.multiply(self.active[-1] - y_pred, MLP.sigmoid_derivative(self.inactive[-1])) # dla ostatniej warstwy - L\n",
    "        delta_biases[-1] = delta\n",
    "        delta_weights[-1] = delta @ self.active[-2].transpose()\n",
    "        for l in range(self.number_of_layers-2, 0, -1): #dla warstw (L-1,...,0)\n",
    "#             print(delta.transpose().shape, self.weights[l].shape, MLP.sigmoid_derivative(self.inactive[l]).transpose().shape)\n",
    "            delta = np.multiply((delta.transpose() @ self.weights[l]).transpose(), MLP.sigmoid_derivative(self.inactive[l]))\n",
    "            delta_biases[l-1] = delta\n",
    "#             print(self.active[l-1].shape, delta.shape)\n",
    "            delta_weights[l-1] = self.active[l-1] @ delta.transpose()\n",
    "        \n",
    "        return (delta_biases, delta_weights)\n",
    "    \n",
    "    def print_shapes(self, list1):\n",
    "        for w in list1:\n",
    "            print(w.shape)\n",
    "\n",
    "    def fit(self, x, y_true, n_epochs=1):\n",
    "        \"\"\"x, y_true - pojedyncze obserwacje\"\"\"\n",
    "        y_pred = self.forward(x)\n",
    "        (delta_biases, delta_weights) = self.backpropagate(x, y_pred)\n",
    "            \n",
    "        for w, d_w in zip(delta_biases, delta_weights):\n",
    "            print('b: ', w.shape, 'w: ', d_w.shape)\n",
    "#         print('melo')\n",
    "#         self.print_shapes(delta_biases)\n",
    "#         print('elo')\n",
    "#         self.print_shapes(delta_weights)\n",
    "#         self.print_shapes(self.biases)\n",
    "\n",
    "#         for i in range(n_epochs):\n",
    "#             y_pred = self.forward(x)\n",
    "#             (delta_biases, delta_weights) = self.backpropagate(y_pred, y_true)\n",
    "#             self.print_shapes(self.biases)\n",
    "#             self.print_shapes(delta_biases)\n",
    "#             self.print_shapes(self.weights)\n",
    "#             self.print_shapes(delta_weights)\n",
    "\n",
    "#             self.biases += delta_biases\n",
    "#             self.weights += delta_weights\n"
   ]
  },
  {
   "cell_type": "code",
   "execution_count": 5,
   "metadata": {},
   "outputs": [
    {
     "name": "stdout",
     "output_type": "stream",
     "text": [
      "b:  (3, 100) w:  (1, 3)\n",
      "b:  (2, 100) w:  (3, 2)\n",
      "b:  (1, 100) w:  (1, 2)\n"
     ]
    }
   ],
   "source": [
    "mlp = MLP(layers_sizes=[3,2,1])\n",
    "mlp.fit(x, y_true)"
   ]
  }
 ],
 "metadata": {
  "kernelspec": {
   "display_name": "koh_venv",
   "language": "python",
   "name": "koh_venv"
  },
  "language_info": {
   "codemirror_mode": {
    "name": "ipython",
    "version": 3
   },
   "file_extension": ".py",
   "mimetype": "text/x-python",
   "name": "python",
   "nbconvert_exporter": "python",
   "pygments_lexer": "ipython3",
   "version": "3.8.10"
  }
 },
 "nbformat": 4,
 "nbformat_minor": 4
}
