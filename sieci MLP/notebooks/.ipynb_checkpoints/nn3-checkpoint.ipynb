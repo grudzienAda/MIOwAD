{
 "cells": [
  {
   "cell_type": "code",
   "execution_count": 1,
   "id": "db1682d7-941c-432b-aa8a-84b01e99436c",
   "metadata": {},
   "outputs": [],
   "source": [
    "import numpy as np\n",
    "import pandas as pd\n",
    "import matplotlib.pyplot as plt\n",
    "import math\n",
    "import random\n",
    "import copy"
   ]
  },
  {
   "cell_type": "code",
   "execution_count": 2,
   "id": "6683fee9-3ae2-49d7-96df-65d925608b00",
   "metadata": {},
   "outputs": [],
   "source": [
    "class Layer:\n",
    "    def __init__(self, shape, activation='sigmoid'):\n",
    "        self.shape = shape\n",
    "        self.activation = activation\n",
    "        self._initialize_weights()\n",
    "\n",
    "    def _initialize_weights(self, min_val=-0.5, max_val=0.5):\n",
    "        self.weights = np.random.uniform(min_val, max_val, size=self.shape)\n",
    "        self.biases = np.random.uniform(min_val, max_val, size=self.shape[1])\n",
    "\n",
    "    def calculate(self, x):\n",
    "        return np.matmul(x, self.weights) + self.biases\n",
    "\n",
    "    def activate(self, x):\n",
    "        if self.activation == 'sigmoid':\n",
    "            return Layer.sigmoid(x)\n",
    "        if self.activation == 'linear':\n",
    "            return x\n",
    "\n",
    "    def update(self, delta_weights, delta_biases):\n",
    "        self.weights += np.array(np.reshape(delta_weights, self.shape))\n",
    "        self.biases += np.array(np.reshape(delta_biases, self.shape[1]))\n",
    "\n",
    "    @staticmethod\n",
    "    def sigmoid(x):\n",
    "        return 1 / (1 + np.exp(-x))\n",
    "\n",
    "\n",
    "class NN:\n",
    "    def __init__(self, input_shape, neurons_num=[5], activations=['linear'], seed=123):\n",
    "        self.input_shape = input_shape\n",
    "        self.layers_num = len(neurons_num)\n",
    "        self.neurons_num = neurons_num\n",
    "        self.activations = activations\n",
    "        np.random.seed(seed)\n",
    "        self._build()\n",
    "        self.mse = []\n",
    "\n",
    "    @staticmethod\n",
    "    def sigmoid_derivative(x):\n",
    "        return np.exp(-x) / np.square((1 + np.exp(-x)))\n",
    "\n",
    "    @staticmethod\n",
    "    def mse(y_true, y_pred):\n",
    "         return np.mean(np.square(y_true - y_pred))\n",
    "\n",
    "    def cross_entropy(y_true, y_pred):\n",
    "        np.where(y_true == 1, -np.log(y_pred), -np.log(1 - y_pred))\n",
    "\n",
    "    def calculate_errors(self, y_true, y_pred):\n",
    "        errors = []\n",
    "        for i in range(self.layers_num - 1, -1, -1):\n",
    "            layer = self.layers[i]\n",
    "            if layer.activation == 'linear':\n",
    "                derivative = np.ones(shape=(layer.shape[-1], 1))\n",
    "            if layer.activation == 'sigmoid':\n",
    "                derivative = NN.sigmoid_derivative(self.recent_calculations[i + 1].reshape(layer.shape[-1], 1))\n",
    "            if i == self.layers_num - 1:\n",
    "                errors.append(np.multiply((y_pred - y_true), derivative))\n",
    "            else:\n",
    "                errors.append(np.multiply(derivative, np.dot(self.layers[i + 1].weights, errors[-1])))\n",
    "        errors.reverse()\n",
    "        return errors\n",
    "        \n",
    "    def backpropagate(self, y_pred, y_true, x):\n",
    "        g = {'weights': [], 'biases': []}  \n",
    "        \n",
    "        errors = self.calculate_errors(y_true, y_pred) \n",
    "        for i in range(self.layers_num - 1, 0, -1):     \n",
    "            a = self.layers[i - 1].activate(self.recent_calculations[i].reshape(self.layers[i - 1].shape[-1], 1)) \n",
    "            g['weights'].insert(0, np.outer(a, errors[i]) / self.batch_size)\n",
    "            g['biases'].insert(0, errors[i] / self.batch_size)\n",
    "        g['weights'].insert(0, np.outer(x, errors[0]) / self.batch_size)\n",
    "        g['biases'].insert(0, errors[0] / self.batch_size)\n",
    "        return g\n",
    "        \n",
    "    def sum_g(self, g):\n",
    "        for i in range(self.layers_num):\n",
    "            self.g['weights'][i] += g['weights'][i]\n",
    "            self.g['biases'][i] += g['biases'][i]\n",
    "\n",
    "    def _build(self):\n",
    "        self.layers = []\n",
    "\n",
    "        layer = Layer(shape=(self.input_shape[1], self.neurons_num[0]), activation=self.activations[0])\n",
    "        self.layers.append(layer)\n",
    "\n",
    "        for i in range(1, self.layers_num):\n",
    "            layer = Layer(shape=(self.layers[i - 1].shape[1], self.neurons_num[i]), activation=self.activations[i])\n",
    "            self.layers.append(layer)\n",
    "\n",
    "    @staticmethod\n",
    "    def convert_to_numpy_array(x_train, y_train, x_test, y_test):\n",
    "        if x_test is None or y_test is None:\n",
    "            return np.array(x_train), np.array(y_train), None, None\n",
    "        else:\n",
    "            return np.array(x_train), np.array(y_train), np.array(x_test), np.array(y_test)\n",
    "\n",
    "    def update_layers(self, method=None):\n",
    "        if method == 'momentum':\n",
    "            self.update_layers_momentum()\n",
    "        elif method == 'RMSProp' or method == 'rmsprop':\n",
    "            self.update_layers_RMSProp()\n",
    "\n",
    "    def update_layers_momentum(self):\n",
    "        for i in range(self.layers_num):\n",
    "            delta_weights = self.learning_rate * self.momentum['weights'][i] \n",
    "            delta_biases = self.learning_rate * self.momentum['biases'][i]\n",
    "            self.layers[i].update(delta_weights, delta_biases)\n",
    "\n",
    "    def update_layers_RMSProp(self):\n",
    "        eps = 0.0000001\n",
    "        for i in range(self.layers_num):\n",
    "            delta_weights = - self.learning_rate * self.g['weights'][i] / (np.sqrt(self.expected_g2['weights'][i]) + eps)\n",
    "            delta_biases = - self.learning_rate * self.g['biases'][i] / (np.sqrt(self.expected_g2['biases'][i]) + eps)\n",
    "            self.layers[i].update(delta_weights, delta_biases)\n",
    "\n",
    "    def initialize_dict(self):\n",
    "        d = {'weights': [], 'biases': []}    \n",
    "        for layer in self.layers:\n",
    "            d['weights'].append(np.zeros(shape=layer.weights.shape)) \n",
    "            d['biases'].append(np.zeros(shape=(layer.biases.shape[0], 1))) \n",
    "\n",
    "        return d\n",
    "\n",
    "    def sum_dicts(self, dict1, dict2, dict1_multiplier=1, dict2_multiplier=1):\n",
    "        d_sum = self.initialize_dict()\n",
    "        for i in range(self.layers_num):\n",
    "            d_sum['weights'][i] = dict1_multiplier * dict1['weights'][i] + dict2_multiplier * dict2['weights'][i]\n",
    "            d_sum['biases'][i] = dict1_multiplier * dict1['biases'][i] + dict2_multiplier * dict2['biases'][i]\n",
    "        return d_sum\n",
    "\n",
    "    def square_dict(self, d):\n",
    "        d_temp = self.initialize_dict()\n",
    "        for i in range(self.layers_num):\n",
    "            d_temp['weights'][i] = np.square(d['weights'][i])\n",
    "            d_temp['biases'][i] = np.square(d['biases'][i])\n",
    "        \n",
    "        return d_temp\n",
    "\n",
    "    def update_momentum(self):\n",
    "        for i in range(self.layers_num):\n",
    "            self.momentum['weights'][i] = self.delta\n",
    "\n",
    "    def print_results(self, epoch):\n",
    "        print(f'Epoch: {epoch}/{self.n_epochs}')\n",
    "        if self.x_test is not None:\n",
    "            print(f'MSE: {NN.mse(self.y_test, self.predict(self.x_test))}')\n",
    "\n",
    "    def generate_mini_batches(self):\n",
    "        np.random.shuffle(self.indices)\n",
    "        return np.split(self.indices, [i * self.batch_size for i in range(1, self.n // self.batch_size)]) \n",
    "\n",
    "    def fit_with_momentum(self):\n",
    "        self.momentum = self.initialize_dict() \n",
    "\n",
    "        epoch = 1\n",
    "        while(epoch <= self.n_epochs):\n",
    "            mini_batches = self.generate_mini_batches()  \n",
    "\n",
    "            for batch in mini_batches: \n",
    "                self.g = self.initialize_dict()     \n",
    "                for j in range(self.batch_size):\n",
    "                    y_pred = self.predict(self.x_train[batch[j]])                    \n",
    "                    delta_network = self.backpropagate(y_pred, self.y_train[batch[j]], self.x_train[batch[j]])\n",
    "                    self.g = self.sum_dicts(dict1=self.g, dict2=delta_network, dict2_multiplier=-1)\n",
    "                self.momentum = self.sum_dicts(dict1=self.momentum, dict2=self.g, dict1_multiplier=self.decay_rate)\n",
    "                self.update_layers(method='momentum')\n",
    "            \n",
    "            self.mse.append(NN.mse(self.y_test, self.predict(self.x_test)))\n",
    "            \n",
    "            if epoch % 100 == 0:\n",
    "                 self.print_results(epoch)\n",
    "            epoch += 1\n",
    "\n",
    "    def fit_with_RMSProp(self):        \n",
    "        self.expected_g2 = self.initialize_dict()\n",
    "                \n",
    "        epoch = 1\n",
    "        while(epoch <= self.n_epochs):\n",
    "            mini_batches = self.generate_mini_batches()   \n",
    "\n",
    "            for batch in mini_batches: \n",
    "                self.g = self.initialize_dict()     \n",
    "                for j in range(self.batch_size):\n",
    "                    y_pred = self.predict(self.x_train[batch[j]])                    \n",
    "                    delta_network = self.backpropagate(y_pred, self.y_train[batch[j]], self.x_train[batch[j]])\n",
    "                    self.g = self.sum_dicts(dict1=self.g, dict2=delta_network)\n",
    "                g2 = self.square_dict(self.g)\n",
    "                self.expected_g2 = self.sum_dicts(dict1=self.expected_g2, dict2=g2, dict1_multiplier=self.decay_rate, dict2_multiplier=(1-self.decay_rate))\n",
    "                self.update_layers(method='rmsprop')\n",
    "            \n",
    "            self.mse.append(NN.mse(self.y_test, self.predict(self.x_test)))\n",
    "            \n",
    "            if epoch % 100 == 0:\n",
    "                 self.print_results(epoch)\n",
    "            epoch += 1\n",
    "    \n",
    "    def fit(self, x_train, y_train, batch_size, n_epochs, learning_rate=0.003, x_test=None, y_test=None, optimizer=None, decay_rate=0.985):\n",
    "        self.x_train, self.y_train, self.x_test, self.y_test = NN.convert_to_numpy_array(x_train, y_train, x_test, y_test)\n",
    "        self.learning_rate = learning_rate\n",
    "        self.n_epochs = n_epochs\n",
    "        self.batch_size = batch_size\n",
    "        self.n = self.y_train.shape[0]\n",
    "        self.indices = np.arange(self.n)\n",
    "        self.decay_rate = decay_rate\n",
    "\n",
    "        if optimizer == 'momentum':\n",
    "            self.fit_with_momentum() \n",
    "        if optimizer in ('RMSProp', 'rmsprop'):    \n",
    "            self.fit_with_RMSProp()   \n",
    "\n",
    "    def predict(self, input):\n",
    "        self.recent_calculations = []\n",
    "        self.recent_calculations.append(input)\n",
    "\n",
    "        x = self.layers[0].calculate(input)\n",
    "        self.recent_calculations.append(x)\n",
    "        x = self.layers[0].activate(x)\n",
    "        \n",
    "\n",
    "        for i in range(1, self.layers_num):\n",
    "            x = self.layers[i].calculate(x)\n",
    "            self.recent_calculations.append(x)\n",
    "            x = self.layers[i].activate(x)\n",
    "            assert ~np.isnan(x).any() \n",
    "\n",
    "        return x"
   ]
  },
  {
   "cell_type": "markdown",
   "id": "b7ae661f-9a84-4781-92f7-83443d8ebba9",
   "metadata": {},
   "source": [
    "# square-large"
   ]
  },
  {
   "cell_type": "code",
   "execution_count": 3,
   "id": "2ff7fe56-5280-4f50-9049-781106eef5ed",
   "metadata": {},
   "outputs": [],
   "source": [
    "sq = pd.read_csv('../data/regression/square-large-training.csv', index_col=0)\n",
    "sq_x_train = np.reshape(np.array(sq.x), (len(sq.x), 1))\n",
    "sq_y_train = np.reshape(np.array(sq.y), (len(sq.x), 1))\n",
    "\n",
    "\n",
    "sq_test = pd.read_csv('../data/regression/square-large-test.csv', index_col=0)\n",
    "sq_x_test = np.reshape(np.array(sq_test.x), (len(sq_test.x), 1))\n",
    "sq_y_test = np.reshape(np.array(sq_test.y), (len(sq_test.x), 1))"
   ]
  },
  {
   "cell_type": "code",
   "execution_count": 4,
   "id": "379424f0-0e3d-43f8-a976-75ef6ace2faf",
   "metadata": {},
   "outputs": [
    {
     "data": {
      "image/png": "[encoded data removed]",
      "text/plain": [
       "<Figure size 432x288 with 1 Axes>"
      ]
     },
     "metadata": {
      "needs_background": "light"
     },
     "output_type": "display_data"
    }
   ],
   "source": [
    "plt.scatter(sq_x_train, sq_y_train)\n",
    "plt.show()"
   ]
  },
  {
   "cell_type": "code",
   "execution_count": 5,
   "id": "43d94b98-7924-4807-b493-482b0227daf7",
   "metadata": {},
   "outputs": [],
   "source": [
    "import time"
   ]
  },
  {
   "cell_type": "markdown",
   "id": "deabb85a-d505-451e-b860-ef1827f7cefe",
   "metadata": {},
   "source": [
    "## Uczenie z momentem"
   ]
  },
  {
   "cell_type": "code",
   "execution_count": 6,
   "id": "d0c9af16-8433-48e3-bbfb-af28c206d805",
   "metadata": {
    "tags": []
   },
   "outputs": [
    {
     "name": "stdout",
     "output_type": "stream",
     "text": [
      "Epoch: 100/2000\n",
      "MSE: 433.8624465161479\n",
      "Epoch: 200/2000\n",
      "MSE: 322.53380865618385\n",
      "Epoch: 300/2000\n",
      "MSE: 269.7629187479045\n",
      "Epoch: 400/2000\n",
      "MSE: 235.51211356447186\n",
      "Epoch: 500/2000\n",
      "MSE: 212.92329843957413\n",
      "Epoch: 600/2000\n",
      "MSE: 196.2561549643437\n",
      "Epoch: 700/2000\n",
      "MSE: 184.03414333089452\n",
      "Epoch: 800/2000\n",
      "MSE: 175.88220823837352\n",
      "Epoch: 900/2000\n",
      "MSE: 168.6500900111295\n",
      "Epoch: 1000/2000\n",
      "MSE: 162.85333064889937\n",
      "Epoch: 1100/2000\n",
      "MSE: 158.49435861457815\n",
      "Epoch: 1200/2000\n",
      "MSE: 154.46966703071485\n",
      "Epoch: 1300/2000\n",
      "MSE: 151.0765192533068\n",
      "Epoch: 1400/2000\n",
      "MSE: 147.9960422090724\n",
      "Epoch: 1500/2000\n",
      "MSE: 145.5104216767864\n",
      "Epoch: 1600/2000\n",
      "MSE: 143.08362652903313\n",
      "Epoch: 1700/2000\n",
      "MSE: 140.93848489390314\n",
      "Epoch: 1800/2000\n",
      "MSE: 138.90683894447767\n",
      "Epoch: 1900/2000\n",
      "MSE: 137.14917781595324\n",
      "Epoch: 2000/2000\n",
      "MSE: 135.69199210747038\n"
     ]
    }
   ],
   "source": [
    "nn_sq = NN(input_shape=[len(sq_x_train), 1], neurons_num=[10, 5, 1], activations=['sigmoid', 'linear', 'linear'])\n",
    "start_time = time.time()\n",
    "nn_sq.fit(x_train=sq_x_train, y_train=sq_y_train, batch_size=64, n_epochs=2000, x_test=sq_x_test, y_test=sq_y_test, learning_rate=0.00001, optimizer='momentum')\n",
    "end_time = time.time()"
   ]
  },
  {
   "cell_type": "code",
   "execution_count": 7,
   "id": "927ca063-2e10-4c8d-be03-cf9da2fb0045",
   "metadata": {},
   "outputs": [
    {
     "data": {
      "image/png": "[encoded data removed]",
      "text/plain": [
       "<Figure size 432x288 with 1 Axes>"
      ]
     },
     "metadata": {
      "needs_background": "light"
     },
     "output_type": "display_data"
    }
   ],
   "source": [
    "plt.title('MSE error')\n",
    "plt.plot(range(1,len(nn_sq.mse)+1), nn_sq.mse)\n",
    "plt.xlabel('epoch nr')\n",
    "plt.ylabel('MSE')\n",
    "plt.show()"
   ]
  },
  {
   "cell_type": "markdown",
   "id": "423f6eec-f74a-48e0-b3bc-50725036d7d8",
   "metadata": {},
   "source": [
    "## Uczenie z gradientem"
   ]
  },
  {
   "cell_type": "code",
   "execution_count": 8,
   "id": "46fbeae0-dbda-4a1f-9327-66ba2c3a2738",
   "metadata": {},
   "outputs": [
    {
     "name": "stdout",
     "output_type": "stream",
     "text": [
      "Epoch: 100/2000\n",
      "MSE: 3304.0914289952107\n",
      "Epoch: 200/2000\n",
      "MSE: 705.3628320768604\n",
      "Epoch: 300/2000\n",
      "MSE: 546.2314174763236\n",
      "Epoch: 400/2000\n",
      "MSE: 459.1687206012486\n",
      "Epoch: 500/2000\n",
      "MSE: 409.5471584524934\n",
      "Epoch: 600/2000\n",
      "MSE: 320.2154403042791\n",
      "Epoch: 700/2000\n",
      "MSE: 373.4613234924084\n",
      "Epoch: 800/2000\n",
      "MSE: 284.70635714916205\n",
      "Epoch: 900/2000\n",
      "MSE: 283.5615272512546\n",
      "Epoch: 1000/2000\n",
      "MSE: 289.1422362260082\n",
      "Epoch: 1100/2000\n",
      "MSE: 301.0357903295662\n",
      "Epoch: 1200/2000\n",
      "MSE: 256.0746021908257\n",
      "Epoch: 1300/2000\n",
      "MSE: 268.0354478419484\n",
      "Epoch: 1400/2000\n",
      "MSE: 237.92696196151888\n",
      "Epoch: 1500/2000\n",
      "MSE: 221.6797235898568\n",
      "Epoch: 1600/2000\n",
      "MSE: 245.40984526557318\n",
      "Epoch: 1700/2000\n",
      "MSE: 210.99425025472993\n",
      "Epoch: 1800/2000\n",
      "MSE: 222.40172023140815\n",
      "Epoch: 1900/2000\n",
      "MSE: 206.1943101905226\n",
      "Epoch: 2000/2000\n",
      "MSE: 279.3485920554869\n"
     ]
    }
   ],
   "source": [
    "nn_sq2 = NN(input_shape=[len(sq_x_train), 1], neurons_num=[10, 5, 1], activations=['sigmoid', 'linear', 'linear'])\n",
    "start_time2 = time.time()\n",
    "nn_sq2.fit(x_train=sq_x_train, y_train=sq_y_train, batch_size=128, n_epochs=2000, x_test=sq_x_test, y_test=sq_y_test, learning_rate=0.01, optimizer='rmsprop')\n",
    "end_time2 = time.time()"
   ]
  },
  {
   "cell_type": "code",
   "execution_count": 9,
   "id": "fc3fbd9a-4cd4-4f4f-bc8a-50e9a5ec06be",
   "metadata": {},
   "outputs": [
    {
     "data": {
      "image/png": "[encoded data removed]",
      "text/plain": [
       "<Figure size 432x288 with 1 Axes>"
      ]
     },
     "metadata": {
      "needs_background": "light"
     },
     "output_type": "display_data"
    }
   ],
   "source": [
    "plt.title('MSE error')\n",
    "plt.plot(range(1,len(nn_sq2.mse)+1), nn_sq2.mse)\n",
    "plt.xlabel('epoch nr')\n",
    "plt.ylabel('MSE')\n",
    "plt.show()"
   ]
  },
  {
   "cell_type": "markdown",
   "id": "d471a30d-4ad5-43b5-97a9-f73f4c776612",
   "metadata": {},
   "source": [
    "## Porównanie metody momentu i normalizacji gradientu"
   ]
  },
  {
   "cell_type": "markdown",
   "id": "3ecf01c4-a7ff-424f-8d88-0072690f9a04",
   "metadata": {},
   "source": [
    "- MSE error"
   ]
  },
  {
   "cell_type": "code",
   "execution_count": 10,
   "id": "38084ccc-57bd-44ca-8074-756246566f1c",
   "metadata": {},
   "outputs": [
    {
     "data": {
      "image/png": "[encoded data removed]",
      "text/plain": [
       "<Figure size 432x288 with 1 Axes>"
      ]
     },
     "metadata": {
      "needs_background": "light"
     },
     "output_type": "display_data"
    }
   ],
   "source": [
    "plt.title('MSE error')\n",
    "plt.plot(range(1,len(nn_sq.mse)+1), nn_sq.mse)\n",
    "plt.plot(range(1,len(nn_sq2.mse)+1), nn_sq2.mse)\n",
    "plt.legend(['momentum', 'gradient'])\n",
    "plt.xlabel('epoch nr')\n",
    "plt.ylabel('MSE')\n",
    "plt.show()"
   ]
  },
  {
   "cell_type": "markdown",
   "id": "567d17bc-517a-4ee7-9ce9-4a34c8e7e1ca",
   "metadata": {},
   "source": [
    "Niskie wyniki błędu MSE osiąga wcześniej metoda momentu. U obu metod pojawia się pik w górę błędu MSE w początkowych fazach trenowania.\n"
   ]
  },
  {
   "cell_type": "markdown",
   "id": "b1a1e8ba-eb6c-4b6e-a3a8-53e45179332b",
   "metadata": {},
   "source": [
    "- time"
   ]
  },
  {
   "cell_type": "code",
   "execution_count": 11,
   "id": "4b3119b5-7ffd-4ea1-97f9-2f0b94ca5006",
   "metadata": {},
   "outputs": [
    {
     "name": "stdout",
     "output_type": "stream",
     "text": [
      "Momentum fitting time:  240.99221301078796\n",
      "Gradient fitting time:  211.8213996887207\n"
     ]
    }
   ],
   "source": [
    "print('Momentum fitting time: ', end_time-start_time)\n",
    "print('Gradient fitting time: ', end_time2-start_time2)"
   ]
  },
  {
   "cell_type": "markdown",
   "id": "92717379-79c3-4b6d-8fd3-2f153c915a43",
   "metadata": {},
   "source": [
    "Szybciej trenuje się metoda gradientu. Różnica jest jednak o tyle mała, że nie należy się tym wynikiem sugerować (we wcześniejszych eksperymentach wyniki były odwrotne)."
   ]
  },
  {
   "cell_type": "markdown",
   "id": "d567582f-4e18-4d7b-8c73-5b6a47d067ba",
   "metadata": {},
   "source": [
    "- y_pred"
   ]
  },
  {
   "cell_type": "code",
   "execution_count": 12,
   "id": "23a765ae-b1a0-430f-801e-d2726b511633",
   "metadata": {},
   "outputs": [
    {
     "data": {
      "image/png": "[encoded data removed]",
      "text/plain": [
       "<Figure size 1080x360 with 2 Axes>"
      ]
     },
     "metadata": {
      "needs_background": "light"
     },
     "output_type": "display_data"
    }
   ],
   "source": [
    "sq_y_pred = nn_sq.predict(sq_x_test)\n",
    "sq_y_pred2 = nn_sq2.predict(sq_x_test)\n",
    "\n",
    "plt.figure(figsize=(15,5))\n",
    "plt.subplot(1,2,1)\n",
    "plt.title('moment')\n",
    "plt.scatter(sq_x_test, sq_y_test)\n",
    "plt.scatter(sq_x_test, sq_y_pred, color='red')\n",
    "plt.legend(['test', 'pred'])\n",
    "plt.subplot(1,2,2)\n",
    "plt.title('gradient')\n",
    "plt.scatter(sq_x_test, sq_y_test)\n",
    "plt.scatter(sq_x_test, sq_y_pred2, color='red')\n",
    "plt.legend(['test', 'pred'])\n",
    "plt.show()"
   ]
  },
  {
   "cell_type": "markdown",
   "id": "ead80dec-9d1f-4a35-b566-9bcaf52a0865",
   "metadata": {},
   "source": [
    "Wykresy potwierdzają, że metoda momentu uzyskała dokładniejsze wyniki."
   ]
  },
  {
   "cell_type": "markdown",
   "id": "42adc5ce-901a-4f52-a900-a06a5668bb97",
   "metadata": {},
   "source": [
    "## Wpływ zmian parametrów w metodzie momentu"
   ]
  },
  {
   "cell_type": "markdown",
   "id": "930702f0-bbe3-4f35-9fe8-9f22d2319256",
   "metadata": {},
   "source": [
    "- learning rate"
   ]
  },
  {
   "cell_type": "code",
   "execution_count": 13,
   "id": "a25c48a0-3db8-482f-b211-963f56b155e7",
   "metadata": {},
   "outputs": [
    {
     "name": "stdout",
     "output_type": "stream",
     "text": [
      "Epoch: 100/400\n",
      "MSE: 433.8624465161479\n",
      "Epoch: 200/400\n",
      "MSE: 322.53380865618385\n",
      "Epoch: 300/400\n",
      "MSE: 269.7629187479045\n",
      "Epoch: 400/400\n",
      "MSE: 235.51211356447186\n"
     ]
    }
   ],
   "source": [
    "nn_sq = NN(input_shape=[len(sq_x_train), 1], neurons_num=[10, 5, 1], activations=['sigmoid', 'linear', 'linear'])\n",
    "nn_sq.fit(x_train=sq_x_train, y_train=sq_y_train, batch_size=64, n_epochs=400, x_test=sq_x_test, y_test=sq_y_test, learning_rate=0.00001, optimizer='momentum')"
   ]
  },
  {
   "cell_type": "code",
   "execution_count": 14,
   "id": "fb1fa5e3-3a79-4e36-895e-30a4ee79e2cf",
   "metadata": {},
   "outputs": [
    {
     "name": "stdout",
     "output_type": "stream",
     "text": [
      "Epoch: 100/400\n",
      "MSE: 960.568761424821\n",
      "Epoch: 200/400\n",
      "MSE: 1060.6231397513568\n",
      "Epoch: 300/400\n",
      "MSE: 1139.1207330939872\n",
      "Epoch: 400/400\n",
      "MSE: 838.4824346995962\n"
     ]
    }
   ],
   "source": [
    "nn_sq2 = NN(input_shape=[len(sq_x_train), 1], neurons_num=[10, 5, 1], activations=['sigmoid', 'linear', 'linear'])\n",
    "nn_sq2.fit(x_train=sq_x_train, y_train=sq_y_train, batch_size=64, n_epochs=400, x_test=sq_x_test, y_test=sq_y_test, learning_rate=0.001, optimizer='momentum')"
   ]
  },
  {
   "cell_type": "code",
   "execution_count": 15,
   "id": "147d3506-7d6a-41f4-878f-c9ffb538e951",
   "metadata": {},
   "outputs": [
    {
     "name": "stdout",
     "output_type": "stream",
     "text": [
      "Epoch: 100/400\n",
      "MSE: 10721.572892534115\n",
      "Epoch: 200/400\n",
      "MSE: 10627.257410473001\n",
      "Epoch: 300/400\n",
      "MSE: 10495.467067031817\n",
      "Epoch: 400/400\n",
      "MSE: 10485.8931976623\n"
     ]
    }
   ],
   "source": [
    "nn_sq3 = NN(input_shape=[len(sq_x_train), 1], neurons_num=[10, 5, 1], activations=['sigmoid', 'linear', 'linear'])\n",
    "nn_sq3.fit(x_train=sq_x_train, y_train=sq_y_train, batch_size=64, n_epochs=400, x_test=sq_x_test, y_test=sq_y_test, learning_rate=0.0000001, optimizer='momentum')"
   ]
  },
  {
   "cell_type": "code",
   "execution_count": 16,
   "id": "0e35f5a1-b41a-4046-a87e-1bb9aa774ee0",
   "metadata": {},
   "outputs": [
    {
     "data": {
      "image/png": "[encoded data removed]",
      "text/plain": [
       "<Figure size 432x288 with 1 Axes>"
      ]
     },
     "metadata": {
      "needs_background": "light"
     },
     "output_type": "display_data"
    }
   ],
   "source": [
    "plt.title('MSE error')\n",
    "plt.plot(range(1,len(nn_sq.mse)+1), nn_sq.mse)\n",
    "plt.plot(range(1,len(nn_sq2.mse)+1), nn_sq2.mse)\n",
    "plt.plot(range(1,len(nn_sq3.mse)+1), nn_sq3.mse)\n",
    "plt.legend(['0.00001', '0.001', '0.0000001'], title='learning rate')\n",
    "plt.xlabel('epoch nr')\n",
    "plt.ylabel('MSE')\n",
    "plt.show()"
   ]
  },
  {
   "cell_type": "markdown",
   "id": "0215e27f-ef7b-469c-adde-cf5e70fff815",
   "metadata": {},
   "source": [
    "Wpływ learning rate wydaje się być losowy. Najlepsze wyniki model uzyskuje dla wartości learning rate = 0.00001."
   ]
  },
  {
   "cell_type": "markdown",
   "id": "d4858aaf-5ac5-4ed0-b8ad-44d6d995a435",
   "metadata": {},
   "source": [
    "# steps-small"
   ]
  },
  {
   "cell_type": "code",
   "execution_count": 17,
   "id": "d276a0e4-c0cc-48ac-81ac-c77cafbca436",
   "metadata": {},
   "outputs": [],
   "source": [
    "sl = pd.read_csv('../data/regression/steps-large-training.csv', index_col=0)\n",
    "sl_x_train = np.reshape(np.array(sl.x), (len(sl.x), 1))\n",
    "sl_y_train = np.reshape(np.array(sl.y), (len(sl.x), 1))\n",
    "\n",
    "\n",
    "sl_test = pd.read_csv('../data/regression/steps-large-test.csv', index_col=0)\n",
    "sl_x_test = np.reshape(np.array(sl_test.x), (len(sl_test.x), 1))\n",
    "sl_y_test = np.reshape(np.array(sl_test.y), (len(sl_test.x), 1))"
   ]
  },
  {
   "cell_type": "code",
   "execution_count": 18,
   "id": "7c1a74e5-6bac-4e28-aa20-0c859c12261a",
   "metadata": {},
   "outputs": [
    {
     "data": {
      "image/png": "[encoded data removed]",
      "text/plain": [
       "<Figure size 432x288 with 1 Axes>"
      ]
     },
     "metadata": {
      "needs_background": "light"
     },
     "output_type": "display_data"
    }
   ],
   "source": [
    "plt.scatter(sl_x_train, sl_y_train)\n",
    "plt.show()"
   ]
  },
  {
   "cell_type": "code",
   "execution_count": 19,
   "id": "8113c676-a942-4ff8-9d3d-ac0a9cfb10c9",
   "metadata": {},
   "outputs": [
    {
     "name": "stdout",
     "output_type": "stream",
     "text": [
      "Epoch: 100/300\n",
      "MSE: 22.897673620774185\n",
      "Epoch: 200/300\n",
      "MSE: 28.670892098980758\n",
      "Epoch: 300/300\n",
      "MSE: 26.01043802686596\n"
     ]
    }
   ],
   "source": [
    "nn_sl = NN(input_shape=[len(sl_x_train), 1], neurons_num=[32, 32, 32, 32, 1], activations=['sigmoid','sigmoid','sigmoid','sigmoid','linear'], seed=5)\n",
    "nn_sl.fit(x_train=sl_x_train, y_train=sl_y_train, batch_size=128, n_epochs=300, x_test=sl_x_test, y_test=sl_y_test, learning_rate=0.00004, optimizer='momentum')"
   ]
  },
  {
   "cell_type": "code",
   "execution_count": 20,
   "id": "12b59bf8-8092-4ad0-b69d-f7b664da8318",
   "metadata": {},
   "outputs": [
    {
     "data": {
      "image/png": "[encoded data removed]",
      "text/plain": [
       "<Figure size 432x288 with 1 Axes>"
      ]
     },
     "metadata": {
      "needs_background": "light"
     },
     "output_type": "display_data"
    }
   ],
   "source": [
    "plt.title('MSE error')\n",
    "plt.plot(range(1,len(nn_sl.mse)+1), nn_sl.mse)\n",
    "plt.xlabel('epoch nr')\n",
    "plt.ylabel('MSE')\n",
    "plt.show()"
   ]
  },
  {
   "cell_type": "markdown",
   "id": "44d664eb-735a-4fc3-a865-2bfd40cbbb8d",
   "metadata": {},
   "source": [
    "# multimodal-large"
   ]
  },
  {
   "cell_type": "code",
   "execution_count": 21,
   "id": "e63e82a1-7f22-4e66-95a1-18d8a216bbd9",
   "metadata": {},
   "outputs": [],
   "source": [
    "ml = pd.read_csv('../data/regression/multimodal-large-training.csv')\n",
    "ml_x_train = np.reshape(np.array(ml.x), (len(ml.x), 1))\n",
    "ml_y_train = np.reshape(np.array(ml.y), (len(ml.x), 1))\n",
    "\n",
    "\n",
    "ml_test = pd.read_csv('../data/regression/multimodal-large-test.csv')\n",
    "ml_x_test = np.reshape(np.array(ml_test.x), (len(ml_test.x), 1))\n",
    "ml_y_test = np.reshape(np.array(ml_test.y), (len(ml_test.x), 1))"
   ]
  },
  {
   "cell_type": "code",
   "execution_count": 22,
   "id": "e505c5c6-e836-4370-9c41-567dadbe3e20",
   "metadata": {},
   "outputs": [
    {
     "data": {
      "image/png": "[encoded data removed]",
      "text/plain": [
       "<Figure size 432x288 with 1 Axes>"
      ]
     },
     "metadata": {
      "needs_background": "light"
     },
     "output_type": "display_data"
    }
   ],
   "source": [
    "plt.scatter(ml_x_train, ml_y_train)\n",
    "plt.show()"
   ]
  },
  {
   "cell_type": "code",
   "execution_count": 25,
   "id": "c7c73bb2-5d18-48cb-8f17-146fdf85b187",
   "metadata": {},
   "outputs": [
    {
     "name": "stdout",
     "output_type": "stream",
     "text": [
      "Epoch: 100/130\n",
      "MSE: 38.21783332506861\n"
     ]
    }
   ],
   "source": [
    "nn_ml = NN(input_shape=[len(ml_x_train), 1], neurons_num=[32, 32, 32, 32, 1], activations=['sigmoid', 'sigmoid','sigmoid','linear', 'linear'], seed=10)\n",
    "nn_ml.fit(x_train=ml_x_train, y_train=ml_y_train, batch_size=128, n_epochs=130, x_test=ml_x_test, y_test=ml_y_test, learning_rate=0.01, optimizer='rmsprop', decay_rate=0.9)"
   ]
  },
  {
   "cell_type": "code",
   "execution_count": 26,
   "id": "dead52b4-e9c9-4ce4-9be8-31383f4673d3",
   "metadata": {},
   "outputs": [
    {
     "data": {
      "image/png": "[encoded data removed]",
      "text/plain": [
       "<Figure size 432x288 with 1 Axes>"
      ]
     },
     "metadata": {
      "needs_background": "light"
     },
     "output_type": "display_data"
    }
   ],
   "source": [
    "plt.title('MSE error')\n",
    "plt.plot(range(1,len(nn_ml.mse)+1), nn_ml.mse)\n",
    "plt.xlabel('epoch nr')\n",
    "plt.ylabel('MSE')\n",
    "plt.show()"
   ]
  }
 ],
 "metadata": {
  "kernelspec": {
   "display_name": "koh_venv",
   "language": "python",
   "name": "koh_venv"
  },
  "language_info": {
   "codemirror_mode": {
    "name": "ipython",
    "version": 3
   },
   "file_extension": ".py",
   "mimetype": "text/x-python",
   "name": "python",
   "nbconvert_exporter": "python",
   "pygments_lexer": "ipython3",
   "version": "3.8.10"
  }
 },
 "nbformat": 4,
 "nbformat_minor": 5
}
