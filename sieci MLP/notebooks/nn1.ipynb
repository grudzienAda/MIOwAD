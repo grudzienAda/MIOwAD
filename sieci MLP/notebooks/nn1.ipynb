{
 "cells": [
  {
   "cell_type": "markdown",
   "metadata": {},
   "source": [
    "# NN1: Bazowa implementacja\n",
    "Adrianna Grudzień"
   ]
  },
  {
   "cell_type": "code",
   "execution_count": 1,
   "metadata": {},
   "outputs": [],
   "source": [
    "import numpy as np\n",
    "import pandas as pd\n",
    "import matplotlib.pyplot as plt\n",
    "from sklearn import metrics"
   ]
  },
  {
   "cell_type": "markdown",
   "metadata": {},
   "source": [
    "### Wczytanie danych"
   ]
  },
  {
   "cell_type": "code",
   "execution_count": 2,
   "metadata": {},
   "outputs": [],
   "source": [
    "square_simple_train = pd.read_csv(\"mio1/regression/square-simple-training.csv\", index_col=0)\n",
    "square_simple_test = pd.read_csv(\"mio1/regression/square-simple-test.csv\", index_col=0)\n",
    "steps_small_train = pd.read_csv(\"mio1/regression/steps-large-training.csv\", index_col=0)\n",
    "steps_small_test = pd.read_csv(\"mio1/regression/steps-large-test.csv\", index_col=0)"
   ]
  },
  {
   "cell_type": "markdown",
   "metadata": {},
   "source": [
    "### Funkcja aktywacji"
   ]
  },
  {
   "cell_type": "code",
   "execution_count": 3,
   "metadata": {},
   "outputs": [],
   "source": [
    "def sigmoid(x):\n",
    "    return 1 / (1 + np.exp(-x))"
   ]
  },
  {
   "cell_type": "markdown",
   "metadata": {},
   "source": [
    "### Definicja sieci MLP"
   ]
  },
  {
   "cell_type": "code",
   "execution_count": 4,
   "metadata": {},
   "outputs": [],
   "source": [
    "class MLP:\n",
    "    def __init__(self, weights_array, bias_array, input_size=1, output_size=1, activation_fun=sigmoid):\n",
    "        self.weights_array = weights_array\n",
    "        self.bias_array = bias_array\n",
    "        self.activation_fun = activation_fun\n",
    "        self.layers_size = [len(bias_array[0]), len(bias_array[1])]\n",
    "        self.n_layers = len(self.weights_array)-1\n",
    "        \n",
    "    def forward1(self, x):\n",
    "        out = self.activation_fun(np.dot(np.transpose(np.matrix(x)), np.matrix(self.weights_array[0])) + self.bias_array[0])\n",
    "\n",
    "        #warstwy:\n",
    "        for i in range(1,self.n_layers):\n",
    "            weights = self.weights_array[i]\n",
    "            biases = self.bias_array[i]\n",
    "            out = self.activation_fun(np.dot(out, np.transpose(weights)) + biases)\n",
    "\n",
    "        out = (np.dot(out, np.transpose(np.matrix(self.weights_array[self.n_layers]))) +\n",
    "                             self.bias_array[self.n_layers])\n",
    "        return out\n",
    "    \n",
    "    def forward2(self, x):\n",
    "        out = self.activation_fun(np.c_[np.ones(x.shape[0]), x] @ \n",
    "                                            np.append(self.weights_array[0], self.bias_array[0]).reshape(2,self.layers_size[0]))\n",
    "        \n",
    "        for i in range(1, self.n_layers):    \n",
    "            out = self.activation_fun(\n",
    "                    np.c_[np.ones(out.shape[0]), out] @ np.append(self.weights_array[i], self.bias_array[i]).reshape(self.layers_size[0]+1, self.layers_size[1]))\n",
    "             print(out.shape)\n",
    "        out = np.c_[np.ones(out.shape[0]), out] @ np.append(self.weights_array[self.n_layers], self.bias_array[self.n_layers])\n",
    "        return out"
   ]
  },
  {
   "cell_type": "markdown",
   "metadata": {},
   "source": [
    "## Zbiór `square-simple`"
   ]
  },
  {
   "cell_type": "code",
   "execution_count": 5,
   "metadata": {},
   "outputs": [
    {
     "data": {
      "image/png": "[encoded data removed]",
      "text/plain": [
       "<Figure size 432x288 with 1 Axes>"
      ]
     },
     "metadata": {
      "needs_background": "light"
     },
     "output_type": "display_data"
    }
   ],
   "source": [
    "x = square_simple_train['x']\n",
    "y = square_simple_train['y']\n",
    "\n",
    "plt.scatter(x,y)\n",
    "plt.show()"
   ]
  },
  {
   "cell_type": "markdown",
   "metadata": {},
   "source": [
    "### jedna warstwa ukryta, 5 neuronów"
   ]
  },
  {
   "cell_type": "code",
   "execution_count": 36,
   "metadata": {},
   "outputs": [
    {
     "name": "stdout",
     "output_type": "stream",
     "text": [
      "76.69070524430248\n"
     ]
    },
    {
     "data": {
      "image/png": "[encoded data removed]",
      "text/plain": [
       "<Figure size 432x288 with 1 Axes>"
      ]
     },
     "metadata": {
      "needs_background": "light"
     },
     "output_type": "display_data"
    }
   ],
   "source": [
    "mlp = MLP(\n",
    "    weights_array = [\n",
    "        np.array([ 60,  1000,  0, -2, -2]),\n",
    "        np.array([ -100, -1, 10, 10, 9])\n",
    "    ],\n",
    "    bias_array = [\n",
    "        np.array([100, -90, -200, -100, 1.4]),\n",
    "        np.array([10])\n",
    "    ]\n",
    ")\n",
    "\n",
    "y_pred = mlp.forward2(x)\n",
    "print(metrics.mean_absolute_error(y_pred, y))\n",
    "\n",
    "plt.scatter(x,y, color='blue')\n",
    "plt.scatter(x,np.array(y_pred.flatten()), color='red')\n",
    "plt.show()"
   ]
  },
  {
   "cell_type": "markdown",
   "metadata": {},
   "source": [
    "### jedna warstwa ukryta, 10 neuronów,"
   ]
  },
  {
   "cell_type": "code",
   "execution_count": 186,
   "metadata": {},
   "outputs": [
    {
     "name": "stdout",
     "output_type": "stream",
     "text": [
      "MSE:  51.77550625212288\n"
     ]
    },
    {
     "name": "stderr",
     "output_type": "stream",
     "text": [
      "<ipython-input-3-b683d5dd8fa4>:2: RuntimeWarning: overflow encountered in exp\n",
      "  return 1 / (1 + np.exp(-x))\n"
     ]
    },
    {
     "data": {
      "image/png": "[encoded data removed]",
      "text/plain": [
       "<Figure size 432x288 with 1 Axes>"
      ]
     },
     "metadata": {
      "needs_background": "light"
     },
     "output_type": "display_data"
    }
   ],
   "source": [
    "mlp = MLP(\n",
    "    weights_array = [\n",
    "        np.array([1, -1.700000001, -0.000001, -1, -1, -7.9, -20.8, -5, -5, -247]),\n",
    "        np.array([22, -250, -127, -92, 150, -5.5, -100,10 ,40.56, 100])\n",
    "    ],\n",
    "    bias_array = [\n",
    "        np.array([-2,-1,40,-8,1,-0.9,70,-100,485,-12]),\n",
    "        np.array([250])\n",
    "    ]\n",
    ")\n",
    "\n",
    "y_pred = mlp.forward2(x)\n",
    "print('MSE: ', metrics.mean_absolute_error(y_pred, y))\n",
    "\n",
    "plt.scatter(x,y, color='blue')\n",
    "plt.scatter(x,np.array(y_pred.flatten()), color='red')\n",
    "plt.show()"
   ]
  },
  {
   "cell_type": "markdown",
   "metadata": {},
   "source": [
    "### dwie warstwy ukryte, po 5 neuronów każda."
   ]
  },
  {
   "cell_type": "code",
   "execution_count": 596,
   "metadata": {},
   "outputs": [
    {
     "name": "stdout",
     "output_type": "stream",
     "text": [
      "MSE:  35.27852802996989\n"
     ]
    },
    {
     "data": {
      "image/png": "[encoded data removed]",
      "text/plain": [
       "<Figure size 432x288 with 1 Axes>"
      ]
     },
     "metadata": {
      "needs_background": "light"
     },
     "output_type": "display_data"
    }
   ],
   "source": [
    "mlp = MLP(\n",
    "    weights_array = [np.array([60 , -6, 2 , -13, -2]), \n",
    "               np.array([[ 22 , -43, 1 , -5 , 24], \n",
    "                         [ -12 , -2, 9 , 8 , 3],\n",
    "                         [ -15 , -3, -5 , -20 , -5], \n",
    "                         [ 19 , -6, 11 , 14 , -6],\n",
    "                         [ -4, 10 , -10, -59, 23 ]]),\n",
    "               np.array([ -35 , -121 ,  39,  -35, -120])], \n",
    "    bias_array = [np.array([-12 , 8.8, 2.455, 7, -2.65]),\n",
    "            np.array([-14.37975, -7, -13, -17, -12]),\n",
    "           np.array([200])]\n",
    ")\n",
    "\n",
    "y_pred = mlp.forward2(x)\n",
    "print('MSE: ', metrics.mean_absolute_error(y_pred, y))\n",
    "\n",
    "plt.scatter(x,y, color='blue')\n",
    "plt.scatter(x,np.array(y_pred.flatten()), color='red')\n",
    "plt.show()"
   ]
  },
  {
   "cell_type": "markdown",
   "metadata": {},
   "source": [
    "## Zbiór `steps-large`"
   ]
  },
  {
   "cell_type": "code",
   "execution_count": 597,
   "metadata": {},
   "outputs": [
    {
     "data": {
      "image/png": "[encoded data removed]",
      "text/plain": [
       "<Figure size 432x288 with 1 Axes>"
      ]
     },
     "metadata": {
      "needs_background": "light"
     },
     "output_type": "display_data"
    }
   ],
   "source": [
    "x = steps_small_train['x']\n",
    "y = steps_small_train['y']\n",
    "\n",
    "plt.scatter(x,y)\n",
    "plt.show()"
   ]
  },
  {
   "cell_type": "markdown",
   "metadata": {},
   "source": [
    "### jedna warstwa ukryta, 5 neuronów"
   ]
  },
  {
   "cell_type": "code",
   "execution_count": 755,
   "metadata": {},
   "outputs": [
    {
     "name": "stdout",
     "output_type": "stream",
     "text": [
      "30.342047910624952\n"
     ]
    },
    {
     "data": {
      "image/png": "[encoded data removed]",
      "text/plain": [
       "<Figure size 432x288 with 1 Axes>"
      ]
     },
     "metadata": {
      "needs_background": "light"
     },
     "output_type": "display_data"
    }
   ],
   "source": [
    "mlp = MLP(\n",
    "    weights_array = [\n",
    "        np.array([ -7, 200, 120, -150, 50]),\n",
    "        np.array([ -14, 1, -16, 10, 89])\n",
    "    ],\n",
    "    bias_array = [\n",
    "        np.array([43, 8, 32, 302, 99.99]),\n",
    "        np.array([19])\n",
    "    ]\n",
    ")\n",
    "\n",
    "y_pred = mlp.forward2(x)\n",
    "print(metrics.mean_absolute_error(y_pred, y))\n",
    "\n",
    "plt.scatter(x,y, color='blue')\n",
    "plt.scatter(x,np.array(y_pred.flatten()), color='red')\n",
    "plt.show()"
   ]
  },
  {
   "cell_type": "markdown",
   "metadata": {},
   "source": [
    "### jedna warstwa ukryta, 10 neuronów"
   ]
  },
  {
   "cell_type": "code",
   "execution_count": 1083,
   "metadata": {},
   "outputs": [
    {
     "name": "stdout",
     "output_type": "stream",
     "text": [
      "MSE:  19.782168175175123\n"
     ]
    },
    {
     "data": {
      "image/png": "[encoded data removed]",
      "text/plain": [
       "<Figure size 432x288 with 1 Axes>"
      ]
     },
     "metadata": {
      "needs_background": "light"
     },
     "output_type": "display_data"
    }
   ],
   "source": [
    "mlp = MLP(\n",
    "    weights_array = [\n",
    "        np.array([-16, -3, 13, -1, -14., -6, -15, -12, 18, -1.99]),\n",
    "        np.array([-65, -25, 7, -100, 159, -2, -102,19 ,4, 88])\n",
    "    ],\n",
    "    bias_array = [\n",
    "        np.array([-3,8,10,1,-1,-3,31,-4,16,0.7]),\n",
    "        np.array([273])\n",
    "    ]\n",
    ")\n",
    "\n",
    "y_pred = mlp.forward2(x)\n",
    "print('MSE: ', metrics.mean_absolute_error(y_pred, y))\n",
    "\n",
    "plt.scatter(x,y, color='blue')\n",
    "plt.scatter(x,np.array(y_pred.flatten()), color='red')\n",
    "plt.show()"
   ]
  },
  {
   "cell_type": "markdown",
   "metadata": {},
   "source": [
    "### dwie warstwy ukryte, po 5 neuronów każda"
   ]
  },
  {
   "cell_type": "code",
   "execution_count": 1428,
   "metadata": {},
   "outputs": [
    {
     "name": "stdout",
     "output_type": "stream",
     "text": [
      "MSE:  24.39197801757608\n"
     ]
    },
    {
     "data": {
      "image/png": "[encoded data removed]",
      "text/plain": [
       "<Figure size 432x288 with 1 Axes>"
      ]
     },
     "metadata": {
      "needs_background": "light"
     },
     "output_type": "display_data"
    }
   ],
   "source": [
    "mlp = MLP(\n",
    "    weights_array = [np.array([7 , -2, 11 , -54, 1]), \n",
    "               np.array([[ 2 , -20, 3, 6 , 2.9], \n",
    "                         [ 27 , 1, -80 , 30 , 6 ],\n",
    "                         [ -30 , -6, 35 , -7 , -6], \n",
    "                         [ -1. , -4, 1 , -20 , 5.2],\n",
    "                         [ -2, -5 , -5, -4, 7 ]]),\n",
    "               np.array([ -77 , -130 ,  35,  -37, -12 ])], \n",
    "    bias_array = [np.array([-107, 1.2, -2, -6, -4.001]),\n",
    "            np.array([-14, 1, -16, -6, -13]),\n",
    "           np.array([194.9])]\n",
    ")\n",
    "\n",
    "y_pred = mlp.forward2(x)\n",
    "print('MSE: ', metrics.mean_absolute_error(y_pred, y))\n",
    "\n",
    "plt.scatter(x,y, color='blue')\n",
    "plt.scatter(x,np.array(y_pred.flatten()), color='red')\n",
    "plt.show()"
   ]
  }
 ],
 "metadata": {
  "kernelspec": {
   "display_name": "Python 3 (ipykernel)",
   "language": "python",
   "name": "python3"
  },
  "language_info": {
   "codemirror_mode": {
    "name": "ipython",
    "version": 3
   },
   "file_extension": ".py",
   "mimetype": "text/x-python",
   "name": "python",
   "nbconvert_exporter": "python",
   "pygments_lexer": "ipython3",
   "version": "3.8.10"
  }
 },
 "nbformat": 4,
 "nbformat_minor": 4
}
