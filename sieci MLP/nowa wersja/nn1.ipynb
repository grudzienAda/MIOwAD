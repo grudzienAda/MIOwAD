{
 "cells": [
  {
   "cell_type": "markdown",
   "metadata": {},
   "source": [
    "# NN1: Bazowa implementacja\n",
    "Adrianna Grudzień"
   ]
  },
  {
   "cell_type": "markdown",
   "metadata": {},
   "source": [
    "### Import"
   ]
  },
  {
   "cell_type": "code",
   "execution_count": 1,
   "metadata": {},
   "outputs": [],
   "source": [
    "import numpy as np\n",
    "import pandas as pd\n",
    "import matplotlib.pyplot as plt\n",
    "from sklearn import metrics"
   ]
  },
  {
   "cell_type": "markdown",
   "metadata": {},
   "source": [
    "### Wczytanie danych"
   ]
  },
  {
   "cell_type": "code",
   "execution_count": 33,
   "metadata": {},
   "outputs": [],
   "source": [
    "sq_train = pd.read_csv(\"../mio1/regression/square-simple-training.csv\", index_col=0)\n",
    "sq_test = pd.read_csv(\"../mio1/regression/square-simple-test.csv\", index_col=0)\n",
    "x = np.transpose(np.matrix(sq_train['x']))\n",
    "y = sq_test['y']"
   ]
  },
  {
   "cell_type": "markdown",
   "metadata": {},
   "source": [
    "### Funkcja aktywacji"
   ]
  },
  {
   "cell_type": "code",
   "execution_count": 3,
   "metadata": {},
   "outputs": [],
   "source": [
    "def sigmoid(x):\n",
    "    return 1 / (1 + np.exp(-x))"
   ]
  },
  {
   "cell_type": "markdown",
   "metadata": {},
   "source": [
    "### Definicja sieci MLP\n",
    "\n",
    "<!-- 1. Klasa `Layer`:\n",
    "- **layer_size** array[int] liczba neuronów w danej warstwie\n",
    "- **activ_fun** funkcja aktywacji\n",
    "- **weights** array[double] wagi\n",
    "- **biases** array[double] biasy\n",
    "2. Klasa `Network`:\n",
    "- **layers_sizes** array[int] liczba neuronów w poszczególnych warstwach (Layer)\n",
    "- **activ_fun** funkcja aktywacji -->\n",
    "\n",
    "Klasa `Network`:\n",
    "- **input_layer_size** [int,int] rozmiar danych wejściowych\n",
    "- **layer_sizes** array[int] liczba neuronów w poszczególnych warstwach (warstwy ukryte i warstwa wyjściowa)\n",
    "- **activ_fun** funkcja aktywacji"
   ]
  },
  {
   "cell_type": "code",
   "execution_count": 71,
   "metadata": {},
   "outputs": [],
   "source": [
    "class Network:\n",
    "    def __init__(self, input_layer_size=[100,1], layers_sizes=[3,1], activ_fun=sigmoid):\n",
    "        self.input_layer_size = input_layer_size\n",
    "        self.layers_sizes = layers_sizes # wszystkie warstwy poza pierwszą\n",
    "        self.activ_fun = activ_fun\n",
    "        self._initialize_weights_and_biases()\n",
    "        \n",
    "    def _initialize_weights_and_biases(self, min_val=-0.5, max_val=0.5):\n",
    "        self.weights = [np.random.uniform(min_val, max_val, \n",
    "                                          size=[self.input_layer_size[1], self.layers_sizes[0]])]\n",
    "        self.biases = []   \n",
    "        for i in range(len(self.layers_sizes)-1):\n",
    "            self.weights.append(np.random.uniform(min_val, max_val, \n",
    "                                                  size=[self.layers_sizes[i], self.layers_sizes[i+1]]))\n",
    "            self.biases.append(np.random.uniform(min_val, max_val, size=self.layers_sizes[i]))\n",
    "        self.biases.append(np.random.uniform(min_val, max_val, \n",
    "                                             size=self.layers_sizes[len(self.layers_sizes)-1]))\n",
    "        \n",
    "    def forward(self, x):\n",
    "        out = x\n",
    "        for i in range(len(self.weights)):\n",
    "            out = self.activ_fun(out @ self.weights[i] + self.biases[i])\n",
    "        return out"
   ]
  },
  {
   "cell_type": "code",
   "execution_count": 72,
   "metadata": {},
   "outputs": [],
   "source": [
    "net = Network(layers_sizes=[3,2,1])\n",
    "y_pred = net.forward(x)"
   ]
  }
 ],
 "metadata": {
  "kernelspec": {
   "display_name": "Python 3",
   "language": "python",
   "name": "python3"
  },
  "language_info": {
   "codemirror_mode": {
    "name": "ipython",
    "version": 3
   },
   "file_extension": ".py",
   "mimetype": "text/x-python",
   "name": "python",
   "nbconvert_exporter": "python",
   "pygments_lexer": "ipython3",
   "version": "3.8.8"
  }
 },
 "nbformat": 4,
 "nbformat_minor": 4
}
