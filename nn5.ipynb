{
 "cells": [
  {
   "cell_type": "markdown",
   "metadata": {},
   "source": [
    "# NN5: Testowanie różnych funkcji aktywacji\n",
    "Adrianna Grudzień"
   ]
  },
  {
   "cell_type": "code",
   "execution_count": 1,
   "metadata": {},
   "outputs": [],
   "source": [
    "import numpy as np\n",
    "import pandas as pd\n",
    "import matplotlib.pyplot as plt\n",
    "import math\n",
    "import random"
   ]
  },
  {
   "cell_type": "code",
   "execution_count": 51,
   "metadata": {},
   "outputs": [],
   "source": [
    "class Layer:\n",
    "    def __init__(self, shape, activation='sigmoid'):\n",
    "        self.shape = shape\n",
    "        self.activation = activation\n",
    "        self._initialize_weights()\n",
    "\n",
    "    def _initialize_weights(self, min_val=-0.5, max_val=0.5):\n",
    "        self.weights = np.random.uniform(min_val, max_val, size=self.shape)\n",
    "        self.biases = np.random.uniform(min_val, max_val, size=self.shape[1])\n",
    "\n",
    "    def calculate(self, x):\n",
    "        return np.matmul(x, self.weights) + self.biases\n",
    "\n",
    "    def activate(self, x):\n",
    "        if self.activation == 'sigmoid':\n",
    "            return Layer.sigmoid(x)\n",
    "        if self.activation == 'tanh':\n",
    "            return Layer.tanh(x)\n",
    "        if self.activation == 'ReLU':\n",
    "            return Layer.ReLU(x)\n",
    "        if self.activation == 'linear':\n",
    "            return x\n",
    "\n",
    "    def update(self, delta_weights, delta_biases):\n",
    "        self.weights += np.array(np.reshape(delta_weights, self.shape))\n",
    "        self.biases += np.array(np.reshape(delta_biases, self.shape[1]))\n",
    "\n",
    "    @staticmethod\n",
    "    def sigmoid(x):\n",
    "        return 1 / (1 + np.exp(-x))\n",
    "    @staticmethod\n",
    "    def tanh(x):\n",
    "        return (np.exp(x)-np.exp(-x)) / (np.exp(x)+np.exp(-x))\n",
    "    @staticmethod\n",
    "    def ReLU(x):\n",
    "        out = np.where(x>0, x, 0)\n",
    "#         out = np.zeros(shape=len(x))\n",
    "#         for i in range(len(x)):\n",
    "#             if x[i] > 0:\n",
    "#                 out[i] = x[i]\n",
    "        return out\n",
    "\n",
    "class NN:\n",
    "    def __init__(self, input_shape, output_size, layers_num=1, neurons_num=[5], activations=['linear']):\n",
    "        self.input_shape = input_shape\n",
    "        # self.output_size = output_size\n",
    "        self.layers_num = layers_num\n",
    "        self.neurons_num = neurons_num\n",
    "        self.activations = activations\n",
    "        self._build()\n",
    "\n",
    "    def visualise_weights(self):\n",
    "        for i in range(self.layers_num):\n",
    "            plt.subplot(self.layers_num, 1, i+1)\n",
    "            plt.scatter(np.arange(self.neurons_num[i]), self.layers[i].weights)\n",
    "            \n",
    "        plt.show()\n",
    "\n",
    "    @staticmethod\n",
    "    def sigmoid_derivative(x):\n",
    "        return np.exp(-x) / np.square((1 + np.exp(-x)))\n",
    "    @staticmethod\n",
    "    def tanh_derivative(x):\n",
    "        return 4*np.exp(2*x) / np.square((np.exp(2*x)+1))\n",
    "    @staticmethod\n",
    "    def ReLU_derivative(x):\n",
    "        out = np.where(x<=0, 0, 1)\n",
    "#         out = np.ones(x.shape)\n",
    "#         for i in range(len(x)):\n",
    "#             if i<=0:\n",
    "#                 out[i] = 0\n",
    "        return out\n",
    "\n",
    "    @staticmethod\n",
    "    def mse(y_true, y_pred):\n",
    "         return np.mean(np.square(y_true - y_pred))\n",
    "\n",
    "    def calculate_errors(self, y_true, y_pred):\n",
    "        errors = []\n",
    "        for i in range(self.layers_num - 1, -1, -1):\n",
    "            layer = self.layers[i]\n",
    "            if layer.activation == 'linear':\n",
    "                derivative = np.ones(shape=(layer.shape[-1], 1))\n",
    "            if layer.activation == 'sigmoid':\n",
    "                derivative = NN.sigmoid_derivative(self.recent_calculations[i + 1].reshape(layer.shape[-1], 1))\n",
    "            if layer.activation == 'tanh':\n",
    "                derivative = NN.tanh_derivative(self.recent_calculations[i + 1].reshape(layer.shape[-1], 1))\n",
    "            if layer.activation == 'ReLU':\n",
    "                derivative = NN.ReLU_derivative(self.recent_calculations[i + 1].reshape(layer.shape[-1], 1))\n",
    "            if i == self.layers_num - 1:\n",
    "                errors.append(np.multiply((y_pred - y_true), derivative))\n",
    "            else:\n",
    "                errors.append(np.multiply(derivative, np.dot(self.layers[i + 1].weights, errors[-1])))\n",
    "        errors.reverse()\n",
    "        return errors\n",
    "        \n",
    "    def backpropagate(self, y_pred, y_true, x):\n",
    "        delta_weights = []\n",
    "        delta_biases = []\n",
    "        \n",
    "        errors = self.calculate_errors(y_true, y_pred) \n",
    "        for i in range(self.layers_num - 1, 0, -1):     \n",
    "            a = self.layers[i - 1].activate(self.recent_calculations[i].reshape(self.layers[i - 1].shape[-1], 1))       \n",
    "            delta_weights.insert(0, -self.learning_rate * np.outer(a, errors[i]) / self.batch_size)\n",
    "            # print(f'Deltas: {delta_weights[0]}')\n",
    "            delta_biases.insert(0, -self.learning_rate * errors[i] / self.batch_size)\n",
    "        delta_weights.insert(0, -self.learning_rate * np.outer(x, errors[0]) / self.batch_size)\n",
    "        # print(f'Deltas: {delta_weights[0]}')\n",
    "        delta_biases.insert(0, -self.learning_rate * errors[0] / self.batch_size)\n",
    "        \n",
    "        return delta_weights, delta_biases\n",
    "        \n",
    "    def sum_deltas(self, delta_weights, delta_biases):\n",
    "        for i in range(self.layers_num):\n",
    "            self.delta_weights[i] += np.array(delta_weights[i])\n",
    "            self.delta_biases[i] += np.array(delta_biases[i])\n",
    "\n",
    "    def _build(self):\n",
    "        self.layers = []\n",
    "\n",
    "        layer = Layer(shape=(self.input_shape[1], self.neurons_num[0]), activation=self.activations[0])\n",
    "        self.layers.append(layer)\n",
    "\n",
    "        for i in range(1, self.layers_num):\n",
    "            layer = Layer(shape=(self.layers[i - 1].shape[1], self.neurons_num[i]), activation=self.activations[i])\n",
    "            self.layers.append(layer)\n",
    "\n",
    "        # layer = Layer(shape=(self.layers[-1].shape[1], self.output_size), activation=self.activations[-1])\n",
    "        # self.layers.append(layer)\n",
    "\n",
    "    @staticmethod\n",
    "    def convert_to_numpy_array(x_train, y_train, x_test, y_test):\n",
    "        if x_test is None or y_test is None:\n",
    "            return np.array(x_train), np.array(y_train), None, None\n",
    "        else:\n",
    "            return np.array(x_train), np.array(y_train), np.array(x_test), np.array(y_test)\n",
    "\n",
    "    def update_layers(self):\n",
    "        # print(self.delta_weights)\n",
    "        for i in range(self.layers_num):  \n",
    "            self.layers[i].update(self.delta_weights[i], self.delta_biases[i])\n",
    "\n",
    "    def print_results(self, epoch):\n",
    "        print(f'Epoch number {epoch}/{self.n_epochs}')\n",
    "        print(f'MSE on training set: {NN.mse(self.y_train, self.predict(self.x_train))}', end=' ')\n",
    "        if self.x_test is not None:\n",
    "            print(f'     , MSE on test set: {NN.mse(self.y_test, self.predict(self.x_test))}')\n",
    "\n",
    "    def fit(self, x_train, y_train, batch_size, n_epochs, learning_rate=0.003, x_test=None, y_test=None):\n",
    "        self.x_train, self.y_train, self.x_test, self.y_test = NN.convert_to_numpy_array(x_train, y_train, x_test, y_test)\n",
    "        self.learning_rate = learning_rate\n",
    "        self.n_epochs = n_epochs\n",
    "        self.batch_size = batch_size\n",
    "        self.mse_array = []\n",
    "\n",
    "        n = y_train.shape[0]\n",
    "        indices = np.arange(n)\n",
    "        epoch = 1\n",
    "        while(epoch <= self.n_epochs):\n",
    "            np.random.shuffle(indices)\n",
    "            mini_batches = np.split(indices, [i * batch_size for i in range(1, n // batch_size)])\n",
    "            for batch in mini_batches:      \n",
    "                for j in range(batch_size):\n",
    "                    y_pred = self.predict(self.x_train[batch[j]])\n",
    "                    if j == 0:\n",
    "                        self.delta_weights, self.delta_biases = self.backpropagate(y_pred, self.y_train[batch[j]], self.x_train[batch[j]])\n",
    "                    else:   \n",
    "                        temp_delta_weights, temp_delta_biases = self.backpropagate(y_pred, self.y_train[batch[j]], self.x_train[batch[j]])\n",
    "                        self.sum_deltas(temp_delta_weights, temp_delta_biases)\n",
    "                        \n",
    "                self.update_layers()\n",
    "            \n",
    "#             if epoch % 500 == 0:\n",
    "#                  self.print_results(epoch)\n",
    "                    \n",
    "            self.mse_array.append(NN.mse(self.y_train,self.predict(self.x_train)))\n",
    "            epoch += 1\n",
    "\n",
    "    def predict(self, input):\n",
    "        self.recent_calculations = []\n",
    "        self.recent_calculations.append(input)\n",
    "\n",
    "        x = self.layers[0].calculate(input)\n",
    "        self.recent_calculations.append(x)\n",
    "        x = self.layers[0].activate(x)\n",
    "        \n",
    "\n",
    "        for i in range(1, self.layers_num):\n",
    "            x = self.layers[i].calculate(x)\n",
    "            self.recent_calculations.append(x)\n",
    "            x = self.layers[i].activate(x)\n",
    "            assert ~np.isnan(x).any() \n",
    "\n",
    "        return x"
   ]
  },
  {
   "cell_type": "markdown",
   "metadata": {},
   "source": [
    "## Zbiór `steps_large`"
   ]
  },
  {
   "cell_type": "code",
   "execution_count": 67,
   "metadata": {},
   "outputs": [],
   "source": [
    "ss_train = pd.read_csv('./mio1/regression/steps-large-training.csv', index_col=0)\n",
    "ss_x_train = np.reshape(np.array(ss_train.x), (len(ss_train.x), 1))\n",
    "ss_y_train = np.reshape(np.array(ss_train.y), (len(ss_train.x), 1))\n",
    "\n",
    "\n",
    "ss_test = pd.read_csv('./mio1/regression/steps-large-test.csv', index_col=0)\n",
    "ss_x_test = np.reshape(np.array(ss_test.x), (len(ss_test.x), 1))\n",
    "ss_y_test = np.reshape(np.array(ss_test.y), (len(ss_test.x), 1))"
   ]
  },
  {
   "cell_type": "code",
   "execution_count": 77,
   "metadata": {},
   "outputs": [],
   "source": [
    "n_epochs = 200"
   ]
  },
  {
   "cell_type": "code",
   "execution_count": 78,
   "metadata": {},
   "outputs": [],
   "source": [
    "nn_ss_sigmoid = NN(input_shape=[len(ss_x_train), 1], output_size=1, layers_num=2, neurons_num=[100, 1], activations=['sigmoid', 'linear'])\n",
    "nn_ss_sigmoid.fit(x_train=ss_x_train, y_train=ss_y_train, batch_size=2, n_epochs=n_epochs, x_test=ss_x_test, y_test=ss_y_test, learning_rate=0.0003)"
   ]
  },
  {
   "cell_type": "code",
   "execution_count": 79,
   "metadata": {},
   "outputs": [],
   "source": [
    "nn_ss_linear = NN(input_shape=[len(ss_x_train), 1], output_size=1, layers_num=2, neurons_num=[100, 1], activations=['linear', 'linear'])\n",
    "nn_ss_linear.fit(x_train=ss_x_train, y_train=ss_y_train, batch_size=2, n_epochs=n_epochs, x_test=ss_x_test, y_test=ss_y_test, learning_rate=0.0003)"
   ]
  },
  {
   "cell_type": "code",
   "execution_count": 80,
   "metadata": {},
   "outputs": [],
   "source": [
    "nn_ss_tanh = NN(input_shape=[len(ss_x_train), 1], output_size=1, layers_num=2, neurons_num=[100, 1], activations=['tanh', 'linear'])\n",
    "nn_ss_tanh.fit(x_train=ss_x_train, y_train=ss_y_train, batch_size=2, n_epochs=n_epochs, x_test=ss_x_test, y_test=ss_y_test, learning_rate=0.0003)"
   ]
  },
  {
   "cell_type": "code",
   "execution_count": 81,
   "metadata": {},
   "outputs": [],
   "source": [
    "nn_ss_relu = NN(input_shape=[len(ss_x_train), 1], output_size=1, layers_num=2, neurons_num=[100, 1], activations=['ReLU', 'linear'])\n",
    "nn_ss_relu.fit(x_train=ss_x_train, y_train=ss_y_train, batch_size=2, n_epochs=n_epochs, x_test=ss_x_test, y_test=ss_y_test, learning_rate=0.0003)"
   ]
  },
  {
   "cell_type": "code",
   "execution_count": 82,
   "metadata": {},
   "outputs": [
    {
     "data": {
      "image/png": "[encoded data removed]",
      "text/plain": [
       "<Figure size 432x288 with 1 Axes>"
      ]
     },
     "metadata": {
      "needs_background": "light"
     },
     "output_type": "display_data"
    }
   ],
   "source": [
    "loss_sigmoid = nn_ss_sigmoid.mse_array\n",
    "loss_linear = nn_ss_linear.mse_array\n",
    "loss_tanh = nn_ss_tanh.mse_array\n",
    "loss_relu = nn_ss_relu.mse_array\n",
    "\n",
    "plt.plot(range(len(loss_sigmoid)), loss_sigmoid)\n",
    "plt.plot(range(len(loss_linear)), loss_linear)\n",
    "plt.plot(range(len(loss_tanh)), loss_tanh)\n",
    "plt.plot(range(len(loss_relu)), loss_relu)\n",
    "plt.legend(['sigmoid', 'linear', 'tanh', 'relu'])\n",
    "plt.xlabel('epoch number')\n",
    "plt.ylabel('MSE')\n",
    "plt.show()"
   ]
  },
  {
   "cell_type": "markdown",
   "metadata": {},
   "source": [
    "Najszybsza zbieżność jest dla `tanh`, potem `relu`, potem `sigmoid`, potem `linear`."
   ]
  },
  {
   "cell_type": "markdown",
   "metadata": {},
   "source": [
    "## Zbiór `multimodal_large`"
   ]
  },
  {
   "cell_type": "code",
   "execution_count": 83,
   "metadata": {},
   "outputs": [
    {
     "ename": "FileNotFoundError",
     "evalue": "[Errno 2] No such file or directory: './mio1/regression/multimodal-large.csv'",
     "output_type": "error",
     "traceback": [
      "\u001b[0;31m---------------------------------------------------------------------------\u001b[0m",
      "\u001b[0;31mFileNotFoundError\u001b[0m                         Traceback (most recent call last)",
      "\u001b[0;32m<ipython-input-83-4e6cf717bbf3>\u001b[0m in \u001b[0;36m<module>\u001b[0;34m\u001b[0m\n\u001b[0;32m----> 1\u001b[0;31m \u001b[0mml_train\u001b[0m \u001b[0;34m=\u001b[0m \u001b[0mpd\u001b[0m\u001b[0;34m.\u001b[0m\u001b[0mread_csv\u001b[0m\u001b[0;34m(\u001b[0m\u001b[0;34m'./mio1/regression/multimodal-large.csv'\u001b[0m\u001b[0;34m,\u001b[0m \u001b[0mindex_col\u001b[0m\u001b[0;34m=\u001b[0m\u001b[0;36m0\u001b[0m\u001b[0;34m)\u001b[0m\u001b[0;34m\u001b[0m\u001b[0;34m\u001b[0m\u001b[0m\n\u001b[0m\u001b[1;32m      2\u001b[0m \u001b[0mml_x_train\u001b[0m \u001b[0;34m=\u001b[0m \u001b[0mnp\u001b[0m\u001b[0;34m.\u001b[0m\u001b[0mreshape\u001b[0m\u001b[0;34m(\u001b[0m\u001b[0mnp\u001b[0m\u001b[0;34m.\u001b[0m\u001b[0marray\u001b[0m\u001b[0;34m(\u001b[0m\u001b[0mml_train\u001b[0m\u001b[0;34m.\u001b[0m\u001b[0mx\u001b[0m\u001b[0;34m)\u001b[0m\u001b[0;34m,\u001b[0m \u001b[0;34m(\u001b[0m\u001b[0mlen\u001b[0m\u001b[0;34m(\u001b[0m\u001b[0mml_train\u001b[0m\u001b[0;34m.\u001b[0m\u001b[0mx\u001b[0m\u001b[0;34m)\u001b[0m\u001b[0;34m,\u001b[0m \u001b[0;36m1\u001b[0m\u001b[0;34m)\u001b[0m\u001b[0;34m)\u001b[0m\u001b[0;34m\u001b[0m\u001b[0;34m\u001b[0m\u001b[0m\n\u001b[1;32m      3\u001b[0m \u001b[0mml_y_train\u001b[0m \u001b[0;34m=\u001b[0m \u001b[0mnp\u001b[0m\u001b[0;34m.\u001b[0m\u001b[0mreshape\u001b[0m\u001b[0;34m(\u001b[0m\u001b[0mnp\u001b[0m\u001b[0;34m.\u001b[0m\u001b[0marray\u001b[0m\u001b[0;34m(\u001b[0m\u001b[0mml_train\u001b[0m\u001b[0;34m.\u001b[0m\u001b[0my\u001b[0m\u001b[0;34m)\u001b[0m\u001b[0;34m,\u001b[0m \u001b[0;34m(\u001b[0m\u001b[0mlen\u001b[0m\u001b[0;34m(\u001b[0m\u001b[0mml_train\u001b[0m\u001b[0;34m.\u001b[0m\u001b[0mx\u001b[0m\u001b[0;34m)\u001b[0m\u001b[0;34m,\u001b[0m \u001b[0;36m1\u001b[0m\u001b[0;34m)\u001b[0m\u001b[0;34m)\u001b[0m\u001b[0;34m\u001b[0m\u001b[0;34m\u001b[0m\u001b[0m\n\u001b[1;32m      4\u001b[0m \u001b[0;34m\u001b[0m\u001b[0m\n\u001b[1;32m      5\u001b[0m \u001b[0;34m\u001b[0m\u001b[0m\n",
      "\u001b[0;32m~/anaconda3/lib/python3.8/site-packages/pandas/util/_decorators.py\u001b[0m in \u001b[0;36mwrapper\u001b[0;34m(*args, **kwargs)\u001b[0m\n\u001b[1;32m    309\u001b[0m                     \u001b[0mstacklevel\u001b[0m\u001b[0;34m=\u001b[0m\u001b[0mstacklevel\u001b[0m\u001b[0;34m,\u001b[0m\u001b[0;34m\u001b[0m\u001b[0;34m\u001b[0m\u001b[0m\n\u001b[1;32m    310\u001b[0m                 )\n\u001b[0;32m--> 311\u001b[0;31m             \u001b[0;32mreturn\u001b[0m \u001b[0mfunc\u001b[0m\u001b[0;34m(\u001b[0m\u001b[0;34m*\u001b[0m\u001b[0margs\u001b[0m\u001b[0;34m,\u001b[0m \u001b[0;34m**\u001b[0m\u001b[0mkwargs\u001b[0m\u001b[0;34m)\u001b[0m\u001b[0;34m\u001b[0m\u001b[0;34m\u001b[0m\u001b[0m\n\u001b[0m\u001b[1;32m    312\u001b[0m \u001b[0;34m\u001b[0m\u001b[0m\n\u001b[1;32m    313\u001b[0m         \u001b[0;32mreturn\u001b[0m \u001b[0mwrapper\u001b[0m\u001b[0;34m\u001b[0m\u001b[0;34m\u001b[0m\u001b[0m\n",
      "\u001b[0;32m~/anaconda3/lib/python3.8/site-packages/pandas/io/parsers/readers.py\u001b[0m in \u001b[0;36mread_csv\u001b[0;34m(filepath_or_buffer, sep, delimiter, header, names, index_col, usecols, squeeze, prefix, mangle_dupe_cols, dtype, engine, converters, true_values, false_values, skipinitialspace, skiprows, skipfooter, nrows, na_values, keep_default_na, na_filter, verbose, skip_blank_lines, parse_dates, infer_datetime_format, keep_date_col, date_parser, dayfirst, cache_dates, iterator, chunksize, compression, thousands, decimal, lineterminator, quotechar, quoting, doublequote, escapechar, comment, encoding, encoding_errors, dialect, error_bad_lines, warn_bad_lines, on_bad_lines, delim_whitespace, low_memory, memory_map, float_precision, storage_options)\u001b[0m\n\u001b[1;32m    678\u001b[0m     \u001b[0mkwds\u001b[0m\u001b[0;34m.\u001b[0m\u001b[0mupdate\u001b[0m\u001b[0;34m(\u001b[0m\u001b[0mkwds_defaults\u001b[0m\u001b[0;34m)\u001b[0m\u001b[0;34m\u001b[0m\u001b[0;34m\u001b[0m\u001b[0m\n\u001b[1;32m    679\u001b[0m \u001b[0;34m\u001b[0m\u001b[0m\n\u001b[0;32m--> 680\u001b[0;31m     \u001b[0;32mreturn\u001b[0m \u001b[0m_read\u001b[0m\u001b[0;34m(\u001b[0m\u001b[0mfilepath_or_buffer\u001b[0m\u001b[0;34m,\u001b[0m \u001b[0mkwds\u001b[0m\u001b[0;34m)\u001b[0m\u001b[0;34m\u001b[0m\u001b[0;34m\u001b[0m\u001b[0m\n\u001b[0m\u001b[1;32m    681\u001b[0m \u001b[0;34m\u001b[0m\u001b[0m\n\u001b[1;32m    682\u001b[0m \u001b[0;34m\u001b[0m\u001b[0m\n",
      "\u001b[0;32m~/anaconda3/lib/python3.8/site-packages/pandas/io/parsers/readers.py\u001b[0m in \u001b[0;36m_read\u001b[0;34m(filepath_or_buffer, kwds)\u001b[0m\n\u001b[1;32m    573\u001b[0m \u001b[0;34m\u001b[0m\u001b[0m\n\u001b[1;32m    574\u001b[0m     \u001b[0;31m# Create the parser.\u001b[0m\u001b[0;34m\u001b[0m\u001b[0;34m\u001b[0m\u001b[0;34m\u001b[0m\u001b[0m\n\u001b[0;32m--> 575\u001b[0;31m     \u001b[0mparser\u001b[0m \u001b[0;34m=\u001b[0m \u001b[0mTextFileReader\u001b[0m\u001b[0;34m(\u001b[0m\u001b[0mfilepath_or_buffer\u001b[0m\u001b[0;34m,\u001b[0m \u001b[0;34m**\u001b[0m\u001b[0mkwds\u001b[0m\u001b[0;34m)\u001b[0m\u001b[0;34m\u001b[0m\u001b[0;34m\u001b[0m\u001b[0m\n\u001b[0m\u001b[1;32m    576\u001b[0m \u001b[0;34m\u001b[0m\u001b[0m\n\u001b[1;32m    577\u001b[0m     \u001b[0;32mif\u001b[0m \u001b[0mchunksize\u001b[0m \u001b[0;32mor\u001b[0m \u001b[0miterator\u001b[0m\u001b[0;34m:\u001b[0m\u001b[0;34m\u001b[0m\u001b[0;34m\u001b[0m\u001b[0m\n",
      "\u001b[0;32m~/anaconda3/lib/python3.8/site-packages/pandas/io/parsers/readers.py\u001b[0m in \u001b[0;36m__init__\u001b[0;34m(self, f, engine, **kwds)\u001b[0m\n\u001b[1;32m    931\u001b[0m \u001b[0;34m\u001b[0m\u001b[0m\n\u001b[1;32m    932\u001b[0m         \u001b[0mself\u001b[0m\u001b[0;34m.\u001b[0m\u001b[0mhandles\u001b[0m\u001b[0;34m:\u001b[0m \u001b[0mIOHandles\u001b[0m \u001b[0;34m|\u001b[0m \u001b[0;32mNone\u001b[0m \u001b[0;34m=\u001b[0m \u001b[0;32mNone\u001b[0m\u001b[0;34m\u001b[0m\u001b[0;34m\u001b[0m\u001b[0m\n\u001b[0;32m--> 933\u001b[0;31m         \u001b[0mself\u001b[0m\u001b[0;34m.\u001b[0m\u001b[0m_engine\u001b[0m \u001b[0;34m=\u001b[0m \u001b[0mself\u001b[0m\u001b[0;34m.\u001b[0m\u001b[0m_make_engine\u001b[0m\u001b[0;34m(\u001b[0m\u001b[0mf\u001b[0m\u001b[0;34m,\u001b[0m \u001b[0mself\u001b[0m\u001b[0;34m.\u001b[0m\u001b[0mengine\u001b[0m\u001b[0;34m)\u001b[0m\u001b[0;34m\u001b[0m\u001b[0;34m\u001b[0m\u001b[0m\n\u001b[0m\u001b[1;32m    934\u001b[0m \u001b[0;34m\u001b[0m\u001b[0m\n\u001b[1;32m    935\u001b[0m     \u001b[0;32mdef\u001b[0m \u001b[0mclose\u001b[0m\u001b[0;34m(\u001b[0m\u001b[0mself\u001b[0m\u001b[0;34m)\u001b[0m\u001b[0;34m:\u001b[0m\u001b[0;34m\u001b[0m\u001b[0;34m\u001b[0m\u001b[0m\n",
      "\u001b[0;32m~/anaconda3/lib/python3.8/site-packages/pandas/io/parsers/readers.py\u001b[0m in \u001b[0;36m_make_engine\u001b[0;34m(self, f, engine)\u001b[0m\n\u001b[1;32m   1215\u001b[0m             \u001b[0;31m# \"Union[str, PathLike[str], ReadCsvBuffer[bytes], ReadCsvBuffer[str]]\"\u001b[0m\u001b[0;34m\u001b[0m\u001b[0;34m\u001b[0m\u001b[0;34m\u001b[0m\u001b[0m\n\u001b[1;32m   1216\u001b[0m             \u001b[0;31m# , \"str\", \"bool\", \"Any\", \"Any\", \"Any\", \"Any\", \"Any\"\u001b[0m\u001b[0;34m\u001b[0m\u001b[0;34m\u001b[0m\u001b[0;34m\u001b[0m\u001b[0m\n\u001b[0;32m-> 1217\u001b[0;31m             self.handles = get_handle(  # type: ignore[call-overload]\n\u001b[0m\u001b[1;32m   1218\u001b[0m                 \u001b[0mf\u001b[0m\u001b[0;34m,\u001b[0m\u001b[0;34m\u001b[0m\u001b[0;34m\u001b[0m\u001b[0m\n\u001b[1;32m   1219\u001b[0m                 \u001b[0mmode\u001b[0m\u001b[0;34m,\u001b[0m\u001b[0;34m\u001b[0m\u001b[0;34m\u001b[0m\u001b[0m\n",
      "\u001b[0;32m~/anaconda3/lib/python3.8/site-packages/pandas/io/common.py\u001b[0m in \u001b[0;36mget_handle\u001b[0;34m(path_or_buf, mode, encoding, compression, memory_map, is_text, errors, storage_options)\u001b[0m\n\u001b[1;32m    787\u001b[0m         \u001b[0;32mif\u001b[0m \u001b[0mioargs\u001b[0m\u001b[0;34m.\u001b[0m\u001b[0mencoding\u001b[0m \u001b[0;32mand\u001b[0m \u001b[0;34m\"b\"\u001b[0m \u001b[0;32mnot\u001b[0m \u001b[0;32min\u001b[0m \u001b[0mioargs\u001b[0m\u001b[0;34m.\u001b[0m\u001b[0mmode\u001b[0m\u001b[0;34m:\u001b[0m\u001b[0;34m\u001b[0m\u001b[0;34m\u001b[0m\u001b[0m\n\u001b[1;32m    788\u001b[0m             \u001b[0;31m# Encoding\u001b[0m\u001b[0;34m\u001b[0m\u001b[0;34m\u001b[0m\u001b[0;34m\u001b[0m\u001b[0m\n\u001b[0;32m--> 789\u001b[0;31m             handle = open(\n\u001b[0m\u001b[1;32m    790\u001b[0m                 \u001b[0mhandle\u001b[0m\u001b[0;34m,\u001b[0m\u001b[0;34m\u001b[0m\u001b[0;34m\u001b[0m\u001b[0m\n\u001b[1;32m    791\u001b[0m                 \u001b[0mioargs\u001b[0m\u001b[0;34m.\u001b[0m\u001b[0mmode\u001b[0m\u001b[0;34m,\u001b[0m\u001b[0;34m\u001b[0m\u001b[0;34m\u001b[0m\u001b[0m\n",
      "\u001b[0;31mFileNotFoundError\u001b[0m: [Errno 2] No such file or directory: './mio1/regression/multimodal-large.csv'"
     ]
    }
   ],
   "source": [
    "ml_train = pd.read_csv('./mio1/regression/multimodal-large.csv', index_col=0)\n",
    "ml_x_train = np.reshape(np.array(ml_train.x), (len(ml_train.x), 1))\n",
    "ml_y_train = np.reshape(np.array(ml_train.y), (len(ml_train.x), 1))\n",
    "\n",
    "\n",
    "ml_test = pd.read_csv('./mio1/regression/multimodal-large.csv', index_col=0)\n",
    "ml_x_test = np.reshape(np.array(ml_test.x), (len(ml_test.x), 1))\n",
    "ml_y_test = np.reshape(np.array(ml_test.y), (len(ml_test.x), 1))"
   ]
  },
  {
   "cell_type": "code",
   "execution_count": null,
   "metadata": {},
   "outputs": [],
   "source": [
    "n_epochs = 20"
   ]
  },
  {
   "cell_type": "code",
   "execution_count": null,
   "metadata": {},
   "outputs": [],
   "source": [
    "nn_ml_sigmoid = NN(input_shape=[len(ss_x_train), 1], output_size=1, layers_num=2, neurons_num=[100, 1], activations=['sigmoid', 'linear'])\n",
    "nn_ml_sigmoid.fit(x_train=ml_x_train, y_train=ml_y_train, batch_size=2, n_epochs=n_epochs, x_test=ml_x_test, y_test=ml_y_test, learning_rate=0.0003)"
   ]
  },
  {
   "cell_type": "code",
   "execution_count": null,
   "metadata": {},
   "outputs": [],
   "source": [
    "nn_ml_linear = NN(input_shape=[len(ml_x_train), 1], output_size=1, layers_num=2, neurons_num=[100, 1], activations=['linear', 'linear'])\n",
    "nn_ml_linear.fit(x_train=ml_x_train, y_train=ml_y_train, batch_size=2, n_epochs=n_epochs, x_test=ml_x_test, y_test=ml_y_test, learning_rate=0.0003)"
   ]
  },
  {
   "cell_type": "code",
   "execution_count": null,
   "metadata": {},
   "outputs": [],
   "source": [
    "nn_ml_tanh = NN(input_shape=[len(ml_x_train), 1], output_size=1, layers_num=2, neurons_num=[100, 1], activations=['tanh', 'linear'])\n",
    "nn_ml_tanh.fit(x_train=ml_x_train, y_train=ml_y_train, batch_size=2, n_epochs=n_epochs, x_test=ml_x_test, y_test=ml_y_test, learning_rate=0.0003)"
   ]
  },
  {
   "cell_type": "code",
   "execution_count": null,
   "metadata": {},
   "outputs": [],
   "source": [
    "nn_ml_relu = NN(input_shape=[len(ml_x_train), 1], output_size=1, layers_num=2, neurons_num=[100, 1], activations=['ReLU', 'linear'])\n",
    "nn_ml_relu.fit(x_train=ml_x_train, y_train=ml_y_train, batch_size=2, n_epochs=n_epochs, x_test=ml_x_test, y_test=ml_y_test, learning_rate=0.0003)"
   ]
  }
 ],
 "metadata": {
  "kernelspec": {
   "display_name": "Python 3",
   "language": "python",
   "name": "python3"
  },
  "language_info": {
   "codemirror_mode": {
    "name": "ipython",
    "version": 3
   },
   "file_extension": ".py",
   "mimetype": "text/x-python",
   "name": "python",
   "nbconvert_exporter": "python",
   "pygments_lexer": "ipython3",
   "version": "3.8.8"
  }
 },
 "nbformat": 4,
 "nbformat_minor": 4
}
